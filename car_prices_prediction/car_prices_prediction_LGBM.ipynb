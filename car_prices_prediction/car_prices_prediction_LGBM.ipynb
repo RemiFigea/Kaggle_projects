{
 "cells": [
  {
   "cell_type": "code",
   "execution_count": 7,
   "id": "6d6a8418",
   "metadata": {
    "execution": {
     "iopub.execute_input": "2024-09-23T16:24:32.024916Z",
     "iopub.status.busy": "2024-09-23T16:24:32.023815Z",
     "iopub.status.idle": "2024-09-23T16:24:36.531880Z",
     "shell.execute_reply": "2024-09-23T16:24:36.530653Z"
    },
    "papermill": {
     "duration": 4.548439,
     "end_time": "2024-09-23T16:24:36.535227",
     "exception": false,
     "start_time": "2024-09-23T16:24:31.986788",
     "status": "completed"
    },
    "tags": []
   },
   "outputs": [],
   "source": [
    "import datetime as dt\n",
    "import lightgbm\n",
    "from lightgbm import LGBMRegressor\n",
    "import matplotlib.pyplot as plt\n",
    "import numpy as np\n",
    "import optuna\n",
    "import os\n",
    "import pandas as pd\n",
    "import plotly\n",
    "import re\n",
    "from sklearn.base import BaseEstimator, TransformerMixin\n",
    "from sklearn.compose import ColumnTransformer\n",
    "from sklearn.feature_extraction.text import CountVectorizer\n",
    "from sklearn.impute import SimpleImputer\n",
    "from sklearn.linear_model import LinearRegression\n",
    "from sklearn.model_selection import train_test_split, cross_validate\n",
    "from sklearn.pipeline import Pipeline\n",
    "from sklearn.preprocessing import StandardScaler, OneHotEncoder, OrdinalEncoder\n",
    "import seaborn as sns\n",
    "import string\n",
    "import warnings\n",
    "\n",
    "# ---- Reduction of verbosity\n",
    "#\n",
    "warnings.filterwarnings(\"ignore\")\n",
    "optuna.logging.set_verbosity(optuna.logging.WARNING)\n",
    "\n",
    "\n",
    "# ---- Adapt size of column when displaying DataFrame\n",
    "#\n",
    "pd.set_option('display.max_colwidth', None)"
   ]
  },
  {
   "cell_type": "code",
   "execution_count": null,
   "id": "d43acd98",
   "metadata": {
    "execution": {
     "iopub.execute_input": "2024-09-23T16:24:36.605144Z",
     "iopub.status.busy": "2024-09-23T16:24:36.604479Z",
     "iopub.status.idle": "2024-09-23T16:24:36.612853Z",
     "shell.execute_reply": "2024-09-23T16:24:36.610885Z"
    },
    "papermill": {
     "duration": 0.046121,
     "end_time": "2024-09-23T16:24:36.615565",
     "exception": false,
     "start_time": "2024-09-23T16:24:36.569444",
     "status": "completed"
    },
    "tags": []
   },
   "outputs": [],
   "source": [
    "# ---- Get the current working directory where python is executing to adapt filepath used in this notebook\n",
    "#\n",
    "current_directory = os.getcwd()\n",
    "print(\"Current directory :\", current_directory)"
   ]
  },
  {
   "cell_type": "code",
   "execution_count": 9,
   "id": "7963b596",
   "metadata": {
    "execution": {
     "iopub.execute_input": "2024-09-23T16:24:36.684378Z",
     "iopub.status.busy": "2024-09-23T16:24:36.683908Z",
     "iopub.status.idle": "2024-09-23T16:24:36.689553Z",
     "shell.execute_reply": "2024-09-23T16:24:36.688391Z"
    },
    "papermill": {
     "duration": 0.042708,
     "end_time": "2024-09-23T16:24:36.692330",
     "exception": false,
     "start_time": "2024-09-23T16:24:36.649622",
     "status": "completed"
    },
    "tags": []
   },
   "outputs": [],
   "source": [
    "# ---- SKIP THIS SECTION ON KAGGLE ----\n",
    "\n",
    "# ---- Section dedicated to script.py import\n",
    "# \n",
    "import sys\n",
    "\n",
    "# ---- Specify path to the folder containing the scripts\n",
    "#\n",
    "script_path = './scripts'\n",
    "sys.path.append(script_path)\n",
    "\n",
    "# ---- Import the usefull function in the scripts\n",
    "#\n",
    "from visualization import make_barplot, make_hist, make_box_for_discrete_features, make_box_for_continuous_features"
   ]
  },
  {
   "cell_type": "code",
   "execution_count": 10,
   "id": "4564ca64",
   "metadata": {
    "execution": {
     "iopub.execute_input": "2024-09-23T16:24:36.763246Z",
     "iopub.status.busy": "2024-09-23T16:24:36.762760Z",
     "iopub.status.idle": "2024-09-23T16:24:36.769878Z",
     "shell.execute_reply": "2024-09-23T16:24:36.768732Z"
    },
    "papermill": {
     "duration": 0.0468,
     "end_time": "2024-09-23T16:24:36.772719",
     "exception": false,
     "start_time": "2024-09-23T16:24:36.725919",
     "status": "completed"
    },
    "tags": []
   },
   "outputs": [],
   "source": [
    "# ---- Define path to all csv input files\n",
    "#\n",
    "FILEPATH_train = './data/train.csv'\n",
    "FILEPATH_test = './data/test.csv'\n",
    "FILEPATH_sample_submission = './data/sample_submission.csv'\n",
    "# FILEPATH_train = '/kaggle/input/playground-series-s4e9/train.csv'\n",
    "# FILEPATH_test = '/kaggle/input/playground-series-s4e9/test.csv'\n",
    "# FILEPATH_sample_submission = '/kaggle/input/playground-series-s4e9/sample_submission.csv'\n",
    "\n",
    "# ---- Define path that will be used to store output files\n",
    "#\n",
    "OUTPUT_PATH_results = './results'\n",
    "FILEPATH_model_results = f'{OUTPUT_PATH_results}/model_results_LGBM.csv'\n",
    "\n",
    "# ---- Define path to store results of study Optuna\n",
    "relative_path = './results/study_LGBM.db'\n",
    "STUDY_STORAGE_PATH = f'sqlite:///{relative_path}'\n",
    "\n",
    "# ---- Create OUTPUT_PATH_results directory\n",
    "os.makedirs(OUTPUT_PATH_results, exist_ok=True)\n",
    "\n",
    "# ---- Initialize seed\n",
    "# \n",
    "random_state = 32"
   ]
  },
  {
   "cell_type": "markdown",
   "id": "3a07a5cc",
   "metadata": {
    "papermill": {
     "duration": 0.03339,
     "end_time": "2024-09-23T16:24:36.839763",
     "exception": false,
     "start_time": "2024-09-23T16:24:36.806373",
     "status": "completed"
    },
    "tags": []
   },
   "source": [
    "# I. EXPLORATORY DATA ANALASYS"
   ]
  },
  {
   "cell_type": "markdown",
   "id": "249654d2",
   "metadata": {
    "papermill": {
     "duration": 0.033179,
     "end_time": "2024-09-23T16:24:36.906582",
     "exception": false,
     "start_time": "2024-09-23T16:24:36.873403",
     "status": "completed"
    },
    "tags": []
   },
   "source": [
    "## I.1 LOAD DATA AND QUICK EXPLORATION"
   ]
  },
  {
   "cell_type": "code",
   "execution_count": 11,
   "id": "bce27cf1",
   "metadata": {
    "execution": {
     "iopub.execute_input": "2024-09-23T16:24:36.974541Z",
     "iopub.status.busy": "2024-09-23T16:24:36.974082Z",
     "iopub.status.idle": "2024-09-23T16:24:38.018462Z",
     "shell.execute_reply": "2024-09-23T16:24:38.017238Z"
    },
    "papermill": {
     "duration": 1.081538,
     "end_time": "2024-09-23T16:24:38.021434",
     "exception": false,
     "start_time": "2024-09-23T16:24:36.939896",
     "status": "completed"
    },
    "tags": []
   },
   "outputs": [],
   "source": [
    "# ---- Load train data\n",
    "#\n",
    "data = pd.read_csv(FILEPATH_train)"
   ]
  },
  {
   "cell_type": "code",
   "execution_count": null,
   "id": "7260a0dc",
   "metadata": {
    "execution": {
     "iopub.execute_input": "2024-09-23T16:24:38.091882Z",
     "iopub.status.busy": "2024-09-23T16:24:38.091424Z",
     "iopub.status.idle": "2024-09-23T16:24:38.122621Z",
     "shell.execute_reply": "2024-09-23T16:24:38.121327Z"
    },
    "papermill": {
     "duration": 0.069946,
     "end_time": "2024-09-23T16:24:38.125594",
     "exception": false,
     "start_time": "2024-09-23T16:24:38.055648",
     "status": "completed"
    },
    "tags": []
   },
   "outputs": [],
   "source": [
    "data.head(3)"
   ]
  },
  {
   "cell_type": "code",
   "execution_count": null,
   "id": "6582f7f5",
   "metadata": {
    "execution": {
     "iopub.execute_input": "2024-09-23T16:24:38.197250Z",
     "iopub.status.busy": "2024-09-23T16:24:38.195921Z",
     "iopub.status.idle": "2024-09-23T16:24:38.251542Z",
     "shell.execute_reply": "2024-09-23T16:24:38.250436Z"
    },
    "papermill": {
     "duration": 0.093553,
     "end_time": "2024-09-23T16:24:38.254105",
     "exception": false,
     "start_time": "2024-09-23T16:24:38.160552",
     "status": "completed"
    },
    "tags": []
   },
   "outputs": [],
   "source": [
    "data.describe()"
   ]
  },
  {
   "cell_type": "code",
   "execution_count": null,
   "id": "4127fdff",
   "metadata": {
    "execution": {
     "iopub.execute_input": "2024-09-23T16:24:38.326369Z",
     "iopub.status.busy": "2024-09-23T16:24:38.325908Z",
     "iopub.status.idle": "2024-09-23T16:24:38.530340Z",
     "shell.execute_reply": "2024-09-23T16:24:38.528806Z"
    },
    "papermill": {
     "duration": 0.24468,
     "end_time": "2024-09-23T16:24:38.533293",
     "exception": false,
     "start_time": "2024-09-23T16:24:38.288613",
     "status": "completed"
    },
    "tags": []
   },
   "outputs": [],
   "source": [
    "data.info()"
   ]
  },
  {
   "cell_type": "code",
   "execution_count": null,
   "id": "bb2d5eeb",
   "metadata": {
    "execution": {
     "iopub.execute_input": "2024-09-23T16:24:38.605187Z",
     "iopub.status.busy": "2024-09-23T16:24:38.604725Z",
     "iopub.status.idle": "2024-09-23T16:24:38.613412Z",
     "shell.execute_reply": "2024-09-23T16:24:38.611502Z"
    },
    "papermill": {
     "duration": 0.048302,
     "end_time": "2024-09-23T16:24:38.616709",
     "exception": false,
     "start_time": "2024-09-23T16:24:38.568407",
     "status": "completed"
    },
    "tags": []
   },
   "outputs": [],
   "source": [
    "# ---- Get numerical features names\n",
    "#\n",
    "numerical_features = ['model_year', 'milage']\n",
    "numerical_features"
   ]
  },
  {
   "cell_type": "code",
   "execution_count": null,
   "id": "d92a1f38",
   "metadata": {
    "execution": {
     "iopub.execute_input": "2024-09-23T16:24:38.691053Z",
     "iopub.status.busy": "2024-09-23T16:24:38.690586Z",
     "iopub.status.idle": "2024-09-23T16:24:38.708773Z",
     "shell.execute_reply": "2024-09-23T16:24:38.707462Z"
    },
    "papermill": {
     "duration": 0.058701,
     "end_time": "2024-09-23T16:24:38.711508",
     "exception": false,
     "start_time": "2024-09-23T16:24:38.652807",
     "status": "completed"
    },
    "tags": []
   },
   "outputs": [],
   "source": [
    "# ---- Get categorical features names\n",
    "# \n",
    "object_columns = data.select_dtypes(include=['object'])\n",
    "categorical_features = object_columns.columns.to_list()\n",
    "categorical_features"
   ]
  },
  {
   "cell_type": "code",
   "execution_count": null,
   "id": "66f35d41",
   "metadata": {
    "execution": {
     "iopub.execute_input": "2024-09-23T16:24:38.785055Z",
     "iopub.status.busy": "2024-09-23T16:24:38.784554Z",
     "iopub.status.idle": "2024-09-23T16:24:38.950928Z",
     "shell.execute_reply": "2024-09-23T16:24:38.949688Z"
    },
    "papermill": {
     "duration": 0.205529,
     "end_time": "2024-09-23T16:24:38.953511",
     "exception": false,
     "start_time": "2024-09-23T16:24:38.747982",
     "status": "completed"
    },
    "tags": []
   },
   "outputs": [],
   "source": [
    "# ---- Print number of category for each feature\n",
    "# \n",
    "for feature in categorical_features:\n",
    "    print(feature, ': ', data[feature].nunique())"
   ]
  },
  {
   "cell_type": "code",
   "execution_count": null,
   "id": "a775f80d",
   "metadata": {
    "execution": {
     "iopub.execute_input": "2024-09-23T16:24:39.025403Z",
     "iopub.status.busy": "2024-09-23T16:24:39.024936Z",
     "iopub.status.idle": "2024-09-23T16:24:39.346999Z",
     "shell.execute_reply": "2024-09-23T16:24:39.343990Z"
    },
    "papermill": {
     "duration": 0.361063,
     "end_time": "2024-09-23T16:24:39.349998",
     "exception": false,
     "start_time": "2024-09-23T16:24:38.988935",
     "status": "completed"
    },
    "tags": []
   },
   "outputs": [],
   "source": [
    "# ---- Explore deeper\n",
    "# \n",
    "for feature in categorical_features:\n",
    "    print(data[feature].value_counts().nlargest(100), '\\n\\n****************************')"
   ]
  },
  {
   "cell_type": "markdown",
   "id": "51c4e35a",
   "metadata": {
    "papermill": {
     "duration": 0.035388,
     "end_time": "2024-09-23T16:24:39.421188",
     "exception": false,
     "start_time": "2024-09-23T16:24:39.385800",
     "status": "completed"
    },
    "tags": []
   },
   "source": [
    "## I.2 SIMPLE DATA CLEANING"
   ]
  },
  {
   "cell_type": "code",
   "execution_count": null,
   "id": "c8e59a88",
   "metadata": {
    "execution": {
     "iopub.execute_input": "2024-09-23T16:24:39.493244Z",
     "iopub.status.busy": "2024-09-23T16:24:39.492817Z",
     "iopub.status.idle": "2024-09-23T16:24:39.681151Z",
     "shell.execute_reply": "2024-09-23T16:24:39.679917Z"
    },
    "papermill": {
     "duration": 0.227597,
     "end_time": "2024-09-23T16:24:39.683940",
     "exception": false,
     "start_time": "2024-09-23T16:24:39.456343",
     "status": "completed"
    },
    "tags": []
   },
   "outputs": [],
   "source": [
    "data.isna().sum()"
   ]
  },
  {
   "cell_type": "code",
   "execution_count": 14,
   "id": "390ab6c4",
   "metadata": {
    "execution": {
     "iopub.execute_input": "2024-09-23T16:24:39.815030Z",
     "iopub.status.busy": "2024-09-23T16:24:39.814547Z",
     "iopub.status.idle": "2024-09-23T16:24:39.824241Z",
     "shell.execute_reply": "2024-09-23T16:24:39.823050Z"
    },
    "papermill": {
     "duration": 0.107108,
     "end_time": "2024-09-23T16:24:39.827043",
     "exception": false,
     "start_time": "2024-09-23T16:24:39.719935",
     "status": "completed"
    },
    "tags": []
   },
   "outputs": [],
   "source": [
    "def simple_cleaning(data):\n",
    "    '''\n",
    "    Replaces missing values with 'Unknown' in specific columns\n",
    "    and converts text in categorical columns to lowercase.\n",
    "    \n",
    "    Parameters:\n",
    "    ___________\n",
    "    data: pd.DataFrame\n",
    "        The DataFrame to clean.\n",
    "    \n",
    "    Returns:\n",
    "    ________\n",
    "    data: pd.DataFrame\n",
    "        The DataFrame cleaned, with text values converted to lowercase.\n",
    "    '''    \n",
    "    # ---- Assign 'unknown' in column 'clean_title' and 'fuel_type' for missing values\n",
    "    #\n",
    "    data['clean_title'] = data['clean_title'].fillna('Unknown')\n",
    "    data['fuel_type'] = data['fuel_type'].fillna('Unknown')\n",
    "    data['accident'] = data['accident'].fillna('Unknown')\n",
    "    \n",
    "    # ---- Lowercase text in categorical columns\n",
    "    #\n",
    "    categorical_features = data.select_dtypes(include=['object']).columns\n",
    "    data[categorical_features] = data[categorical_features].apply(lambda x: x.str.lower())\n",
    "    \n",
    "    return data"
   ]
  },
  {
   "cell_type": "code",
   "execution_count": 15,
   "id": "372dd608",
   "metadata": {
    "execution": {
     "iopub.execute_input": "2024-09-23T16:24:39.905017Z",
     "iopub.status.busy": "2024-09-23T16:24:39.903888Z",
     "iopub.status.idle": "2024-09-23T16:24:40.621667Z",
     "shell.execute_reply": "2024-09-23T16:24:40.620410Z"
    },
    "papermill": {
     "duration": 0.75944,
     "end_time": "2024-09-23T16:24:40.624475",
     "exception": false,
     "start_time": "2024-09-23T16:24:39.865035",
     "status": "completed"
    },
    "tags": []
   },
   "outputs": [],
   "source": [
    "data = simple_cleaning(data)"
   ]
  },
  {
   "cell_type": "code",
   "execution_count": null,
   "id": "1e9dd03c",
   "metadata": {
    "execution": {
     "iopub.execute_input": "2024-09-23T16:24:40.699124Z",
     "iopub.status.busy": "2024-09-23T16:24:40.697861Z",
     "iopub.status.idle": "2024-09-23T16:24:40.893986Z",
     "shell.execute_reply": "2024-09-23T16:24:40.892558Z"
    },
    "papermill": {
     "duration": 0.236389,
     "end_time": "2024-09-23T16:24:40.896673",
     "exception": false,
     "start_time": "2024-09-23T16:24:40.660284",
     "status": "completed"
    },
    "tags": []
   },
   "outputs": [],
   "source": [
    "# ---- Check if values are still missing\n",
    "# \n",
    "data.isna().sum()"
   ]
  },
  {
   "cell_type": "code",
   "execution_count": null,
   "id": "9182ce25",
   "metadata": {
    "execution": {
     "iopub.execute_input": "2024-09-23T16:24:40.973831Z",
     "iopub.status.busy": "2024-09-23T16:24:40.973368Z",
     "iopub.status.idle": "2024-09-23T16:24:41.483471Z",
     "shell.execute_reply": "2024-09-23T16:24:41.482044Z"
    },
    "papermill": {
     "duration": 0.551766,
     "end_time": "2024-09-23T16:24:41.486623",
     "exception": false,
     "start_time": "2024-09-23T16:24:40.934857",
     "status": "completed"
    },
    "tags": []
   },
   "outputs": [],
   "source": [
    "# ---- Look for duplicated rows\n",
    "#\n",
    "print(data.duplicated().sum())\n",
    "# ---- Look for duplicated rows skipping column id\n",
    "print(data.iloc[:,1:].duplicated().sum())"
   ]
  },
  {
   "cell_type": "markdown",
   "id": "720dfb90",
   "metadata": {
    "papermill": {
     "duration": 0.036803,
     "end_time": "2024-09-23T16:24:41.561136",
     "exception": false,
     "start_time": "2024-09-23T16:24:41.524333",
     "status": "completed"
    },
    "tags": []
   },
   "source": [
    "## I.3 DATA VISUALIZATION\n"
   ]
  },
  {
   "cell_type": "markdown",
   "id": "d317ea2a",
   "metadata": {
    "papermill": {
     "duration": 0.037324,
     "end_time": "2024-09-23T16:24:41.636190",
     "exception": false,
     "start_time": "2024-09-23T16:24:41.598866",
     "status": "completed"
    },
    "tags": []
   },
   "source": [
    "### I.3.1. LIST OF USEFULL PLOTTING FUNCTIONS"
   ]
  },
  {
   "cell_type": "markdown",
   "id": "cfdb5a11",
   "metadata": {
    "papermill": {
     "duration": 0.037282,
     "end_time": "2024-09-23T16:24:41.809493",
     "exception": false,
     "start_time": "2024-09-23T16:24:41.772211",
     "status": "completed"
    },
    "tags": []
   },
   "source": [
    "### I.3.2. PLOTS"
   ]
  },
  {
   "cell_type": "code",
   "execution_count": null,
   "id": "bb6c8483",
   "metadata": {
    "execution": {
     "iopub.execute_input": "2024-09-23T16:24:41.887103Z",
     "iopub.status.busy": "2024-09-23T16:24:41.886495Z",
     "iopub.status.idle": "2024-09-23T16:24:45.430274Z",
     "shell.execute_reply": "2024-09-23T16:24:45.428972Z"
    },
    "papermill": {
     "duration": 3.586736,
     "end_time": "2024-09-23T16:24:45.433220",
     "exception": false,
     "start_time": "2024-09-23T16:24:41.846484",
     "status": "completed"
    },
    "tags": []
   },
   "outputs": [],
   "source": [
    "make_barplot(data, categorical_features, 10)"
   ]
  },
  {
   "cell_type": "code",
   "execution_count": null,
   "id": "aa0ce720",
   "metadata": {
    "execution": {
     "iopub.execute_input": "2024-09-23T16:24:45.530613Z",
     "iopub.status.busy": "2024-09-23T16:24:45.530131Z",
     "iopub.status.idle": "2024-09-23T16:24:46.827332Z",
     "shell.execute_reply": "2024-09-23T16:24:46.825719Z"
    },
    "papermill": {
     "duration": 1.352736,
     "end_time": "2024-09-23T16:24:46.831769",
     "exception": false,
     "start_time": "2024-09-23T16:24:45.479033",
     "status": "completed"
    },
    "tags": []
   },
   "outputs": [],
   "source": [
    "make_hist(data, numerical_features + ['price'])"
   ]
  },
  {
   "cell_type": "code",
   "execution_count": 21,
   "id": "2230e270",
   "metadata": {
    "execution": {
     "iopub.execute_input": "2024-09-23T16:24:46.935093Z",
     "iopub.status.busy": "2024-09-23T16:24:46.934624Z",
     "iopub.status.idle": "2024-09-23T16:24:46.969734Z",
     "shell.execute_reply": "2024-09-23T16:24:46.968442Z"
    },
    "papermill": {
     "duration": 0.089812,
     "end_time": "2024-09-23T16:24:46.973447",
     "exception": false,
     "start_time": "2024-09-23T16:24:46.883635",
     "status": "completed"
    },
    "tags": []
   },
   "outputs": [],
   "source": [
    "X_df = data.drop(['price'], axis=1)\n",
    "y_df = data.price\n",
    "\n",
    "discrete_features_to_plot = ['model_year'] + categorical_features\n",
    "continious_features_to_plot = ['milage']"
   ]
  },
  {
   "cell_type": "code",
   "execution_count": null,
   "id": "02a9ee3c",
   "metadata": {
    "execution": {
     "iopub.execute_input": "2024-09-23T16:24:47.075633Z",
     "iopub.status.busy": "2024-09-23T16:24:47.075056Z",
     "iopub.status.idle": "2024-09-23T16:26:09.416259Z",
     "shell.execute_reply": "2024-09-23T16:26:09.415038Z"
    },
    "papermill": {
     "duration": 82.39644,
     "end_time": "2024-09-23T16:26:09.418888",
     "exception": false,
     "start_time": "2024-09-23T16:24:47.022448",
     "status": "completed"
    },
    "tags": []
   },
   "outputs": [],
   "source": [
    "make_box_for_continuous_features(X_df, continious_features_to_plot, y_df, bins=100, ylim=(-1000,180000))\n",
    "make_box_for_discrete_features(X_df, discrete_features_to_plot, y_df)"
   ]
  },
  {
   "cell_type": "markdown",
   "id": "486834c2",
   "metadata": {
    "papermill": {
     "duration": 0.1051,
     "end_time": "2024-09-23T16:26:09.630996",
     "exception": false,
     "start_time": "2024-09-23T16:26:09.525896",
     "status": "completed"
    },
    "tags": []
   },
   "source": [
    "**We observe a clear relationship between the feature milage and price, as well as between model_year and price. However, no significant trend is apparent between the categorical features and price when examining the \"raw data.\"**\n",
    "\n",
    "**For an initial model, we will apply standard scaling to the numerical features and one-hot encoding to the categorical features. In a subsequent step, we may explore further data engineering, such as reorganizing categorical features and applying ordinal encoding, to potentially improve the model.**"
   ]
  },
  {
   "cell_type": "markdown",
   "id": "bf1ce9b9",
   "metadata": {
    "papermill": {
     "duration": 0.101513,
     "end_time": "2024-09-23T16:26:09.832907",
     "exception": false,
     "start_time": "2024-09-23T16:26:09.731394",
     "status": "completed"
    },
    "tags": []
   },
   "source": [
    "# **II. MODELISATION**"
   ]
  },
  {
   "cell_type": "markdown",
   "id": "fb0507ff",
   "metadata": {
    "papermill": {
     "duration": 0.098346,
     "end_time": "2024-09-23T16:26:10.029874",
     "exception": false,
     "start_time": "2024-09-23T16:26:09.931528",
     "status": "completed"
    },
    "tags": []
   },
   "source": [
    "## II.1. FIRST, SOME USEFULL FUNCTIONS WE WILL USE LATER TO STORE MODELS RESULTS"
   ]
  },
  {
   "cell_type": "code",
   "execution_count": 23,
   "id": "d8879abb",
   "metadata": {
    "execution": {
     "iopub.execute_input": "2024-09-23T16:26:10.229711Z",
     "iopub.status.busy": "2024-09-23T16:26:10.229146Z",
     "iopub.status.idle": "2024-09-23T16:26:10.240060Z",
     "shell.execute_reply": "2024-09-23T16:26:10.238861Z"
    },
    "papermill": {
     "duration": 0.114869,
     "end_time": "2024-09-23T16:26:10.242716",
     "exception": false,
     "start_time": "2024-09-23T16:26:10.127847",
     "status": "completed"
    },
    "tags": []
   },
   "outputs": [],
   "source": [
    "def save_metrics(results_df, column_to_sort='mean_test_rmse', comment=None, filepath=FILEPATH_model_results):\n",
    "    '''\n",
    "    Save the metrics of the trained models to a CSV file at the specified filepath.\n",
    "    If the file exists, it appends new results; otherwise, it creates a new file.\n",
    "    \n",
    "    Parameters\n",
    "    ----------\n",
    "    results_df : pandas.DataFrame\n",
    "        The DataFrame containing the results of all trained models.\n",
    "    column_to_sort : str, optional\n",
    "        Column to use for sorting the dataset, by default 'mean_test_rmse'.\n",
    "    comment : str, optional\n",
    "        An optional comment to append to the results, by default None.\n",
    "    filepath: str, optional\n",
    "        The path to the results. By default, uses FILEPATH_model_results.\n",
    "    \n",
    "    Returns\n",
    "    -------\n",
    "    None\n",
    "        The function either creates or appends to a CSV file (with path FILEPATH_model_results) with the new results.\n",
    "    '''\n",
    "    # ---- Add comment columns to the given DataFrame\n",
    "    #\n",
    "    results_df['comment'] = comment\n",
    "    \n",
    "    # ----Check if the file already exists\n",
    "    #\n",
    "    if os.path.exists(filepath):\n",
    "        # ---- If the file exists, read the current data and append new data\n",
    "        #\n",
    "        existing_df = pd.read_csv(filepath, sep=';')\n",
    "        updated_df = pd.concat([existing_df, results_df], ignore_index=True)\n",
    "    else:\n",
    "        # ---- If the file doesn't exist, create a new DataFrame\n",
    "        #\n",
    "        updated_df = results_df\n",
    "    \n",
    "    updated_df = updated_df.sort_values(column_to_sort)\n",
    "    \n",
    "    # ---- Drop duplicates if exist\n",
    "    #\n",
    "    updated_df.drop_duplicates(inplace=True)\n",
    "    \n",
    "    # ---- Write the updated DataFrame to the CSV file\n",
    "    #\n",
    "    # ---- Extract the name of the path of the directory where should be store the file\n",
    "    directory = os.path.dirname(filepath)\n",
    "    \n",
    "    # ---- Create the path to the directory if not exist\n",
    "    if directory:\n",
    "        os.makedirs(directory, exist_ok=True)\n",
    "    \n",
    "    # ---- Save file to .csv\n",
    "    updated_df.to_csv(filepath, index=False, sep=';')\n"
   ]
  },
  {
   "cell_type": "code",
   "execution_count": 24,
   "id": "076e6b92",
   "metadata": {
    "execution": {
     "iopub.execute_input": "2024-09-23T16:26:10.442753Z",
     "iopub.status.busy": "2024-09-23T16:26:10.442194Z",
     "iopub.status.idle": "2024-09-23T16:26:10.450974Z",
     "shell.execute_reply": "2024-09-23T16:26:10.449681Z"
    },
    "papermill": {
     "duration": 0.111779,
     "end_time": "2024-09-23T16:26:10.453671",
     "exception": false,
     "start_time": "2024-09-23T16:26:10.341892",
     "status": "completed"
    },
    "tags": []
   },
   "outputs": [],
   "source": [
    "def format_study_results_to_df(study, random_state):\n",
    "    '''\n",
    "    Extract trial results and parameters from an Optuna study into a DataFrame.\n",
    "\n",
    "    This function extracts completion date, user-defined attributes, and hyperparameters\n",
    "    for each trial in the given Optuna study. It compiles this data into a DataFrame and sorts\n",
    "    it by the 'mean_test_rmse' column in descending order.\n",
    "\n",
    "    Parameters:\n",
    "    ----------\n",
    "        study: optuna.study.Study\n",
    "            The Optuna study object containing trials.\n",
    "        random_state: int\n",
    "            The random state used during model training, to be included in the DataFrame.\n",
    "\n",
    "    Returns:\n",
    "    --------\n",
    "        results_df: pd.DataFrame\n",
    "            A DataFrame with trial completion date (`study_date`), user attributes, and hyperparameters.\n",
    "    '''\n",
    "\n",
    "    results_list = []\n",
    "\n",
    "    for trial in study.trials:\n",
    "        \n",
    "        study_date = trial.datetime_complete.strftime(\"%Y%m%d_%H%M%S\") \n",
    "        \n",
    "        results_list.append({\n",
    "            'study_date': study_date,\n",
    "            **trial.user_attrs,\n",
    "            **trial.params,\n",
    "            'random_state': random_state\n",
    "        })\n",
    "\n",
    "    results_df = pd.DataFrame.from_dict(results_list).sort_values(['mean_test_rmse'], ascending=False)\n",
    "\n",
    "    return results_df\n"
   ]
  },
  {
   "cell_type": "markdown",
   "id": "71746084",
   "metadata": {
    "papermill": {
     "duration": 0.096128,
     "end_time": "2024-09-23T16:26:10.650480",
     "exception": false,
     "start_time": "2024-09-23T16:26:10.554352",
     "status": "completed"
    },
    "tags": []
   },
   "source": [
    "## II.2. DATA PREPARATION"
   ]
  },
  {
   "cell_type": "code",
   "execution_count": 25,
   "id": "99696856",
   "metadata": {
    "execution": {
     "iopub.execute_input": "2024-09-23T16:26:10.848400Z",
     "iopub.status.busy": "2024-09-23T16:26:10.847693Z",
     "iopub.status.idle": "2024-09-23T16:26:10.881176Z",
     "shell.execute_reply": "2024-09-23T16:26:10.880150Z"
    },
    "papermill": {
     "duration": 0.136557,
     "end_time": "2024-09-23T16:26:10.883908",
     "exception": false,
     "start_time": "2024-09-23T16:26:10.747351",
     "status": "completed"
    },
    "tags": []
   },
   "outputs": [],
   "source": [
    "# ---- Select features and target\n",
    "#\n",
    "y = data['price']\n",
    "X = data[numerical_features + categorical_features]"
   ]
  },
  {
   "cell_type": "code",
   "execution_count": null,
   "id": "a9150627",
   "metadata": {
    "execution": {
     "iopub.execute_input": "2024-09-23T16:26:11.083328Z",
     "iopub.status.busy": "2024-09-23T16:26:11.082450Z",
     "iopub.status.idle": "2024-09-23T16:26:11.091626Z",
     "shell.execute_reply": "2024-09-23T16:26:11.090315Z"
    },
    "papermill": {
     "duration": 0.113615,
     "end_time": "2024-09-23T16:26:11.094857",
     "exception": false,
     "start_time": "2024-09-23T16:26:10.981242",
     "status": "completed"
    },
    "tags": []
   },
   "outputs": [],
   "source": [
    "# ----- Check y_train\n",
    "#\n",
    "y.head(5)"
   ]
  },
  {
   "cell_type": "code",
   "execution_count": null,
   "id": "274e0a14",
   "metadata": {
    "execution": {
     "iopub.execute_input": "2024-09-23T16:26:11.296946Z",
     "iopub.status.busy": "2024-09-23T16:26:11.296279Z",
     "iopub.status.idle": "2024-09-23T16:26:11.315413Z",
     "shell.execute_reply": "2024-09-23T16:26:11.314015Z"
    },
    "papermill": {
     "duration": 0.123939,
     "end_time": "2024-09-23T16:26:11.318367",
     "exception": false,
     "start_time": "2024-09-23T16:26:11.194428",
     "status": "completed"
    },
    "tags": []
   },
   "outputs": [],
   "source": [
    "# ----- Check X_train\n",
    "#\n",
    "X.head(5)"
   ]
  },
  {
   "cell_type": "markdown",
   "id": "a2feeff8",
   "metadata": {
    "papermill": {
     "duration": 0.100636,
     "end_time": "2024-09-23T16:26:11.517836",
     "exception": false,
     "start_time": "2024-09-23T16:26:11.417200",
     "status": "completed"
    },
    "tags": []
   },
   "source": [
    "## II.3. PERFORM A SIMPLE MODEL (LINEAR REGRESSION)"
   ]
  },
  {
   "cell_type": "code",
   "execution_count": null,
   "id": "182b9463",
   "metadata": {
    "execution": {
     "iopub.execute_input": "2024-09-23T16:26:11.721585Z",
     "iopub.status.busy": "2024-09-23T16:26:11.720729Z",
     "iopub.status.idle": "2024-09-23T16:26:11.729342Z",
     "shell.execute_reply": "2024-09-23T16:26:11.727938Z"
    },
    "papermill": {
     "duration": 0.11275,
     "end_time": "2024-09-23T16:26:11.732169",
     "exception": false,
     "start_time": "2024-09-23T16:26:11.619419",
     "status": "completed"
    },
    "tags": []
   },
   "outputs": [],
   "source": [
    "# ----- Specify a preprocessing strategy to apply to group of features\n",
    "\n",
    "# ----- Features to scale\n",
    "#\n",
    "features_to_scale = numerical_features.copy()\n",
    "print(f'features to scale: {features_to_scale}')\n",
    "      \n",
    "# ----- Features to encode\n",
    "#\n",
    "features_to_encode = categorical_features.copy()\n",
    "print(f'features_to_encode: {features_to_encode}')"
   ]
  },
  {
   "cell_type": "code",
   "execution_count": 29,
   "id": "0e03d804",
   "metadata": {
    "execution": {
     "iopub.execute_input": "2024-09-23T16:26:11.932216Z",
     "iopub.status.busy": "2024-09-23T16:26:11.931728Z",
     "iopub.status.idle": "2024-09-23T16:26:11.938480Z",
     "shell.execute_reply": "2024-09-23T16:26:11.937244Z"
    },
    "papermill": {
     "duration": 0.110456,
     "end_time": "2024-09-23T16:26:11.941324",
     "exception": false,
     "start_time": "2024-09-23T16:26:11.830868",
     "status": "completed"
    },
    "tags": []
   },
   "outputs": [],
   "source": [
    "# ---- Build the preprocessor for linear regression\n",
    "#\n",
    "preprocessor_LR = ColumnTransformer(\n",
    "    transformers=[\n",
    "        (\"scaler\",  StandardScaler(), numerical_features),\n",
    "        (\"encoder\", OneHotEncoder(drop=\"first\",\n",
    "                                  handle_unknown='ignore',\n",
    "                                 ),\n",
    "         features_to_encode\n",
    "        ),\n",
    "    ]\n",
    ")"
   ]
  },
  {
   "cell_type": "code",
   "execution_count": 30,
   "id": "f5e92f2e",
   "metadata": {
    "execution": {
     "iopub.execute_input": "2024-09-23T16:26:12.147727Z",
     "iopub.status.busy": "2024-09-23T16:26:12.147249Z",
     "iopub.status.idle": "2024-09-23T16:26:12.153377Z",
     "shell.execute_reply": "2024-09-23T16:26:12.151968Z"
    },
    "papermill": {
     "duration": 0.112186,
     "end_time": "2024-09-23T16:26:12.156000",
     "exception": false,
     "start_time": "2024-09-23T16:26:12.043814",
     "status": "completed"
    },
    "tags": []
   },
   "outputs": [],
   "source": [
    "# ---- Build complete pipeline\n",
    "#\n",
    "model = LinearRegression()\n",
    "pipe = Pipeline(steps=[(\"prepro_LR\", preprocessor_LR), (\"model\", model)])"
   ]
  },
  {
   "cell_type": "code",
   "execution_count": null,
   "id": "ce6958e4",
   "metadata": {
    "execution": {
     "iopub.execute_input": "2024-09-23T16:26:12.358918Z",
     "iopub.status.busy": "2024-09-23T16:26:12.358274Z",
     "iopub.status.idle": "2024-09-23T16:26:46.964847Z",
     "shell.execute_reply": "2024-09-23T16:26:46.963460Z"
    },
    "papermill": {
     "duration": 34.813029,
     "end_time": "2024-09-23T16:26:47.068872",
     "exception": false,
     "start_time": "2024-09-23T16:26:12.255843",
     "status": "completed"
    },
    "tags": []
   },
   "outputs": [],
   "source": [
    "# ---- Evaluate model\n",
    "#\n",
    "results = cross_validate(estimator=pipe, X=X, y=y, cv=3, scoring=\"neg_root_mean_squared_error\", return_train_score=True)\n",
    "\n",
    "# ---- Results on train and test sets\n",
    "#\n",
    "train_scores = results['train_score']\n",
    "test_scores = results['test_score']\n",
    "print(f\"train_scores: {train_scores}\")\n",
    "print(f\"test_scores: {test_scores}\")\n",
    "\n",
    "# ---- Mean of the results on test set\n",
    "#\n",
    "mean_test_score = np.mean(test_scores)\n",
    "print(f\"Mean of the results on test set: {mean_test_score}\")"
   ]
  },
  {
   "cell_type": "markdown",
   "id": "62a2a739",
   "metadata": {
    "papermill": {
     "duration": 0.099036,
     "end_time": "2024-09-23T16:26:47.271403",
     "exception": false,
     "start_time": "2024-09-23T16:26:47.172367",
     "status": "completed"
    },
    "tags": []
   },
   "source": [
    "**We observe a significant variance between the results on the training and test sets. It appears that the linear model is not effectively capturing the underlying patterns in the data in its current form.**"
   ]
  },
  {
   "cell_type": "markdown",
   "id": "69e29473",
   "metadata": {
    "papermill": {
     "duration": 0.099887,
     "end_time": "2024-09-23T16:26:47.493324",
     "exception": false,
     "start_time": "2024-09-23T16:26:47.393437",
     "status": "completed"
    },
    "tags": []
   },
   "source": [
    "## II.4. PERFORM A QUICK STUDY ON LGBM REGRESSOR WITH OPTUNA"
   ]
  },
  {
   "cell_type": "markdown",
   "id": "0d549fef",
   "metadata": {
    "papermill": {
     "duration": 0.099803,
     "end_time": "2024-09-23T16:26:47.692899",
     "exception": false,
     "start_time": "2024-09-23T16:26:47.593096",
     "status": "completed"
    },
    "tags": []
   },
   "source": [
    "**We chose LGBM Regressor because it is both fast and efficient, so it will have quick results on various configurations of model and features.**"
   ]
  },
  {
   "cell_type": "markdown",
   "id": "879d974d",
   "metadata": {
    "papermill": {
     "duration": 0.098308,
     "end_time": "2024-09-23T16:26:47.890994",
     "exception": false,
     "start_time": "2024-09-23T16:26:47.792686",
     "status": "completed"
    },
    "tags": []
   },
   "source": [
    "### II.4.1. BUILD THE OPTUNA STUDY"
   ]
  },
  {
   "cell_type": "code",
   "execution_count": 32,
   "id": "df82b847",
   "metadata": {
    "execution": {
     "iopub.execute_input": "2024-09-23T16:26:48.091016Z",
     "iopub.status.busy": "2024-09-23T16:26:48.090291Z",
     "iopub.status.idle": "2024-09-23T16:26:48.101306Z",
     "shell.execute_reply": "2024-09-23T16:26:48.099746Z"
    },
    "papermill": {
     "duration": 0.114045,
     "end_time": "2024-09-23T16:26:48.103825",
     "exception": false,
     "start_time": "2024-09-23T16:26:47.989780",
     "status": "completed"
    },
    "tags": []
   },
   "outputs": [],
   "source": [
    "# ---- This function make an random selection of features. It will be used in the Optuna studies\n",
    "#\n",
    "def feature_selector(X_df, features_to_suggest, trial):\n",
    "    \"\"\"\n",
    "    Select features for a model by applying a random selection strategy to specified features by Optuna.\n",
    "\n",
    "    Parameters:\n",
    "    ----------\n",
    "    X_df : pd.DataFrame\n",
    "        DataFrame containing all features (excluding the target variable). Each column represents a feature.\n",
    "    \n",
    "    features_to_suggest : list of str\n",
    "        List of feature names on which random selection should be applied. Features not listed in this \n",
    "        parameter will be automatically included in the selection with a fixed value.\n",
    "    trial : optuna.trial.Trial\n",
    "        An Optuna trial object used to make random feature selections.\n",
    "\n",
    "    Returns:\n",
    "    -------\n",
    "    feature_mask : np.ndarray\n",
    "        An array of binary values (0 or 1) where each element corresponds to a feature in `X_df.columns`. \n",
    "    \"\"\"\n",
    "\n",
    "    # ---- Intiliaze an empty list of index\n",
    "    features_selection_index = []\n",
    "    \n",
    "    # ---- Get all features names\n",
    "    features_list = X_df.columns.to_list()\n",
    "    \n",
    "    # ---- Loop over each feature\n",
    "    for i, feature in enumerate(features_list):\n",
    "        \n",
    "        if feature in features_to_suggest:\n",
    "            # ---- Make a random choice for others\n",
    "            features_selection_index.append(trial.suggest_int(f'{features_list[i]}', 0, 1))\n",
    "\n",
    "        else:\n",
    "             # ---- Force suggestion to 1 to features to keep\n",
    "            features_selection_index.append(trial.suggest_int(f'{features_list[i]}', 1, 1))\n",
    "            \n",
    "    # ---- Build the final mask to apply for feature selection\n",
    "    feature_mask = np.array(features_selection_index, dtype=int)\n",
    "    \n",
    "    return feature_mask\n",
    "    "
   ]
  },
  {
   "cell_type": "code",
   "execution_count": null,
   "id": "f52fd7b3",
   "metadata": {
    "execution": {
     "iopub.execute_input": "2024-09-23T16:26:48.307656Z",
     "iopub.status.busy": "2024-09-23T16:26:48.306399Z",
     "iopub.status.idle": "2024-09-23T16:26:48.313289Z",
     "shell.execute_reply": "2024-09-23T16:26:48.311854Z"
    },
    "papermill": {
     "duration": 0.111661,
     "end_time": "2024-09-23T16:26:48.315841",
     "exception": false,
     "start_time": "2024-09-23T16:26:48.204180",
     "status": "completed"
    },
    "tags": []
   },
   "outputs": [],
   "source": [
    "# ---- Specify the list of features on which we will let Optuna apply a random selection. We force the selection for the other features.\n",
    "#\n",
    "features_to_suggest = [\n",
    "    'ext_col',\n",
    "    'int_col',\n",
    "    'clean_title'\n",
    "]\n",
    "print(f'features_to_suggest: {features_to_suggest}')"
   ]
  },
  {
   "cell_type": "code",
   "execution_count": null,
   "id": "df6ebd68",
   "metadata": {
    "execution": {
     "iopub.execute_input": "2024-09-23T16:26:48.520093Z",
     "iopub.status.busy": "2024-09-23T16:26:48.518790Z",
     "iopub.status.idle": "2024-09-23T16:26:48.526767Z",
     "shell.execute_reply": "2024-09-23T16:26:48.525163Z"
    },
    "papermill": {
     "duration": 0.113952,
     "end_time": "2024-09-23T16:26:48.529378",
     "exception": false,
     "start_time": "2024-09-23T16:26:48.415426",
     "status": "completed"
    },
    "tags": []
   },
   "outputs": [],
   "source": [
    "# ----- Specify the preprocessing strategy for each group of features (no scaling on numerical features with LGBM it might be for a tree-based model).\n",
    "#\n",
    "# ----- Features to Ordinal Encode with sklearn (To avoid increasing dimensionality, we don't apply OneHot Encoding it should be sufficient for a tree-based model).\n",
    "features_to_encode = categorical_features\n",
    "print(f'features_to_encode: {features_to_encode}')"
   ]
  },
  {
   "cell_type": "code",
   "execution_count": 35,
   "id": "2430c866",
   "metadata": {
    "execution": {
     "iopub.execute_input": "2024-09-23T16:26:48.732872Z",
     "iopub.status.busy": "2024-09-23T16:26:48.732432Z",
     "iopub.status.idle": "2024-09-23T16:26:48.750969Z",
     "shell.execute_reply": "2024-09-23T16:26:48.749354Z"
    },
    "papermill": {
     "duration": 0.124151,
     "end_time": "2024-09-23T16:26:48.753699",
     "exception": false,
     "start_time": "2024-09-23T16:26:48.629548",
     "status": "completed"
    },
    "tags": []
   },
   "outputs": [],
   "source": [
    "# ---- Build the optuna study\n",
    "#\n",
    "def objective_quick_performing(trial):\n",
    "    '''\n",
    "    Objective function for Optuna optimization.\n",
    "\n",
    "    This function selects features and optimizes hyperparameters of a LGBM Regressor model.\n",
    "    For each trial, a subset of features is selected using a binary mask, and several hyperparameters\n",
    "    of the LGBM Regressor model are adjusted.\n",
    "\n",
    "    Parameters:\n",
    "    ----------\n",
    "        trial:  optuna.trial.Trial\n",
    "            An Optuna trial object that allows exploring different values for hyperparameters and feature selection.\n",
    "\n",
    "    Returns:\n",
    "    --------\n",
    "        mean_test_rmse: float\n",
    "            The negative mean squared error (MSE) score obtained through cross-validation (3-folds).\n",
    "    '''\n",
    "    # ---- Hyperparameter optimization\n",
    "    #\n",
    "    hyper_params = {\n",
    "        'cat_smooth': trial.suggest_int('cat_smooth', 1, 100),\n",
    "        'colsample_bytree': trial.suggest_uniform('colsample_bytree', 0.3, 1),\n",
    "        'learning_rate' : trial.suggest_loguniform('learning_rate', 0.0005, 0.03),\n",
    "        'max_depth' : trial.suggest_int('max_depth', 3, 8),\n",
    "        'min_child_samples' : trial.suggest_int('min_child_samples', 50, 1000),\n",
    "        'min_split_gain': trial.suggest_loguniform('min_split_gain', 0.000001, 0.5),\n",
    "        'n_estimators' : trial.suggest_int('n_estimators', 300, 700),\n",
    "        'num_leaves': trial.suggest_int('num_leaves', 10, 100),\n",
    "        'subsample' : trial.suggest_float('subsample', 0.2, 0.4, step=0.01)\n",
    "    }\n",
    "\n",
    "    # ---- Make the feature selection\n",
    "    #\n",
    "    # ---- Generate the mask\n",
    "    feature_mask = feature_selector(X_df=X, features_to_suggest=features_to_suggest, trial=trial)\n",
    "  \n",
    "    # ---- Ensure at least one feature is selected\n",
    "    if feature_mask.sum() == 0:\n",
    "        return np.inf\n",
    "    \n",
    "    # ---- Select features based on the mask\n",
    "    selected_features = X.columns[feature_mask == 1]\n",
    "    X_selected = X[selected_features]\n",
    "  \n",
    "    # ---- Update the list features_to_encode based on selected features\n",
    "    #\n",
    "    features_to_encode_updated = [feature for feature in features_to_encode if feature in selected_features]\n",
    "\n",
    "    # ---- Build the preprocessor with the updated list features_to_encode\n",
    "    #\n",
    "    preprocessor_LGBM = ColumnTransformer(\n",
    "        transformers=[\n",
    "            (\"ord\", OrdinalEncoder(handle_unknown='use_encoded_value',\n",
    "                                   unknown_value=-1,\n",
    "                                  ),\n",
    "             features_to_encode_updated\n",
    "            )\n",
    "        ],\n",
    "        remainder='passthrough'\n",
    "    )\n",
    "    \n",
    "    # ---- Create the model with the chosen parameters\n",
    "    #\n",
    "    model = LGBMRegressor(\n",
    "        **hyper_params,\n",
    "        random_state=random_state,\n",
    "        verbose=-1  \n",
    "    )\n",
    "    \n",
    "    # ---- Build the pipeline\n",
    "    #\n",
    "    pipe = Pipeline(\n",
    "        steps=[\n",
    "            (\"prepro_LGBM\", preprocessor_LGBM),\n",
    "            (\"model\", model)\n",
    "        ]\n",
    "    )\n",
    "    \n",
    "    # ---- Cross-Validation on selected features\n",
    "    #\n",
    "    kf = 3\n",
    "    \n",
    "    # ---- Perform cross-validation\n",
    "    results = cross_validate(pipe, X_selected, y, cv=kf, scoring=\"neg_root_mean_squared_error\", return_train_score=True)\n",
    "    \n",
    "    # ---- Compute the mean RMSE for train and test sets\n",
    "    mean_train_rmse = - np.mean(results['train_score'])\n",
    "    mean_test_rmse = - np.mean(results['test_score'])\n",
    "\n",
    "    # ---- Store results in the trial's user attribute\n",
    "    #\n",
    "    trial.set_user_attr(\"mean_train_rmse\", mean_train_rmse)\n",
    "    trial.set_user_attr(\"mean_test_rmse\", mean_test_rmse)\n",
    "    trial.set_user_attr(\"model_name\", type(model).__name__)\n",
    "    \n",
    "    # ---- Return the mean score on test for the objective function\n",
    "    #\n",
    "    return mean_test_rmse\n"
   ]
  },
  {
   "cell_type": "markdown",
   "id": "5ebae399",
   "metadata": {
    "papermill": {
     "duration": 0.099159,
     "end_time": "2024-09-23T16:26:48.952328",
     "exception": false,
     "start_time": "2024-09-23T16:26:48.853169",
     "status": "completed"
    },
    "tags": []
   },
   "source": [
    "### II.4.2. RUN THE STUDY AND SAVE RESULTS"
   ]
  },
  {
   "cell_type": "code",
   "execution_count": 36,
   "id": "8e238568",
   "metadata": {
    "execution": {
     "iopub.execute_input": "2024-09-23T16:26:49.153433Z",
     "iopub.status.busy": "2024-09-23T16:26:49.152759Z",
     "iopub.status.idle": "2024-09-23T16:53:59.930490Z",
     "shell.execute_reply": "2024-09-23T16:53:59.929272Z"
    },
    "papermill": {
     "duration": 1630.881824,
     "end_time": "2024-09-23T16:53:59.933547",
     "exception": false,
     "start_time": "2024-09-23T16:26:49.051723",
     "status": "completed"
    },
    "tags": []
   },
   "outputs": [],
   "source": [
    "# ----- Run the optimization with Optuna\n",
    "#\n",
    "study = optuna.create_study(study_name=f'{dt.datetime.now().strftime(\"%Y%m%d_%H%M\")}',\n",
    "                            direction='minimize',\n",
    "                            storage=STUDY_STORAGE_PATH,\n",
    "                            load_if_exists=True\n",
    "                            )\n",
    "study.optimize(objective_quick_performing, n_trials=30)"
   ]
  },
  {
   "cell_type": "code",
   "execution_count": 37,
   "id": "1ea93443",
   "metadata": {
    "execution": {
     "iopub.execute_input": "2024-09-23T16:54:00.142346Z",
     "iopub.status.busy": "2024-09-23T16:54:00.141868Z",
     "iopub.status.idle": "2024-09-23T16:54:00.180594Z",
     "shell.execute_reply": "2024-09-23T16:54:00.179293Z"
    },
    "papermill": {
     "duration": 0.143606,
     "end_time": "2024-09-23T16:54:00.183457",
     "exception": false,
     "start_time": "2024-09-23T16:54:00.039851",
     "status": "completed"
    },
    "tags": []
   },
   "outputs": [],
   "source": [
    "results_df = format_study_results_to_df(study, random_state)\n",
    "comment = 'OrdinalEncoder: categorical features'\n",
    "save_metrics(results_df, comment=comment)"
   ]
  },
  {
   "cell_type": "code",
   "execution_count": null,
   "id": "a86613c7",
   "metadata": {
    "execution": {
     "iopub.execute_input": "2024-09-23T16:54:00.387944Z",
     "iopub.status.busy": "2024-09-23T16:54:00.387492Z",
     "iopub.status.idle": "2024-09-23T16:54:00.432504Z",
     "shell.execute_reply": "2024-09-23T16:54:00.431403Z"
    },
    "papermill": {
     "duration": 0.150632,
     "end_time": "2024-09-23T16:54:00.436337",
     "exception": false,
     "start_time": "2024-09-23T16:54:00.285705",
     "status": "completed"
    },
    "tags": []
   },
   "outputs": [],
   "source": [
    "# ---- Have a look at the results\n",
    "#\n",
    "general_results_df = pd.read_csv(FILEPATH_model_results, sep=';')\n",
    "\n",
    "general_results_df.transpose()"
   ]
  },
  {
   "cell_type": "markdown",
   "id": "901502ed",
   "metadata": {
    "papermill": {
     "duration": 0.101138,
     "end_time": "2024-09-23T16:54:00.647233",
     "exception": false,
     "start_time": "2024-09-23T16:54:00.546095",
     "status": "completed"
    },
    "tags": []
   },
   "source": [
    "## II.5. MAKE SUBMISSION"
   ]
  },
  {
   "cell_type": "markdown",
   "id": "da1dcef6",
   "metadata": {
    "papermill": {
     "duration": 0.101045,
     "end_time": "2024-09-23T16:54:00.851070",
     "exception": false,
     "start_time": "2024-09-23T16:54:00.750025",
     "status": "completed"
    },
    "tags": []
   },
   "source": [
    "### II.5.1. REBUILD AND REFIT BEST MODEL"
   ]
  },
  {
   "cell_type": "code",
   "execution_count": null,
   "id": "5c7843d8",
   "metadata": {
    "execution": {
     "iopub.execute_input": "2024-09-23T16:54:01.059679Z",
     "iopub.status.busy": "2024-09-23T16:54:01.059201Z",
     "iopub.status.idle": "2024-09-23T16:54:01.076735Z",
     "shell.execute_reply": "2024-09-23T16:54:01.075474Z"
    },
    "papermill": {
     "duration": 0.124478,
     "end_time": "2024-09-23T16:54:01.079289",
     "exception": false,
     "start_time": "2024-09-23T16:54:00.954811",
     "status": "completed"
    },
    "tags": []
   },
   "outputs": [],
   "source": [
    "# ---- Retrieve the best model from the final study we conducted\n",
    "#\n",
    "comment = 'OrdinalEncoder: categorical features'\n",
    "best_rmse = general_results_df.loc[general_results_df['comment']==comment,'mean_test_rmse'].min()\n",
    "\n",
    "best_model_configuration = general_results_df[general_results_df['mean_test_rmse'] == best_rmse]\n",
    "display(best_model_configuration.transpose())"
   ]
  },
  {
   "cell_type": "code",
   "execution_count": null,
   "id": "f79b3ffb",
   "metadata": {
    "execution": {
     "iopub.execute_input": "2024-09-23T16:54:01.290992Z",
     "iopub.status.busy": "2024-09-23T16:54:01.290458Z",
     "iopub.status.idle": "2024-09-23T16:54:01.301086Z",
     "shell.execute_reply": "2024-09-23T16:54:01.299894Z"
    },
    "papermill": {
     "duration": 0.12174,
     "end_time": "2024-09-23T16:54:01.303596",
     "exception": false,
     "start_time": "2024-09-23T16:54:01.181856",
     "status": "completed"
    },
    "tags": []
   },
   "outputs": [],
   "source": [
    "# ---- Select features to the same way the model was fitted\n",
    "#\n",
    "selected_features = []\n",
    "for feature in X.columns:\n",
    "    if best_model_configuration.get(feature) is not None:\n",
    "        if best_model_configuration.get(feature).iloc[0] == 1:\n",
    "            selected_features.append(feature)\n",
    "selected_features"
   ]
  },
  {
   "cell_type": "code",
   "execution_count": null,
   "id": "6c956260",
   "metadata": {
    "execution": {
     "iopub.execute_input": "2024-09-23T16:54:01.516227Z",
     "iopub.status.busy": "2024-09-23T16:54:01.515730Z",
     "iopub.status.idle": "2024-09-23T16:54:01.523184Z",
     "shell.execute_reply": "2024-09-23T16:54:01.521998Z"
    },
    "papermill": {
     "duration": 0.119244,
     "end_time": "2024-09-23T16:54:01.525783",
     "exception": false,
     "start_time": "2024-09-23T16:54:01.406539",
     "status": "completed"
    },
    "tags": []
   },
   "outputs": [],
   "source": [
    "# ----- Specify the preprocessing strategy used for evaluating model\n",
    "#\n",
    "# ----- Features to Ordinal Encode with sklearn\n",
    "features_to_encode = categorical_features\n",
    "print(f'features_to_encode: {features_to_encode}')"
   ]
  },
  {
   "cell_type": "code",
   "execution_count": 42,
   "id": "52678b73",
   "metadata": {
    "execution": {
     "iopub.execute_input": "2024-09-23T16:54:01.739717Z",
     "iopub.status.busy": "2024-09-23T16:54:01.738391Z",
     "iopub.status.idle": "2024-09-23T16:54:01.779616Z",
     "shell.execute_reply": "2024-09-23T16:54:01.778256Z"
    },
    "papermill": {
     "duration": 0.149921,
     "end_time": "2024-09-23T16:54:01.782473",
     "exception": false,
     "start_time": "2024-09-23T16:54:01.632552",
     "status": "completed"
    },
    "tags": []
   },
   "outputs": [],
   "source": [
    "# ---- Re-build the model\n",
    "# ---- We fit the model on all data this time (X and y).\n",
    "    \n",
    "# ---- Retrieve model parameters\n",
    "#\n",
    "n_estimators = best_model_configuration.n_estimators.iloc[0]\n",
    "max_depth = best_model_configuration.max_depth.iloc[0]\n",
    "min_child_samples = best_model_configuration.min_child_samples.iloc[0]\n",
    "learning_rate = best_model_configuration.learning_rate.iloc[0]\n",
    "subsample = best_model_configuration.subsample.iloc[0]\n",
    "\n",
    "# ---- Retrieve the feature selection\n",
    "#\n",
    "X_selected = X[selected_features]\n",
    "  \n",
    "# ---- Update the list features_to_encode based on selected features\n",
    "#\n",
    "features_to_encode_updated = [feature for feature in features_to_encode if feature in selected_features]\n",
    "\n",
    "# ---- Build the preprocessor with the updated list features_to_encode\n",
    "#\n",
    "preprocessor_LGBM = ColumnTransformer(\n",
    "    transformers=[\n",
    "        (\"ord\", OrdinalEncoder(handle_unknown='use_encoded_value',\n",
    "                               unknown_value=-1,\n",
    "                              ),\n",
    "         features_to_encode_updated\n",
    "        )\n",
    "    ],\n",
    "    remainder='passthrough'\n",
    ")\n",
    "    \n",
    "# ---- Create the model with the chosen parameters\n",
    "#\n",
    "model = LGBMRegressor(\n",
    "    n_estimators=n_estimators,\n",
    "    max_depth=max_depth,\n",
    "    min_child_samples=min_child_samples,\n",
    "    subsample=subsample,\n",
    "    random_state=random_state,\n",
    "    learning_rate=learning_rate,\n",
    "    verbose=-1  \n",
    ")\n",
    "    \n",
    "# ---- Build the pipeline\n",
    "#\n",
    "pipe = Pipeline(\n",
    "    steps=[\n",
    "        (\"prepro_LGBM\", preprocessor_LGBM),\n",
    "        (\"model\", model)\n",
    "    ]\n",
    ")"
   ]
  },
  {
   "cell_type": "code",
   "execution_count": null,
   "id": "73fdb4b4",
   "metadata": {
    "execution": {
     "iopub.execute_input": "2024-09-23T16:54:01.996150Z",
     "iopub.status.busy": "2024-09-23T16:54:01.995662Z",
     "iopub.status.idle": "2024-09-23T16:54:16.439167Z",
     "shell.execute_reply": "2024-09-23T16:54:16.437884Z"
    },
    "papermill": {
     "duration": 14.554733,
     "end_time": "2024-09-23T16:54:16.442185",
     "exception": false,
     "start_time": "2024-09-23T16:54:01.887452",
     "status": "completed"
    },
    "tags": []
   },
   "outputs": [],
   "source": [
    "# ---- Refit the model\n",
    "pipe.fit(X_selected, y)"
   ]
  },
  {
   "cell_type": "markdown",
   "id": "15e84bda",
   "metadata": {
    "papermill": {
     "duration": 0.102048,
     "end_time": "2024-09-23T16:54:16.657213",
     "exception": false,
     "start_time": "2024-09-23T16:54:16.555165",
     "status": "completed"
    },
    "tags": []
   },
   "source": [
    "### II.5.2. PREDICT AND SAVE PREDICTION"
   ]
  },
  {
   "cell_type": "code",
   "execution_count": null,
   "id": "38197877",
   "metadata": {
    "execution": {
     "iopub.execute_input": "2024-09-23T16:54:16.865160Z",
     "iopub.status.busy": "2024-09-23T16:54:16.864688Z",
     "iopub.status.idle": "2024-09-23T16:54:17.904795Z",
     "shell.execute_reply": "2024-09-23T16:54:17.903486Z"
    },
    "papermill": {
     "duration": 1.147182,
     "end_time": "2024-09-23T16:54:17.907669",
     "exception": false,
     "start_time": "2024-09-23T16:54:16.760487",
     "status": "completed"
    },
    "tags": []
   },
   "outputs": [],
   "source": [
    "# ---- Load test.csv file\n",
    "# \n",
    "data_final = pd.read_csv(FILEPATH_test)\n",
    "\n",
    "# ---- Prepare data to the same way the model was fitted\n",
    "#\n",
    "data_final = simple_cleaning(data_final)\n",
    "\n",
    "# ---- Select features to the same way the model was fitted\n",
    "#\n",
    "X_final_selected = data_final[selected_features]\n",
    "X_final_selected.head(5)"
   ]
  },
  {
   "cell_type": "code",
   "execution_count": null,
   "id": "4f105404",
   "metadata": {
    "execution": {
     "iopub.execute_input": "2024-09-23T16:54:18.122852Z",
     "iopub.status.busy": "2024-09-23T16:54:18.122436Z",
     "iopub.status.idle": "2024-09-23T16:54:24.740006Z",
     "shell.execute_reply": "2024-09-23T16:54:24.738666Z"
    },
    "papermill": {
     "duration": 6.729256,
     "end_time": "2024-09-23T16:54:24.743154",
     "exception": false,
     "start_time": "2024-09-23T16:54:18.013898",
     "status": "completed"
    },
    "tags": []
   },
   "outputs": [],
   "source": [
    "# ---- Predict\n",
    "# \n",
    "y_submission = pipe.predict(X_final_selected)\n",
    "y_df = pd.DataFrame(y_submission, columns=['price'])\n",
    "y_df"
   ]
  },
  {
   "cell_type": "code",
   "execution_count": null,
   "id": "c28350c3",
   "metadata": {
    "execution": {
     "iopub.execute_input": "2024-09-23T16:54:24.959588Z",
     "iopub.status.busy": "2024-09-23T16:54:24.959156Z",
     "iopub.status.idle": "2024-09-23T16:54:25.077466Z",
     "shell.execute_reply": "2024-09-23T16:54:25.076041Z"
    },
    "papermill": {
     "duration": 0.227642,
     "end_time": "2024-09-23T16:54:25.080206",
     "exception": false,
     "start_time": "2024-09-23T16:54:24.852564",
     "status": "completed"
    },
    "tags": []
   },
   "outputs": [],
   "source": [
    "# ---- Build submission dataFrame\n",
    "# \n",
    "y_df['price'] = y_df['price'].apply(lambda x: int(x))\n",
    "submission_df = pd.concat([data_final['id'], y_df], axis=1)\n",
    "submission_df"
   ]
  },
  {
   "cell_type": "code",
   "execution_count": 47,
   "id": "4a2237c2",
   "metadata": {
    "execution": {
     "iopub.execute_input": "2024-09-23T16:54:25.291494Z",
     "iopub.status.busy": "2024-09-23T16:54:25.291052Z",
     "iopub.status.idle": "2024-09-23T16:54:25.502099Z",
     "shell.execute_reply": "2024-09-23T16:54:25.500940Z"
    },
    "papermill": {
     "duration": 0.320631,
     "end_time": "2024-09-23T16:54:25.505022",
     "exception": false,
     "start_time": "2024-09-23T16:54:25.184391",
     "status": "completed"
    },
    "tags": []
   },
   "outputs": [],
   "source": [
    "# ---- Save prediction to csv\n",
    "# \n",
    "timestamp = dt.datetime.now().strftime(\"%Y%m%d_%H%M%S\")\n",
    "\n",
    "filepath = f'{OUTPUT_PATH_results}/submission_LGBM{timestamp}.csv'\n",
    "submission_df.to_csv(filepath, index=False)"
   ]
  },
  {
   "cell_type": "markdown",
   "id": "a71dff79",
   "metadata": {
    "papermill": {
     "duration": 0.105788,
     "end_time": "2024-09-23T16:54:25.719307",
     "exception": false,
     "start_time": "2024-09-23T16:54:25.613519",
     "status": "completed"
    },
    "tags": []
   },
   "source": [
    "# **III. TRY DATA ENGINEERING - 1ST ATTEMPT**"
   ]
  },
  {
   "cell_type": "markdown",
   "id": "55115c7c",
   "metadata": {
    "papermill": {
     "duration": 0.108112,
     "end_time": "2024-09-23T16:54:25.935756",
     "exception": false,
     "start_time": "2024-09-23T16:54:25.827644",
     "status": "completed"
    },
    "tags": []
   },
   "source": [
    "## III.1. BUILD PREPROCESSING FUNCTIONS FOR COLUMNS WITH TEXT TO HELP MODEL TO CATCH MORE INFORMATION"
   ]
  },
  {
   "cell_type": "markdown",
   "id": "2100688d",
   "metadata": {
    "papermill": {
     "duration": 0.107844,
     "end_time": "2024-09-23T16:54:26.151458",
     "exception": false,
     "start_time": "2024-09-23T16:54:26.043614",
     "status": "completed"
    },
    "tags": []
   },
   "source": [
    "### III.1.1. PREPROCESS FUNCTION FOR FEATURE: \"TRANSMISSION\""
   ]
  },
  {
   "cell_type": "code",
   "execution_count": 48,
   "id": "4b464e62",
   "metadata": {
    "execution": {
     "iopub.execute_input": "2024-09-23T16:54:26.374670Z",
     "iopub.status.busy": "2024-09-23T16:54:26.374214Z",
     "iopub.status.idle": "2024-09-23T16:54:26.389930Z",
     "shell.execute_reply": "2024-09-23T16:54:26.388571Z"
    },
    "papermill": {
     "duration": 0.13064,
     "end_time": "2024-09-23T16:54:26.392720",
     "exception": false,
     "start_time": "2024-09-23T16:54:26.262080",
     "status": "completed"
    },
    "tags": []
   },
   "outputs": [],
   "source": [
    "# ---- Functions to preprocess column \"transmission\"\n",
    "#\n",
    "# ---- Get transmission speed number\n",
    "def get_transmission_speed(sentence):\n",
    "    \n",
    "    transmission_speed = 0\n",
    "    pattern = r\"(\\d+)[-\\s]*(speed)?\"\n",
    "    match = re.search(pattern, sentence, flags=re.IGNORECASE)\n",
    "    \n",
    "    if match:\n",
    "        transmission_speed = int(match.group(1))\n",
    "        \n",
    "    return transmission_speed\n",
    "\n",
    "# ---- Remove transmission speed number out of the text    \n",
    "def remove_transmission_pattern(sentence):\n",
    "  \n",
    "    pattern = r\"\\d+[-\\s]*(speed)?\"\n",
    "    sentence_modified = re.sub(pattern, '', sentence, flags=re.IGNORECASE).strip()\n",
    "    \n",
    "    return sentence_modified.lower()\n",
    "\n",
    "# ---- Build a synonym dictionnary\n",
    "dict_transmission = {\n",
    "    'Auto' : ['A/T', 'Automatic', 'AT'],\n",
    "    'Hybrid': ['Transmission w/Dual Shift Mode','At/Mt', 'Variable'],\n",
    "    'Manuel' : ['M/T', 'Mt', 'Manual'],\n",
    "    # ----- Apply 0 to unknown value\n",
    "    #\n",
    "    'Unknown' : ['', '–']\n",
    "}\n",
    "\n",
    "reversed_dict ={}\n",
    "\n",
    "for key, values in dict_transmission.items():\n",
    "    for value in values:\n",
    "        reversed_dict[value.lower()] = key.lower()\n",
    "\n",
    "# ---- Substitute tokens with their synonyms when possible\n",
    "def map_transmission_tokens(column, mapping_dict=reversed_dict):\n",
    "\n",
    "    column = column.apply(lambda x : mapping_dict.get(x,x))\n",
    "\n",
    "    return column\n",
    "\n",
    "# ---- Apply complete preprocessing to the column transmission\n",
    "def process_column_transmission(X_df):\n",
    "    '''\n",
    "    Process 'transmisison' columns of the given DataFrame.\n",
    "    \n",
    "    Parameters:\n",
    "    -----------\n",
    "    X_df : DataFrame\n",
    "        The input DataFrame containing 'transmisison' column.\n",
    "    \n",
    "    Returns:\n",
    "    --------\n",
    "    results_df: DataFrame\n",
    "        Transformed data based on 'transmisison'.\n",
    "    '''\n",
    "    results_df = X_df.copy()\n",
    "    \n",
    "    results_df['transmission_speed'] = results_df['transmission'].apply(get_transmission_speed)\n",
    "    results_df['transmission_type'] =  results_df['transmission'].apply(remove_transmission_pattern)\n",
    "    results_df['transmission_type'] = map_transmission_tokens(results_df['transmission_type'], mapping_dict=reversed_dict)\n",
    "    results_df.drop(['transmission'], axis=1, inplace=True)\n",
    "\n",
    "    return results_df"
   ]
  },
  {
   "cell_type": "markdown",
   "id": "d7171824",
   "metadata": {
    "papermill": {
     "duration": 0.111149,
     "end_time": "2024-09-23T16:54:26.611145",
     "exception": false,
     "start_time": "2024-09-23T16:54:26.499996",
     "status": "completed"
    },
    "tags": []
   },
   "source": [
    "### III.1.2. PREPROCESSING FUNCTION FEATURE: \"ENGINE\""
   ]
  },
  {
   "cell_type": "code",
   "execution_count": 49,
   "id": "594c0f0f",
   "metadata": {
    "execution": {
     "iopub.execute_input": "2024-09-23T16:54:26.834861Z",
     "iopub.status.busy": "2024-09-23T16:54:26.834406Z",
     "iopub.status.idle": "2024-09-23T16:54:26.857733Z",
     "shell.execute_reply": "2024-09-23T16:54:26.856330Z"
    },
    "papermill": {
     "duration": 0.139996,
     "end_time": "2024-09-23T16:54:26.860816",
     "exception": false,
     "start_time": "2024-09-23T16:54:26.720820",
     "status": "completed"
    },
    "tags": []
   },
   "outputs": [],
   "source": [
    "# ----- Functions to preprocess column \"engine\"\n",
    "#\n",
    "dict_pattern = {\n",
    "    'pattern_HP' : r'(\\d+)\\.(\\d)hp',\n",
    "    'pattern_size' : r'(\\d+)\\.(\\d*)\\s*l(iter)?',\n",
    "    'pattern_cylinder_1' : r'[a-z]*(\\d+)\\s(cylinder)?',\n",
    "    'pattern_cylinder_2' : r'[a-z](\\d)',\n",
    "    'pattern_soupape' : r'(\\d\\d)v'\n",
    "}\n",
    "\n",
    "# ---- Get engine Horse Power value\n",
    "def get_engine_HP(sentence, pattern_HP=dict_pattern['pattern_HP']):\n",
    "\n",
    "    engine_HP = 0\n",
    "\n",
    "    match = re.search(pattern_HP, sentence, flags=re.IGNORECASE)\n",
    "    if match: \n",
    "        engine_HP = int(float(f\"{match.group(1)}.{match.group(2)}\"))\n",
    "\n",
    "    return engine_HP\n",
    "\n",
    "# ---- Get engine size\n",
    "def get_engine_size(sentence, pattern_size=dict_pattern['pattern_size']):\n",
    "\n",
    "    engine_size = 0\n",
    "    match = re.search(pattern_size, sentence, flags=re.IGNORECASE)\n",
    "\n",
    "    if match:\n",
    "        engine_size = float(f\"{match.group(1)}.{match.group(2)}\")\n",
    "    \n",
    "    return engine_size\n",
    "\n",
    "# ---- Get engine number of cylinder\n",
    "def get_engine_cylinder(sentence, pattern_cylinder_1=dict_pattern['pattern_cylinder_1'], pattern_cylinder_2=dict_pattern['pattern_cylinder_2']):\n",
    "\n",
    "    engine_cylinder = 0\n",
    "    \n",
    "    # ---- Skip if 'ah' or 'kw' in the sentence to avoid confusion with electric motor for example with the pattern 'i4'\n",
    "    if not ('ah' in sentence or 'kw' in sentence):\n",
    "        match = re.search(pattern_cylinder_1, sentence, flags=re.IGNORECASE)\n",
    "        if match:\n",
    "            engine_cylinder = int(f\"{match.group(1)}\")\n",
    "        else:\n",
    "            match = re.search(pattern_cylinder_2, sentence, flags=re.IGNORECASE)\n",
    "            if match:\n",
    "                engine_cylinder = int(f\"{match.group(1)}\")\n",
    "                \n",
    "    return engine_cylinder\n",
    "\n",
    "# ---- Get engine number of soupape\n",
    "def get_engine_soupape(sentence, pattern_soupape=dict_pattern['pattern_soupape']):\n",
    "\n",
    "    engine_soupape = 0\n",
    "    \n",
    "    # ---- Skip if 'ah' or 'kw' in the sentence to avoid confusion with electric motor for example with the pattern '697V'\n",
    "    if not ('ah' in sentence or 'kw' in sentence):\n",
    "        match = re.search(pattern_soupape, sentence, flags=re.IGNORECASE)\n",
    "        if match:\n",
    "            engine_soupape = int(f\"{match.group(1)}\")\n",
    "    \n",
    "    return engine_soupape\n",
    "\n",
    "# ---- Remove all the pattern from a sentence\n",
    "def remove_pattern(sentence, pattern_values=dict_pattern.values()):\n",
    "    # ---- Skip if 'ah' or 'kw' in the sentence to avoid confusion with electric motor\n",
    "    if not ('ah' in sentence or 'kw' in sentence):\n",
    "        for pattern in pattern_values:\n",
    "            sentence = re.sub(pattern, '', sentence, flags=re.IGNORECASE).strip()\n",
    "    \n",
    "    return sentence\n",
    "\n",
    "# ---- Apply a first processing of the sentence using the funcion above\n",
    "def previous_version_process_column_engine(column):\n",
    "    \n",
    "    serie = column.apply(lambda x: x.lower())\n",
    "    serie = serie.apply(get_engine_HP)\n",
    "    serie.name = None\n",
    "    df = pd.DataFrame(serie, columns=['engine_HP'])\n",
    "    df['engine_size'] = column.apply(get_engine_size)\n",
    "    df['engine_cylinder'] = column.apply(get_engine_cylinder)\n",
    "    df['engine_soupape'] = column.apply(get_engine_soupape)\n",
    "    df['engine_text'] = column.apply(remove_pattern)\n",
    "\n",
    "    return df\n"
   ]
  },
  {
   "cell_type": "markdown",
   "id": "e41ef268",
   "metadata": {
    "papermill": {
     "duration": 0.113089,
     "end_time": "2024-09-23T16:54:27.082245",
     "exception": false,
     "start_time": "2024-09-23T16:54:26.969156",
     "status": "completed"
    },
    "tags": []
   },
   "source": [
    "Let's have a look of what is remaing in column 'engine_text' after preprocessing column engine using the funcion previous_process_column_engine()."
   ]
  },
  {
   "cell_type": "code",
   "execution_count": null,
   "id": "173f7196",
   "metadata": {
    "execution": {
     "iopub.execute_input": "2024-09-23T16:54:27.326172Z",
     "iopub.status.busy": "2024-09-23T16:54:27.325390Z",
     "iopub.status.idle": "2024-09-23T16:54:37.443645Z",
     "shell.execute_reply": "2024-09-23T16:54:37.442458Z"
    },
    "papermill": {
     "duration": 10.252313,
     "end_time": "2024-09-23T16:54:37.446688",
     "exception": false,
     "start_time": "2024-09-23T16:54:27.194375",
     "status": "completed"
    },
    "tags": []
   },
   "outputs": [],
   "source": [
    "# ---- Check the previous result\n",
    "#\n",
    "temporary_result_df = previous_version_process_column_engine(X['engine'])\n",
    "temporary_result_df"
   ]
  },
  {
   "cell_type": "markdown",
   "id": "7897f70c",
   "metadata": {
    "papermill": {
     "duration": 0.105055,
     "end_time": "2024-09-23T16:54:37.657643",
     "exception": false,
     "start_time": "2024-09-23T16:54:37.552588",
     "status": "completed"
    },
    "tags": []
   },
   "source": [
    "Let's make a Bag Of Word of column engine_text to see the remainging vocabulary"
   ]
  },
  {
   "cell_type": "code",
   "execution_count": null,
   "id": "dde1ad51",
   "metadata": {
    "execution": {
     "iopub.execute_input": "2024-09-23T16:54:37.870334Z",
     "iopub.status.busy": "2024-09-23T16:54:37.869860Z",
     "iopub.status.idle": "2024-09-23T16:54:39.600060Z",
     "shell.execute_reply": "2024-09-23T16:54:39.598797Z"
    },
    "papermill": {
     "duration": 1.83979,
     "end_time": "2024-09-23T16:54:39.603405",
     "exception": false,
     "start_time": "2024-09-23T16:54:37.763615",
     "status": "completed"
    },
    "tags": []
   },
   "outputs": [],
   "source": [
    "# ---- Remove punctuation and split sentence into a list of word\n",
    "#\n",
    "def process_text(sentence):\n",
    "\n",
    "    translator = str.maketrans('','', string.punctuation)\n",
    "    clean_sentence = sentence.translate(translator).split()\n",
    "\n",
    "    return clean_sentence\n",
    "\n",
    "# ---- Fit vectorizer on column_engine_text to get back vocabulary\n",
    "#\n",
    "column_engine_text = temporary_result_df['engine_text']\n",
    "vectorizer = CountVectorizer(analyzer=process_text)\n",
    "vectorizer.fit(column_engine_text)\n",
    "\n",
    "vocabulary_dict = vectorizer.vocabulary_\n",
    "\n",
    "# ---- Explore vocanulary in a DataFrame\n",
    "#\n",
    "df_vocabulary_df = pd.DataFrame.from_dict(vocabulary_dict , orient='index', columns=['count'])\n",
    "df_vocabulary_df.sort_values('count', ascending=False)"
   ]
  },
  {
   "cell_type": "code",
   "execution_count": null,
   "id": "a074a50f",
   "metadata": {
    "execution": {
     "iopub.execute_input": "2024-09-23T16:54:39.827637Z",
     "iopub.status.busy": "2024-09-23T16:54:39.827186Z",
     "iopub.status.idle": "2024-09-23T16:54:39.853791Z",
     "shell.execute_reply": "2024-09-23T16:54:39.852402Z"
    },
    "papermill": {
     "duration": 0.143369,
     "end_time": "2024-09-23T16:54:39.857416",
     "exception": false,
     "start_time": "2024-09-23T16:54:39.714047",
     "status": "completed"
    },
    "tags": []
   },
   "outputs": [],
   "source": [
    "# ---- Print again values of the column fuel type of the original dataset\n",
    "#\n",
    "data['fuel_type'].unique()"
   ]
  },
  {
   "cell_type": "code",
   "execution_count": 53,
   "id": "0cbfb46b",
   "metadata": {
    "execution": {
     "iopub.execute_input": "2024-09-23T16:54:40.082239Z",
     "iopub.status.busy": "2024-09-23T16:54:40.080871Z",
     "iopub.status.idle": "2024-09-23T16:54:40.091898Z",
     "shell.execute_reply": "2024-09-23T16:54:40.090502Z"
    },
    "papermill": {
     "duration": 0.128624,
     "end_time": "2024-09-23T16:54:40.094663",
     "exception": false,
     "start_time": "2024-09-23T16:54:39.966039",
     "status": "completed"
    },
    "tags": []
   },
   "outputs": [],
   "source": [
    "# ---- Build a synonym dictionary related to fuel_type\n",
    "#\n",
    "fuel_type_dict = {\n",
    "    'gasoline' : 'gasoline',\n",
    "    'gas' : 'gasoline',\n",
    "    'hybrid' : 'hybrid',\n",
    "    'electricgas': 'hybrid',\n",
    "    'gaselectric' : 'hybrid',\n",
    "    'e85 flex fuel' : 'e85 flex fuel',\n",
    "    'flexible' : 'e85 flex fuel',\n",
    "    'diesel' : 'diesel',\n",
    "    'hydrogen' : 'hydrogen',\n",
    "    'electric' : 'electric',\n",
    "    'battery' : 'electric',\n",
    "    'ah': 'electric',\n",
    "    '70kw': 'electric',\n",
    "    '697v': 'electric',\n",
    "    '160kw': 'electric',\n",
    "    '1112ah': 'electric'\n",
    "}\n",
    "\n",
    "def match_fuel_type(sentence):\n",
    "    '''\n",
    "    Find in a sentence the first token that matches a key in the dictionary fuel_type_dict and return the associated value.\n",
    "    If no token matches, return None.\n",
    "\n",
    "    Parameters\n",
    "    ----------\n",
    "    sentence: str\n",
    "        String to search for matching fuel type.\n",
    "\n",
    "    Returns:\n",
    "    --------\n",
    "    mapping_value : str or None\n",
    "        The matched fuel type or None if no match is found.\n",
    "    '''\n",
    "    # ---- Initialize the result to None\n",
    "    #\n",
    "    mapping_value = None\n",
    "\n",
    "    # ---- Preprocess sentence and split to list\n",
    "    #\n",
    "    tokens = process_text(sentence)\n",
    "\n",
    "    if len(tokens) > 0:\n",
    "\n",
    "        # ---- Loop over each token of the document\n",
    "        #\n",
    "        for token in tokens:\n",
    "\n",
    "            # ---- Get the value if the token matches a key in the dictionary\n",
    "            #\n",
    "            mapping_value = fuel_type_dict.get(token.lower())\n",
    "\n",
    "            # ---- Break the loop if a match is found\n",
    "            #\n",
    "            if mapping_value is not None:\n",
    "                break\n",
    "\n",
    "    return mapping_value"
   ]
  },
  {
   "cell_type": "markdown",
   "id": "4005bb87",
   "metadata": {
    "papermill": {
     "duration": 0.110871,
     "end_time": "2024-09-23T16:54:40.315487",
     "exception": false,
     "start_time": "2024-09-23T16:54:40.204616",
     "status": "completed"
    },
    "tags": []
   },
   "source": [
    "Let's build now the final version of the preprocesing function of column engine."
   ]
  },
  {
   "cell_type": "code",
   "execution_count": 54,
   "id": "159864b5",
   "metadata": {
    "execution": {
     "iopub.execute_input": "2024-09-23T16:54:40.538913Z",
     "iopub.status.busy": "2024-09-23T16:54:40.538198Z",
     "iopub.status.idle": "2024-09-23T16:54:40.550664Z",
     "shell.execute_reply": "2024-09-23T16:54:40.548972Z"
    },
    "papermill": {
     "duration": 0.130218,
     "end_time": "2024-09-23T16:54:40.553390",
     "exception": false,
     "start_time": "2024-09-23T16:54:40.423172",
     "status": "completed"
    },
    "tags": []
   },
   "outputs": [],
   "source": [
    "def process_columns_engine_and_fuel_type(X_df):\n",
    "    '''\n",
    "    Process both 'engine' and 'fuel_type' columns from a given DataFrame\n",
    "    \n",
    "    Parameters:\n",
    "    -----------\n",
    "    X_df : DataFrame\n",
    "        The input DataFrame containing both 'engine' and 'fuel_type'.\n",
    "    \n",
    "    Returns:\n",
    "    --------\n",
    "    results_df: DataFrame\n",
    "        Transformed data based on 'engine' and 'fuel_type'.\n",
    "    '''\n",
    "    results_df = X_df.copy()\n",
    "    \n",
    "    # ---- Lowercase\n",
    "    #\n",
    "    results_df['engine'] =  results_df['engine'].apply(lambda x: x.lower())\n",
    "    results_df['fuel_type'] = results_df['fuel_type'].apply(lambda x: x.lower())\n",
    "\n",
    "    # ---- Add the new columns to the DataFrame\n",
    "    #\n",
    "    results_df['engine_HP'] = results_df['engine'].apply(get_engine_HP)\n",
    "    results_df['engine_size'] = results_df['engine'].apply(get_engine_size)\n",
    "    results_df['engine_cylinder'] = results_df['engine'].apply(get_engine_cylinder)\n",
    "    results_df['engine_soupape'] = results_df['engine'].apply(get_engine_soupape)\n",
    "    results_df['engine_text'] = results_df['engine'].apply(remove_pattern)\n",
    "    results_df['engine_text'] = results_df['engine_text'].apply(match_fuel_type)\n",
    "    \n",
    "    # ---- Adapt fuel_type column with value in engine_text column\n",
    "    #\n",
    "    results_df['fuel_type'] = np.where(results_df['engine_text'].notna(), results_df['engine_text'], results_df['fuel_type'])\n",
    "    \n",
    "    # ---- Drop column engine_text and engine\n",
    "    #\n",
    "    results_df.drop(['engine_text', 'engine'], axis = 1, inplace = True)\n",
    "    \n",
    "    return results_df"
   ]
  },
  {
   "cell_type": "markdown",
   "id": "70edef5e",
   "metadata": {
    "papermill": {
     "duration": 0.109155,
     "end_time": "2024-09-23T16:54:40.770232",
     "exception": false,
     "start_time": "2024-09-23T16:54:40.661077",
     "status": "completed"
    },
    "tags": []
   },
   "source": [
    "### III.1.3. PREPARE DATA WITH THE NEW PREPROCESSING FUNCTIONS"
   ]
  },
  {
   "cell_type": "code",
   "execution_count": 55,
   "id": "cfa558a7",
   "metadata": {
    "execution": {
     "iopub.execute_input": "2024-09-23T16:54:40.991577Z",
     "iopub.status.busy": "2024-09-23T16:54:40.990890Z",
     "iopub.status.idle": "2024-09-23T16:54:54.136884Z",
     "shell.execute_reply": "2024-09-23T16:54:54.135558Z"
    },
    "papermill": {
     "duration": 13.260589,
     "end_time": "2024-09-23T16:54:54.139738",
     "exception": false,
     "start_time": "2024-09-23T16:54:40.879149",
     "status": "completed"
    },
    "tags": []
   },
   "outputs": [],
   "source": [
    "data_enhanced = process_column_transmission(data)\n",
    "data_enhanced = process_columns_engine_and_fuel_type(data_enhanced)"
   ]
  },
  {
   "cell_type": "markdown",
   "id": "8a7e16b8",
   "metadata": {
    "papermill": {
     "duration": 0.106569,
     "end_time": "2024-09-23T16:54:54.353854",
     "exception": false,
     "start_time": "2024-09-23T16:54:54.247285",
     "status": "completed"
    },
    "tags": []
   },
   "source": [
    "### III.1.4. EXPLORE AND DISPLAY NEW PREPARED FEATURES"
   ]
  },
  {
   "cell_type": "code",
   "execution_count": null,
   "id": "e7170852",
   "metadata": {
    "execution": {
     "iopub.execute_input": "2024-09-23T16:54:54.569439Z",
     "iopub.status.busy": "2024-09-23T16:54:54.568912Z",
     "iopub.status.idle": "2024-09-23T16:54:54.748295Z",
     "shell.execute_reply": "2024-09-23T16:54:54.747129Z"
    },
    "papermill": {
     "duration": 0.290229,
     "end_time": "2024-09-23T16:54:54.751687",
     "exception": false,
     "start_time": "2024-09-23T16:54:54.461458",
     "status": "completed"
    },
    "tags": []
   },
   "outputs": [],
   "source": [
    "# ---- Check features values count\n",
    "# \n",
    "data_enhanced.nunique()"
   ]
  },
  {
   "cell_type": "code",
   "execution_count": 57,
   "id": "9247a16b",
   "metadata": {
    "execution": {
     "iopub.execute_input": "2024-09-23T16:54:54.974692Z",
     "iopub.status.busy": "2024-09-23T16:54:54.974227Z",
     "iopub.status.idle": "2024-09-23T16:54:54.980906Z",
     "shell.execute_reply": "2024-09-23T16:54:54.979574Z"
    },
    "papermill": {
     "duration": 0.122361,
     "end_time": "2024-09-23T16:54:54.983592",
     "exception": false,
     "start_time": "2024-09-23T16:54:54.861231",
     "status": "completed"
    },
    "tags": []
   },
   "outputs": [],
   "source": [
    "# ---- Separate the new features we have created into group for plotting\n",
    "#\n",
    "new_numeric_discrete_features = [ \n",
    "    'transmission_speed',\n",
    "    'transmission_type',\n",
    "    'engine_soupape',\n",
    "    'engine_cylinder',\n",
    "    'engine_size',\n",
    "    'fuel_type'\n",
    "    ]\n",
    "\n",
    "new_continious_features = [ \n",
    "    'engine_HP',\n",
    "    ]"
   ]
  },
  {
   "cell_type": "code",
   "execution_count": null,
   "id": "90f267cf",
   "metadata": {
    "execution": {
     "iopub.execute_input": "2024-09-23T16:54:55.202860Z",
     "iopub.status.busy": "2024-09-23T16:54:55.202396Z",
     "iopub.status.idle": "2024-09-23T16:55:02.145142Z",
     "shell.execute_reply": "2024-09-23T16:55:02.143745Z"
    },
    "papermill": {
     "duration": 7.056158,
     "end_time": "2024-09-23T16:55:02.149547",
     "exception": false,
     "start_time": "2024-09-23T16:54:55.093389",
     "status": "completed"
    },
    "tags": []
   },
   "outputs": [],
   "source": [
    "# ---- Visualize the new features with graphs\n",
    "#\n",
    "make_box_for_discrete_features(data_enhanced.drop(['price'], axis=1), new_numeric_discrete_features, data_enhanced['price'])\n",
    "make_box_for_continuous_features(data_enhanced.drop(['price'], axis=1), new_continious_features, data_enhanced['price'], bins=100, ylim=(-1000,180000))"
   ]
  },
  {
   "cell_type": "markdown",
   "id": "2b50edc4",
   "metadata": {
    "papermill": {
     "duration": 0.11899,
     "end_time": "2024-09-23T16:55:02.392085",
     "exception": false,
     "start_time": "2024-09-23T16:55:02.273095",
     "status": "completed"
    },
    "tags": []
   },
   "source": [
    "**In these graphs, we see that the values of features such as transmission_speed, engine_soupape, engine_cylinder, and engine_HP appear to be ordered by their importance with respect to the price. This suggests that these features have a hierarchical impact on the price, and we can treat them as numeric variables, their numerical values are directly related to changes in the target value (price).**\n",
    "\n",
    "**In contrast, the relationship between price and engine_size remains complex. Therefore, treating engine size as a categorical feature and encoding it accordingly will not result in the loss of information and may even benefit the model. We will try this later!**"
   ]
  },
  {
   "cell_type": "markdown",
   "id": "c4280b0b",
   "metadata": {
    "papermill": {
     "duration": 0.117624,
     "end_time": "2024-09-23T16:55:02.625190",
     "exception": false,
     "start_time": "2024-09-23T16:55:02.507566",
     "status": "completed"
    },
    "tags": []
   },
   "source": [
    "## III.2. BUILD PREPROCESSOR FOR CATEGORICAL FEATURES"
   ]
  },
  {
   "cell_type": "markdown",
   "id": "3e292a00",
   "metadata": {
    "papermill": {
     "duration": 0.116223,
     "end_time": "2024-09-23T16:55:02.861668",
     "exception": false,
     "start_time": "2024-09-23T16:55:02.745445",
     "status": "completed"
    },
    "tags": []
   },
   "source": [
    "**In this section we will deal with columns with 'object' type.**\n",
    "\n",
    "**In the first study we Optuna and LGBM, we have Ordinal Encoded them instead of OneHot Encoding them to avoid increasing dimensionality.\n",
    "However, the values of these features were not sorted by their importance with respect to the car prices. Maybe be we can help the model by giving it more information by using a customized encoder that use the mean value of the target for each category of each feature.**\n",
    "\n",
    "**Let's build our TargetEncoder class.**\n",
    "\n",
    "**For this step we need to be carefull of data leakage. Because to compute the mean price, we use the target! So we have to do this only on train set and not on test set. That's why we can't preprocess all the data before training model with cross validation. The preprocessor we will have to be fitted on train set only!!**"
   ]
  },
  {
   "cell_type": "code",
   "execution_count": 59,
   "id": "b536d931",
   "metadata": {
    "execution": {
     "iopub.execute_input": "2024-09-23T16:55:03.100260Z",
     "iopub.status.busy": "2024-09-23T16:55:03.098858Z",
     "iopub.status.idle": "2024-09-23T16:55:03.112572Z",
     "shell.execute_reply": "2024-09-23T16:55:03.111185Z"
    },
    "papermill": {
     "duration": 0.138108,
     "end_time": "2024-09-23T16:55:03.115481",
     "exception": false,
     "start_time": "2024-09-23T16:55:02.977373",
     "status": "completed"
    },
    "tags": []
   },
   "outputs": [],
   "source": [
    "class TargetEncoder(BaseEstimator, TransformerMixin):\n",
    "    '''\n",
    "    Custom Target Encoder for categorical features using the mean of the target variable.\n",
    "\n",
    "    This transformer encodes categorical features by replacing each category with the mean of the target\n",
    "    variable for that category.\n",
    "\n",
    "    Attributes\n",
    "    ----------\n",
    "    target_means_ : dict\n",
    "        A dictionary storing the mean target value for each category in each column.\n",
    "        \n",
    "    features_names_ : list\n",
    "        A list of feature names provided during the fit process.\n",
    "    \n",
    "    Methods\n",
    "    -------\n",
    "    fit(X, y)\n",
    "        Fits the encoder by calculating the mean target value for each category in the input DataFrame `X`.\n",
    "\n",
    "    transform(X)\n",
    "        Transforms the input DataFrame `X` by mapping each category to its corresponding mean target value.\n",
    "    \n",
    "    get_feature_names_out(input_features=None)\n",
    "        Returns the names of the features that have undergone transformation.\n",
    "    '''\n",
    "    def __init__(self):\n",
    "        '''\n",
    "        Initializes the TargetEncoder with empty storage for target means and feature names.\n",
    "        '''\n",
    "        self.target_means_ = {}\n",
    "        self.features_names_= []\n",
    "    \n",
    "    def fit(self, X, y):\n",
    "        '''\n",
    "        For each column of a DataFrame, calculate the mean target value for each category.\n",
    "        \n",
    "        Parameters:\n",
    "        ----------\n",
    "        X : pd.DataFrame\n",
    "            The input data to fit on, containing the features to process.\n",
    "        y : pd.Series or np.ndarray\n",
    "            Target variable (price) to calculate the mean for each category.\n",
    "        '''\n",
    "        df = pd.concat([X,y], axis=1)\n",
    "        self.features_names_ = X.columns.to_list()\n",
    "        \n",
    "        for column in X.columns:\n",
    "            # ---- Calculate the mean target value for each caterory\n",
    "            #\n",
    "            self.target_means_[column] = df.groupby(df[column])[y.name].mean()\n",
    "\n",
    "        return self\n",
    "    \n",
    "    def transform(self, X):\n",
    "        '''\n",
    "        Transform the input by mapping the value by the mean target value of it's category.\n",
    "        \n",
    "        Parameters:\n",
    "        ----------\n",
    "        X : pd.DataFrame\n",
    "            The input data to fit on, containing the features to process.\n",
    "        Returns:\n",
    "        --------\n",
    "        X : pd.DataFrame\n",
    "            The transformed DataFrame with each original value mapped with the mean target value of the corresponding category.\n",
    "\n",
    "        '''\n",
    "        # ---- Replace each category by the associated mean value of the target\n",
    "        #\n",
    "        X\n",
    "        for column in X.columns:\n",
    "            X[column] = X[column].map(self.target_means_[column])\n",
    "        return X\n",
    "    \n",
    "\n",
    "    def get_feature_names_out(self, input_features=None):\n",
    "    #This function will be useful to retrieve the names of the features to plot feature importance with optuna later\n",
    "    #We specify an unused argument `input_features` due to sklearn's internal structure\n",
    "        '''\n",
    "        Return the names of the features given to the transformer.\n",
    "\n",
    "        Parameters:\n",
    "        -----------\n",
    "        input_features : list of str, optional\n",
    "            Input feature names.\n",
    "\n",
    "        Returns:\n",
    "        -------\n",
    "        list\n",
    "            Names of the features that have undergone transformation.\n",
    "        '''\n",
    "        return self.features_names_"
   ]
  },
  {
   "cell_type": "markdown",
   "id": "72aaf8d2",
   "metadata": {
    "papermill": {
     "duration": 0.118065,
     "end_time": "2024-09-23T16:55:03.354036",
     "exception": false,
     "start_time": "2024-09-23T16:55:03.235971",
     "status": "completed"
    },
    "tags": []
   },
   "source": [
    "## III.3. PERFORM A NEW STUDY WITH LGBM REGRESSOR"
   ]
  },
  {
   "cell_type": "markdown",
   "id": "5b4ecfd2",
   "metadata": {
    "papermill": {
     "duration": 0.123302,
     "end_time": "2024-09-23T16:55:03.598829",
     "exception": false,
     "start_time": "2024-09-23T16:55:03.475527",
     "status": "completed"
    },
    "tags": []
   },
   "source": [
    "### III.3.1 PREPARE DATA"
   ]
  },
  {
   "cell_type": "code",
   "execution_count": 60,
   "id": "3b9bc26d",
   "metadata": {
    "execution": {
     "iopub.execute_input": "2024-09-23T16:55:03.842245Z",
     "iopub.status.busy": "2024-09-23T16:55:03.841539Z",
     "iopub.status.idle": "2024-09-23T16:55:03.871517Z",
     "shell.execute_reply": "2024-09-23T16:55:03.870197Z"
    },
    "papermill": {
     "duration": 0.15415,
     "end_time": "2024-09-23T16:55:03.874430",
     "exception": false,
     "start_time": "2024-09-23T16:55:03.720280",
     "status": "completed"
    },
    "tags": []
   },
   "outputs": [],
   "source": [
    "# ---- Select features and target\n",
    "#\n",
    "y = data_enhanced['price']\n",
    "X = data_enhanced.drop(['id','price'], axis=1)"
   ]
  },
  {
   "cell_type": "code",
   "execution_count": null,
   "id": "aca91ec7",
   "metadata": {
    "execution": {
     "iopub.execute_input": "2024-09-23T16:55:04.121195Z",
     "iopub.status.busy": "2024-09-23T16:55:04.119890Z",
     "iopub.status.idle": "2024-09-23T16:55:04.303207Z",
     "shell.execute_reply": "2024-09-23T16:55:04.301925Z"
    },
    "papermill": {
     "duration": 0.310367,
     "end_time": "2024-09-23T16:55:04.306426",
     "exception": false,
     "start_time": "2024-09-23T16:55:03.996059",
     "status": "completed"
    },
    "tags": []
   },
   "outputs": [],
   "source": [
    "X.info()"
   ]
  },
  {
   "cell_type": "code",
   "execution_count": null,
   "id": "0ab3ebd7",
   "metadata": {
    "execution": {
     "iopub.execute_input": "2024-09-23T16:55:04.549797Z",
     "iopub.status.busy": "2024-09-23T16:55:04.549332Z",
     "iopub.status.idle": "2024-09-23T16:55:04.645151Z",
     "shell.execute_reply": "2024-09-23T16:55:04.643660Z"
    },
    "papermill": {
     "duration": 0.221016,
     "end_time": "2024-09-23T16:55:04.648064",
     "exception": false,
     "start_time": "2024-09-23T16:55:04.427048",
     "status": "completed"
    },
    "tags": []
   },
   "outputs": [],
   "source": [
    "# ---- Specify preprocessing strategy for each feature\n",
    "#\n",
    "categorical_features_enhanced = X.select_dtypes(include=['object']).columns.to_list()\n",
    "features_to_encode = categorical_features_enhanced\n",
    "print(f'features_to_encode: {features_to_encode}')\n",
    "\n",
    "# ---- We let numerical feature passthrough preprocessing"
   ]
  },
  {
   "cell_type": "code",
   "execution_count": null,
   "id": "1fe30d9a",
   "metadata": {
    "execution": {
     "iopub.execute_input": "2024-09-23T16:55:04.898870Z",
     "iopub.status.busy": "2024-09-23T16:55:04.897095Z",
     "iopub.status.idle": "2024-09-23T16:55:04.905582Z",
     "shell.execute_reply": "2024-09-23T16:55:04.904258Z"
    },
    "papermill": {
     "duration": 0.138302,
     "end_time": "2024-09-23T16:55:04.908685",
     "exception": false,
     "start_time": "2024-09-23T16:55:04.770383",
     "status": "completed"
    },
    "tags": []
   },
   "outputs": [],
   "source": [
    "# ---- Specify the list of features on which we will let Optuna apply a random selection. We force the selection for the other features.\n",
    "#\n",
    "features_to_suggest = [\n",
    "    'int_col',\n",
    "    'engine_size'\n",
    "]\n",
    "print(f'features_to_suggest: {features_to_suggest}')"
   ]
  },
  {
   "cell_type": "markdown",
   "id": "41009131",
   "metadata": {
    "papermill": {
     "duration": 0.123243,
     "end_time": "2024-09-23T16:55:05.156520",
     "exception": false,
     "start_time": "2024-09-23T16:55:05.033277",
     "status": "completed"
    },
    "tags": []
   },
   "source": [
    "### III.3.2 RE-BUILD A STUDY FOR OPTUNA"
   ]
  },
  {
   "cell_type": "code",
   "execution_count": 64,
   "id": "58e576cf",
   "metadata": {
    "execution": {
     "iopub.execute_input": "2024-09-23T16:55:05.400032Z",
     "iopub.status.busy": "2024-09-23T16:55:05.399552Z",
     "iopub.status.idle": "2024-09-23T16:55:05.419085Z",
     "shell.execute_reply": "2024-09-23T16:55:05.417874Z"
    },
    "papermill": {
     "duration": 0.145246,
     "end_time": "2024-09-23T16:55:05.421934",
     "exception": false,
     "start_time": "2024-09-23T16:55:05.276688",
     "status": "completed"
    },
    "tags": []
   },
   "outputs": [],
   "source": [
    "# ---- Build the optuna study\n",
    "#\n",
    "def objective_with_data_eng(trial):\n",
    "    '''\n",
    "    Objective function for Optuna optimization.\n",
    "\n",
    "    This function selects features and optimizes hyperparameters of a LGBM Regressor model.\n",
    "    For each trial, a subset of features is selected using a binary mask, and several hyperparameters\n",
    "    of the LGBM Regressor model are adjusted.\n",
    "\n",
    "    Parameters:\n",
    "    ----------\n",
    "        trial:  optuna.trial.Trial\n",
    "            An Optuna trial object that allows exploring different values for hyperparameters and feature selection.\n",
    "\n",
    "    Returns:\n",
    "    --------\n",
    "        mean_test_rmse: float\n",
    "            The negative mean squared error (MSE) score obtained through cross-validation (3-folds).\n",
    "    '''\n",
    "    # ---- Hyperparameter optimization\n",
    "    #\n",
    "    hyper_params = {\n",
    "        'cat_smooth': trial.suggest_int('cat_smooth', 1, 100),\n",
    "        'colsample_bytree': trial.suggest_uniform('colsample_bytree', 0.3, 1),\n",
    "        'learning_rate' : trial.suggest_loguniform('learning_rate', 0.0005, 0.03),\n",
    "        'max_depth' : trial.suggest_int('max_depth', 3, 8),\n",
    "        'min_child_samples' : trial.suggest_int('min_child_samples', 50, 1000),\n",
    "        'min_split_gain': trial.suggest_loguniform('min_split_gain', 0.000001, 0.5),\n",
    "        'n_estimators' : trial.suggest_int('n_estimators', 300, 700),\n",
    "        'num_leaves': trial.suggest_int('num_leaves', 10, 100),\n",
    "        'subsample' : trial.suggest_float('subsample', 0.2, 0.4, step=0.01)\n",
    "        }\n",
    "\n",
    "    # ---- Make the feature selection\n",
    "    #\n",
    "    # ---- Generate the mask\n",
    "    feature_mask = feature_selector(X_df=X, features_to_suggest=features_to_suggest, trial=trial)\n",
    "  \n",
    "    # ---- Ensure at least one feature is selected\n",
    "    if feature_mask.sum() == 0:\n",
    "        return np.inf\n",
    "    \n",
    "    # ---- Select features based on the mask\n",
    "    selected_features = X.columns[feature_mask == 1]\n",
    "    X_selected = X[selected_features]\n",
    "  \n",
    "    # ---- Update the list features_to_encode based on selected features\n",
    "    #\n",
    "    features_to_encode_updated = [feature for feature in features_to_encode if feature in selected_features]\n",
    "\n",
    "\n",
    "    # ---- Build the pipeline for complete mean target encoding\n",
    "    #\n",
    "    mean_target_pipe = Pipeline(\n",
    "        steps=[\n",
    "            ('target_encoder', TargetEncoder()),\n",
    "            ('imputer', SimpleImputer(strategy='mean'))#TargetEncoder replace by Nan the value of the test set that are not present in the train set. We replace those Nan value by the mean value of the associated column\n",
    "        ]\n",
    "    )\n",
    "    \n",
    "    # ---- Build the preprocessor to apply mean_target_pipe to the updated list features_to_encode\n",
    "    #\n",
    "    preprocessor_LGBM = ColumnTransformer(\n",
    "        transformers=[\n",
    "            ('enc', mean_target_pipe, features_to_encode_updated),\n",
    "        ],\n",
    "        remainder='passthrough'\n",
    "    )\n",
    "    \n",
    "    # ---- Create the model with the chosen parameters\n",
    "    #\n",
    "    model = LGBMRegressor(\n",
    "        **hyper_params,\n",
    "        random_state=random_state,\n",
    "        verbose=-1  \n",
    "    )\n",
    "    \n",
    "    # ---- Build the model pipeline\n",
    "    #\n",
    "    pipe = Pipeline(\n",
    "        steps=[\n",
    "            (\"prepro_LGBM\", preprocessor_LGBM),\n",
    "            (\"model\", model)\n",
    "        ]\n",
    "    )\n",
    "    \n",
    "    # ---- Cross-Validation on selected features\n",
    "    #\n",
    "    kf = 3\n",
    "    \n",
    "    # ---- Perform cross-validation\n",
    "    #\n",
    "    results = cross_validate(pipe, X_selected, y, cv=kf, scoring=\"neg_root_mean_squared_error\", return_train_score=True)\n",
    "    \n",
    "    # ---- Compute the mean RMSE for train and test sets\n",
    "    #\n",
    "    mean_train_rmse = - np.mean(results['train_score'])\n",
    "    mean_test_rmse = - np.mean(results['test_score'])\n",
    "\n",
    "    # ---- Store results in the trial's user attribute\n",
    "    #\n",
    "    trial.set_user_attr(\"mean_train_rmse\", mean_train_rmse)\n",
    "    trial.set_user_attr(\"mean_test_rmse\", mean_test_rmse)\n",
    "    trial.set_user_attr(\"model_name\", type(model).__name__)\n",
    "    \n",
    "    # ---- Return the mean score on test for the objective function\n",
    "    #\n",
    "    return mean_test_rmse"
   ]
  },
  {
   "cell_type": "markdown",
   "id": "3d65353a",
   "metadata": {
    "papermill": {
     "duration": 0.118969,
     "end_time": "2024-09-23T16:55:05.662540",
     "exception": false,
     "start_time": "2024-09-23T16:55:05.543571",
     "status": "completed"
    },
    "tags": []
   },
   "source": [
    "### III.3.3 RUN THE STUDY AND SAVE RESULTS"
   ]
  },
  {
   "cell_type": "code",
   "execution_count": 65,
   "id": "aca8d7be",
   "metadata": {
    "execution": {
     "iopub.execute_input": "2024-09-23T16:55:05.904161Z",
     "iopub.status.busy": "2024-09-23T16:55:05.902893Z",
     "iopub.status.idle": "2024-09-23T17:15:14.500196Z",
     "shell.execute_reply": "2024-09-23T17:15:14.498944Z"
    },
    "papermill": {
     "duration": 1208.720218,
     "end_time": "2024-09-23T17:15:14.503244",
     "exception": false,
     "start_time": "2024-09-23T16:55:05.783026",
     "status": "completed"
    },
    "tags": []
   },
   "outputs": [],
   "source": [
    "# ----- Run the optimization with Optuna\n",
    "#\n",
    "study = optuna.create_study(study_name=f'{dt.datetime.now().strftime(\"%Y%m%d_%H%M\")}',\n",
    "                            direction='minimize',\n",
    "                            storage=STUDY_STORAGE_PATH,\n",
    "                            load_if_exists=True\n",
    "                            )\n",
    "study.optimize(objective_with_data_eng, n_trials=30)"
   ]
  },
  {
   "cell_type": "code",
   "execution_count": 66,
   "id": "af5039b0",
   "metadata": {
    "execution": {
     "iopub.execute_input": "2024-09-23T17:15:14.750202Z",
     "iopub.status.busy": "2024-09-23T17:15:14.749709Z",
     "iopub.status.idle": "2024-09-23T17:15:14.801005Z",
     "shell.execute_reply": "2024-09-23T17:15:14.799509Z"
    },
    "papermill": {
     "duration": 0.178905,
     "end_time": "2024-09-23T17:15:14.804338",
     "exception": false,
     "start_time": "2024-09-23T17:15:14.625433",
     "status": "completed"
    },
    "tags": []
   },
   "outputs": [],
   "source": [
    "# ---- Save results\n",
    "#\n",
    "results_df = format_study_results_to_df(study, random_state)\n",
    "comment = 'Data Eng: [transmission, engine], Target Encoder: categorical features'\n",
    "save_metrics(results_df, comment=comment)"
   ]
  },
  {
   "cell_type": "code",
   "execution_count": null,
   "id": "08b3c5fa",
   "metadata": {
    "execution": {
     "iopub.execute_input": "2024-09-23T17:15:15.050163Z",
     "iopub.status.busy": "2024-09-23T17:15:15.049694Z",
     "iopub.status.idle": "2024-09-23T17:15:15.107314Z",
     "shell.execute_reply": "2024-09-23T17:15:15.105556Z"
    },
    "papermill": {
     "duration": 0.188176,
     "end_time": "2024-09-23T17:15:15.113322",
     "exception": false,
     "start_time": "2024-09-23T17:15:14.925146",
     "status": "completed"
    },
    "tags": []
   },
   "outputs": [],
   "source": [
    "# ---- Have a look at the results\n",
    "#\n",
    "general_results_df = pd.read_csv(FILEPATH_model_results, sep=';')\n",
    "\n",
    "general_results_df.transpose()"
   ]
  },
  {
   "cell_type": "markdown",
   "id": "6fdf35b1",
   "metadata": {
    "papermill": {
     "duration": 0.123593,
     "end_time": "2024-09-23T17:15:15.368607",
     "exception": false,
     "start_time": "2024-09-23T17:15:15.245014",
     "status": "completed"
    },
    "tags": []
   },
   "source": [
    "## III.4. MAKE SUBMISSION"
   ]
  },
  {
   "cell_type": "markdown",
   "id": "5c98ab8d",
   "metadata": {
    "papermill": {
     "duration": 0.123481,
     "end_time": "2024-09-23T17:15:15.613948",
     "exception": false,
     "start_time": "2024-09-23T17:15:15.490467",
     "status": "completed"
    },
    "tags": []
   },
   "source": [
    "### III.4.1. REBUILD ET REFIT BEST MODEL"
   ]
  },
  {
   "cell_type": "code",
   "execution_count": null,
   "id": "7ab39064",
   "metadata": {
    "execution": {
     "iopub.execute_input": "2024-09-23T17:15:15.865673Z",
     "iopub.status.busy": "2024-09-23T17:15:15.865244Z",
     "iopub.status.idle": "2024-09-23T17:15:15.881444Z",
     "shell.execute_reply": "2024-09-23T17:15:15.880290Z"
    },
    "papermill": {
     "duration": 0.146643,
     "end_time": "2024-09-23T17:15:15.884048",
     "exception": false,
     "start_time": "2024-09-23T17:15:15.737405",
     "status": "completed"
    },
    "tags": []
   },
   "outputs": [],
   "source": [
    "# ---- Retrieve the best model from the final study we conducted\n",
    "#\n",
    "comment = 'Data Eng: [transmission, engine], Target Encoder: categorical features'\n",
    "best_rmse = general_results_df.loc[general_results_df['comment']==comment,'mean_test_rmse'].min()\n",
    "\n",
    "best_model_configuration = general_results_df[general_results_df['mean_test_rmse'] == best_rmse]\n",
    "display(best_model_configuration.transpose())"
   ]
  },
  {
   "cell_type": "code",
   "execution_count": 69,
   "id": "3e77457d",
   "metadata": {
    "execution": {
     "iopub.execute_input": "2024-09-23T17:15:16.132230Z",
     "iopub.status.busy": "2024-09-23T17:15:16.131689Z",
     "iopub.status.idle": "2024-09-23T17:15:16.139648Z",
     "shell.execute_reply": "2024-09-23T17:15:16.138395Z"
    },
    "papermill": {
     "duration": 0.135438,
     "end_time": "2024-09-23T17:15:16.142267",
     "exception": false,
     "start_time": "2024-09-23T17:15:16.006829",
     "status": "completed"
    },
    "tags": []
   },
   "outputs": [],
   "source": [
    "# ---- Select features to the same way the model was fitted\n",
    "#\n",
    "selected_features = []\n",
    "for feature in X.columns:\n",
    "    if best_model_configuration.get(feature) is not None:\n",
    "        if int(best_model_configuration.get(feature).iloc[0]) == 1:\n",
    "            selected_features.append(feature)"
   ]
  },
  {
   "cell_type": "code",
   "execution_count": null,
   "id": "d27b603b",
   "metadata": {
    "execution": {
     "iopub.execute_input": "2024-09-23T17:15:16.388646Z",
     "iopub.status.busy": "2024-09-23T17:15:16.387696Z",
     "iopub.status.idle": "2024-09-23T17:15:16.473495Z",
     "shell.execute_reply": "2024-09-23T17:15:16.472250Z"
    },
    "papermill": {
     "duration": 0.212362,
     "end_time": "2024-09-23T17:15:16.476060",
     "exception": false,
     "start_time": "2024-09-23T17:15:16.263698",
     "status": "completed"
    },
    "tags": []
   },
   "outputs": [],
   "source": [
    "# ---- Specify preprocessing strategy for each feature\n",
    "#\n",
    "categorical_features_enhanced = X.select_dtypes(include=['object']).columns.to_list()\n",
    "features_to_encode = categorical_features_enhanced\n",
    "print(f'features_to_encode: {features_to_encode}')\n",
    "\n",
    "# ---- We let numerical feature passthrough preprocessing"
   ]
  },
  {
   "cell_type": "code",
   "execution_count": 71,
   "id": "5cd58320",
   "metadata": {
    "execution": {
     "iopub.execute_input": "2024-09-23T17:15:16.720187Z",
     "iopub.status.busy": "2024-09-23T17:15:16.719737Z",
     "iopub.status.idle": "2024-09-23T17:15:16.769697Z",
     "shell.execute_reply": "2024-09-23T17:15:16.768507Z"
    },
    "papermill": {
     "duration": 0.176113,
     "end_time": "2024-09-23T17:15:16.772389",
     "exception": false,
     "start_time": "2024-09-23T17:15:16.596276",
     "status": "completed"
    },
    "tags": []
   },
   "outputs": [],
   "source": [
    "# ---- Re-build the model\n",
    "# ---- We fit the model on all data this time (X and y).\n",
    "    \n",
    "# ---- Retrieve model parameters\n",
    "#\n",
    "n_estimators = best_model_configuration.n_estimators.iloc[0]\n",
    "max_depth = best_model_configuration.max_depth.iloc[0]\n",
    "min_child_samples = best_model_configuration.min_child_samples.iloc[0]\n",
    "learning_rate = best_model_configuration.learning_rate.iloc[0]\n",
    "subsample = best_model_configuration.subsample.iloc[0]\n",
    "\n",
    "# ---- Retrieve the feature selection\n",
    "#\n",
    "X_selected = X[selected_features]\n",
    "\n",
    "# ---- Update the list features_to_encode based on selected features\n",
    "#\n",
    "features_to_encode_updated = [feature for feature in features_to_encode if feature in selected_features]\n",
    "\n",
    "\n",
    "# ---- Build the pipeline for complete mean target encoding\n",
    "#\n",
    "mean_target_pipe = Pipeline(\n",
    "    steps=[\n",
    "        ('target_encoder', TargetEncoder()),\n",
    "        ('imputer', SimpleImputer(strategy='mean'))#TargetEncoder replace by Nan the value of the test set that are not present in the train set. We replace those Nan value by the mean value of the associated column\n",
    "    ]\n",
    ")\n",
    "    \n",
    "# ---- Build the preprocessor to apply mean_target_pipe to the updated list features_to_encode\n",
    "#\n",
    "preprocessor_LGBM = ColumnTransformer(\n",
    "    transformers=[\n",
    "        ('enc', mean_target_pipe, features_to_encode_updated),\n",
    "    ],\n",
    "        remainder='passthrough'\n",
    ")\n",
    "    \n",
    "# ---- Create the model with the chosen parameters\n",
    "#\n",
    "model = LGBMRegressor(\n",
    "    n_estimators=n_estimators,\n",
    "    max_depth=max_depth,\n",
    "    min_child_samples=min_child_samples,\n",
    "    subsample=subsample,\n",
    "    random_state=random_state,\n",
    "    learning_rate=learning_rate,\n",
    "    verbose=-1  \n",
    ")\n",
    "    \n",
    "# ---- Build the pipeline\n",
    "#\n",
    "pipe = Pipeline(\n",
    "    steps=[\n",
    "        (\"prepro_LGBM\", preprocessor_LGBM),\n",
    "        (\"model\", model)\n",
    "    ]\n",
    ")"
   ]
  },
  {
   "cell_type": "code",
   "execution_count": null,
   "id": "006719be",
   "metadata": {
    "execution": {
     "iopub.execute_input": "2024-09-23T17:15:17.019092Z",
     "iopub.status.busy": "2024-09-23T17:15:17.018631Z",
     "iopub.status.idle": "2024-09-23T17:15:30.098845Z",
     "shell.execute_reply": "2024-09-23T17:15:30.097476Z"
    },
    "papermill": {
     "duration": 13.208267,
     "end_time": "2024-09-23T17:15:30.101994",
     "exception": false,
     "start_time": "2024-09-23T17:15:16.893727",
     "status": "completed"
    },
    "tags": []
   },
   "outputs": [],
   "source": [
    "# ---- Refit the model\n",
    "#\n",
    "pipe.fit(X_selected, y)"
   ]
  },
  {
   "cell_type": "markdown",
   "id": "40732fdd",
   "metadata": {
    "papermill": {
     "duration": 0.120847,
     "end_time": "2024-09-23T17:15:30.354536",
     "exception": false,
     "start_time": "2024-09-23T17:15:30.233689",
     "status": "completed"
    },
    "tags": []
   },
   "source": [
    "### III.4.2. PREDICT AND SAVE PREDICTION"
   ]
  },
  {
   "cell_type": "code",
   "execution_count": null,
   "id": "787f4e32",
   "metadata": {
    "execution": {
     "iopub.execute_input": "2024-09-23T17:15:30.597853Z",
     "iopub.status.busy": "2024-09-23T17:15:30.596677Z",
     "iopub.status.idle": "2024-09-23T17:15:40.066741Z",
     "shell.execute_reply": "2024-09-23T17:15:40.065544Z"
    },
    "papermill": {
     "duration": 9.595046,
     "end_time": "2024-09-23T17:15:40.069615",
     "exception": false,
     "start_time": "2024-09-23T17:15:30.474569",
     "status": "completed"
    },
    "tags": []
   },
   "outputs": [],
   "source": [
    "# ---- Load test.csv file\n",
    "# \n",
    "data_final = pd.read_csv(FILEPATH_test)\n",
    "\n",
    "# ---- Prepare data to the same way the model was fitted\n",
    "#\n",
    "data_final = simple_cleaning(data_final)\n",
    "data_final_enhanced = process_column_transmission(data_final)\n",
    "data_final_enhanced = process_columns_engine_and_fuel_type(data_final_enhanced)\n",
    "\n",
    "# ---- Select features to the same way the model was fitted\n",
    "#\n",
    "X_final_selected = data_final_enhanced[selected_features]\n",
    "X_final_selected.head(5)"
   ]
  },
  {
   "cell_type": "code",
   "execution_count": null,
   "id": "5ac4c25c",
   "metadata": {
    "execution": {
     "iopub.execute_input": "2024-09-23T17:15:40.319828Z",
     "iopub.status.busy": "2024-09-23T17:15:40.319225Z",
     "iopub.status.idle": "2024-09-23T17:15:43.615650Z",
     "shell.execute_reply": "2024-09-23T17:15:43.614228Z"
    },
    "papermill": {
     "duration": 3.424622,
     "end_time": "2024-09-23T17:15:43.618691",
     "exception": false,
     "start_time": "2024-09-23T17:15:40.194069",
     "status": "completed"
    },
    "tags": []
   },
   "outputs": [],
   "source": [
    "# ---- Predict\n",
    "# \n",
    "y_submission = pipe.predict(X_final_selected)\n",
    "y_df = pd.DataFrame(y_submission, columns=['price'])\n",
    "y_df"
   ]
  },
  {
   "cell_type": "code",
   "execution_count": null,
   "id": "537ad644",
   "metadata": {
    "execution": {
     "iopub.execute_input": "2024-09-23T17:15:43.871808Z",
     "iopub.status.busy": "2024-09-23T17:15:43.871013Z",
     "iopub.status.idle": "2024-09-23T17:15:43.998841Z",
     "shell.execute_reply": "2024-09-23T17:15:43.997603Z"
    },
    "papermill": {
     "duration": 0.258934,
     "end_time": "2024-09-23T17:15:44.001485",
     "exception": false,
     "start_time": "2024-09-23T17:15:43.742551",
     "status": "completed"
    },
    "tags": []
   },
   "outputs": [],
   "source": [
    "# ---- Build submission dataFrame\n",
    "# \n",
    "y_df['price'] = y_df['price'].apply(lambda x: int(x))\n",
    "submission_df = pd.concat([data_final['id'], y_df], axis=1)\n",
    "submission_df"
   ]
  },
  {
   "cell_type": "code",
   "execution_count": 76,
   "id": "d79b502d",
   "metadata": {
    "execution": {
     "iopub.execute_input": "2024-09-23T17:15:44.261792Z",
     "iopub.status.busy": "2024-09-23T17:15:44.261293Z",
     "iopub.status.idle": "2024-09-23T17:15:44.477234Z",
     "shell.execute_reply": "2024-09-23T17:15:44.475937Z"
    },
    "papermill": {
     "duration": 0.349431,
     "end_time": "2024-09-23T17:15:44.480260",
     "exception": false,
     "start_time": "2024-09-23T17:15:44.130829",
     "status": "completed"
    },
    "tags": []
   },
   "outputs": [],
   "source": [
    "# ---- Save prediction to csv\n",
    "# \n",
    "timestamp = dt.datetime.now().strftime(\"%Y%m%d_%H%M%S\")\n",
    "\n",
    "filepath = f'{OUTPUT_PATH_results}/submission_LGBM{timestamp}.csv'\n",
    "submission_df.to_csv(filepath, index=False)"
   ]
  },
  {
   "cell_type": "markdown",
   "id": "18f1b9ec",
   "metadata": {
    "papermill": {
     "duration": 0.123082,
     "end_time": "2024-09-23T17:15:44.730507",
     "exception": false,
     "start_time": "2024-09-23T17:15:44.607425",
     "status": "completed"
    },
    "tags": []
   },
   "source": [
    "# IV. TRY DATA ENGINEERING - 2ND ATTEMPT"
   ]
  },
  {
   "cell_type": "markdown",
   "id": "5a3e5d8f",
   "metadata": {
    "papermill": {
     "duration": 0.12573,
     "end_time": "2024-09-23T17:15:44.979260",
     "exception": false,
     "start_time": "2024-09-23T17:15:44.853530",
     "status": "completed"
    },
    "tags": []
   },
   "source": [
    "**Except 'milage' and maybe 'model_year', all the numerical feature we have take predetermmined discrete value. We could treat them as categorical and apply to them the same Target Encoding preprocessing as we did for categorical features. Let's see if it improve the results!**"
   ]
  },
  {
   "cell_type": "markdown",
   "id": "e5f7ec29",
   "metadata": {
    "papermill": {
     "duration": 0.125729,
     "end_time": "2024-09-23T17:15:45.229905",
     "exception": false,
     "start_time": "2024-09-23T17:15:45.104176",
     "status": "completed"
    },
    "tags": []
   },
   "source": [
    "## IV.1. PREPROCESS ALSO NUMERIC DISCRETE FEATURES"
   ]
  },
  {
   "cell_type": "code",
   "execution_count": null,
   "id": "3713a844",
   "metadata": {
    "execution": {
     "iopub.execute_input": "2024-09-23T17:15:45.490752Z",
     "iopub.status.busy": "2024-09-23T17:15:45.490229Z",
     "iopub.status.idle": "2024-09-23T17:15:45.497186Z",
     "shell.execute_reply": "2024-09-23T17:15:45.496055Z"
    },
    "papermill": {
     "duration": 0.141304,
     "end_time": "2024-09-23T17:15:45.500404",
     "exception": false,
     "start_time": "2024-09-23T17:15:45.359100",
     "status": "completed"
    },
    "tags": []
   },
   "outputs": [],
   "source": [
    "# ---- Specify preprocessing strategy for each feature\n",
    "#\n",
    "all_columns = X.columns.to_list()\n",
    "features_to_encode = all_columns\n",
    "features_to_encode.remove('milage')\n",
    "features_to_encode.remove('model_year')\n",
    "print(f'features_to_encode: {features_to_encode}')\n",
    "\n",
    "# ---- We let numerical feature passthrough preprocessing"
   ]
  },
  {
   "cell_type": "code",
   "execution_count": null,
   "id": "66df0723",
   "metadata": {
    "execution": {
     "iopub.execute_input": "2024-09-23T17:15:45.748369Z",
     "iopub.status.busy": "2024-09-23T17:15:45.747821Z",
     "iopub.status.idle": "2024-09-23T17:15:45.756933Z",
     "shell.execute_reply": "2024-09-23T17:15:45.755558Z"
    },
    "papermill": {
     "duration": 0.136942,
     "end_time": "2024-09-23T17:15:45.759730",
     "exception": false,
     "start_time": "2024-09-23T17:15:45.622788",
     "status": "completed"
    },
    "tags": []
   },
   "outputs": [],
   "source": [
    "# ---- Specify the list of features on which we will let Optuna apply a random selection. We force the selection for the other features.\n",
    "#\n",
    "features_to_suggest = [\n",
    "    'int_col',\n",
    "    'engine_size'\n",
    "]\n",
    "print(f'features_to_suggest: {features_to_suggest}')"
   ]
  },
  {
   "cell_type": "markdown",
   "id": "9dbf8dac",
   "metadata": {
    "papermill": {
     "duration": 0.12534,
     "end_time": "2024-09-23T17:15:46.017707",
     "exception": false,
     "start_time": "2024-09-23T17:15:45.892367",
     "status": "completed"
    },
    "tags": []
   },
   "source": [
    "## IV.2. PERFORM A NEW STUDY WITH OPTUNA"
   ]
  },
  {
   "cell_type": "markdown",
   "id": "9d6260da",
   "metadata": {
    "papermill": {
     "duration": 0.125163,
     "end_time": "2024-09-23T17:15:46.269985",
     "exception": false,
     "start_time": "2024-09-23T17:15:46.144822",
     "status": "completed"
    },
    "tags": []
   },
   "source": [
    "### IV.2.1 RE-BUILD A STUDY FOR OPTUNA"
   ]
  },
  {
   "cell_type": "code",
   "execution_count": 79,
   "id": "c3f3a60e",
   "metadata": {
    "execution": {
     "iopub.execute_input": "2024-09-23T17:15:46.517502Z",
     "iopub.status.busy": "2024-09-23T17:15:46.516914Z",
     "iopub.status.idle": "2024-09-23T17:15:46.537731Z",
     "shell.execute_reply": "2024-09-23T17:15:46.536457Z"
    },
    "papermill": {
     "duration": 0.147907,
     "end_time": "2024-09-23T17:15:46.540477",
     "exception": false,
     "start_time": "2024-09-23T17:15:46.392570",
     "status": "completed"
    },
    "tags": []
   },
   "outputs": [],
   "source": [
    "# ---- Build the optuna study\n",
    "#\n",
    "def objective_with_data_eng_2(trial):\n",
    "    '''\n",
    "    Objective function for Optuna optimization.\n",
    "\n",
    "    This function selects features and optimizes hyperparameters of a LGBM Regressor model.\n",
    "    For each trial, a subset of features is selected using a binary mask, and several hyperparameters\n",
    "    of the LGBM Regressor model are adjusted.\n",
    "\n",
    "    Parameters:\n",
    "    ----------\n",
    "        trial:  optuna.trial.Trial\n",
    "            An Optuna trial object that allows exploring different values for hyperparameters and feature selection.\n",
    "\n",
    "    Returns:\n",
    "    --------\n",
    "        mean_test_rmse: float\n",
    "            The negative mean squared error (MSE) score obtained through cross-validation (3-folds).\n",
    "    '''\n",
    "    # ---- Hyperparameter optimization\n",
    "    #\n",
    "    hyper_params = {\n",
    "        'cat_smooth': trial.suggest_int('cat_smooth', 1, 100),\n",
    "        'colsample_bytree': trial.suggest_uniform('colsample_bytree', 0.3, 1),\n",
    "        'learning_rate' : trial.suggest_loguniform('learning_rate', 0.0005, 0.03),\n",
    "        'max_depth' : trial.suggest_int('max_depth', 3, 8),\n",
    "        'min_child_samples' : trial.suggest_int('min_child_samples', 50, 1000),\n",
    "        'min_split_gain': trial.suggest_loguniform('min_split_gain', 0.000001, 0.5),\n",
    "        'n_estimators' : trial.suggest_int('n_estimators', 300, 700),\n",
    "        'num_leaves': trial.suggest_int('num_leaves', 10, 100),\n",
    "        'subsample' : trial.suggest_float('subsample', 0.2, 0.4, step=0.01)\n",
    "        }\n",
    "\n",
    "    # ---- Make the feature selection\n",
    "    #\n",
    "    # ---- Generate the mask\n",
    "    feature_mask = feature_selector(X_df=X, features_to_suggest=features_to_suggest, trial=trial)\n",
    "  \n",
    "    # ---- Ensure at least one feature is selected\n",
    "    if feature_mask.sum() == 0:\n",
    "        return np.inf\n",
    "    \n",
    "    # ---- Select features based on the mask\n",
    "    selected_features = X.columns[feature_mask == 1]\n",
    "    X_selected = X[selected_features]\n",
    "  \n",
    "    # ---- Update the list features_to_encode based on selected features\n",
    "    #\n",
    "    features_to_encode_updated = [feature for feature in features_to_encode if feature in selected_features]\n",
    "\n",
    "\n",
    "    # ---- Build the pipeline for complete mean target encoding\n",
    "    #\n",
    "    mean_target_pipe = Pipeline(\n",
    "        steps=[\n",
    "            ('target_encoder', TargetEncoder()),\n",
    "            ('imputer', SimpleImputer(strategy='mean'))#TargetEncoder replace by Nan the value of the test set that are not present in the train set. We replace those Nan value by the mean value of the associated column\n",
    "        ]\n",
    "    )\n",
    "    \n",
    "    # ---- Build the preprocessor to apply mean_target_pipe to the updated list features_to_encode\n",
    "    #\n",
    "    preprocessor_LGBM = ColumnTransformer(\n",
    "        transformers=[\n",
    "            ('enc', mean_target_pipe, features_to_encode_updated),\n",
    "        ],\n",
    "        remainder='passthrough'\n",
    "    )\n",
    "    \n",
    "    # ---- Create the model with the chosen parameters\n",
    "    #\n",
    "    model = LGBMRegressor(\n",
    "        **hyper_params,\n",
    "        random_state=random_state,\n",
    "        verbose=-1  \n",
    "    )\n",
    "    \n",
    "    # ---- Build the pipeline\n",
    "    #\n",
    "    pipe = Pipeline(\n",
    "        steps=[\n",
    "            (\"prepro_LGBM\", preprocessor_LGBM),\n",
    "            (\"model\", model)\n",
    "        ]\n",
    "    )\n",
    "    \n",
    "    # ---- Cross-Validation on selected features\n",
    "    #\n",
    "    kf = 3\n",
    "    \n",
    "    # ---- Perform cross-validation\n",
    "    #\n",
    "    results = cross_validate(pipe, X_selected, y, cv=kf, scoring=\"neg_root_mean_squared_error\", return_train_score=True)\n",
    "    \n",
    "    # ---- Compute the mean RMSE for train and test sets\n",
    "    #\n",
    "    mean_train_rmse = - np.mean(results['train_score'])\n",
    "    mean_test_rmse = - np.mean(results['test_score'])\n",
    "\n",
    "    # ---- Store results in the trial's user attribute\n",
    "    #\n",
    "    trial.set_user_attr(\"mean_train_rmse\", mean_train_rmse)\n",
    "    trial.set_user_attr(\"mean_test_rmse\", mean_test_rmse)\n",
    "    trial.set_user_attr(\"model_name\", type(model).__name__)\n",
    "    \n",
    "    # ---- Return the mean score on test for the objective function\n",
    "    #\n",
    "    return mean_test_rmse"
   ]
  },
  {
   "cell_type": "markdown",
   "id": "9c982fbb",
   "metadata": {
    "papermill": {
     "duration": 0.122993,
     "end_time": "2024-09-23T17:15:46.786718",
     "exception": false,
     "start_time": "2024-09-23T17:15:46.663725",
     "status": "completed"
    },
    "tags": []
   },
   "source": [
    "### IV.2.2. RUN THE STUDY AND SAVE RESULTS"
   ]
  },
  {
   "cell_type": "code",
   "execution_count": 80,
   "id": "d7216b96",
   "metadata": {
    "execution": {
     "iopub.execute_input": "2024-09-23T17:15:47.040320Z",
     "iopub.status.busy": "2024-09-23T17:15:47.039859Z",
     "iopub.status.idle": "2024-09-23T17:54:56.844852Z",
     "shell.execute_reply": "2024-09-23T17:54:56.843532Z"
    },
    "papermill": {
     "duration": 2349.935194,
     "end_time": "2024-09-23T17:54:56.848604",
     "exception": false,
     "start_time": "2024-09-23T17:15:46.913410",
     "status": "completed"
    },
    "tags": []
   },
   "outputs": [],
   "source": [
    "# ----- Run the optimization with Optuna\n",
    "#\n",
    "study = optuna.create_study(study_name=f'{dt.datetime.now().strftime(\"%Y%m%d_%H%M\")}',\n",
    "                            direction='minimize',\n",
    "                            storage=STUDY_STORAGE_PATH,\n",
    "                            load_if_exists=True\n",
    "                            )\n",
    "study.optimize(objective_with_data_eng_2, n_trials=50)"
   ]
  },
  {
   "cell_type": "code",
   "execution_count": 81,
   "id": "e571b5da",
   "metadata": {
    "execution": {
     "iopub.execute_input": "2024-09-23T17:54:57.112071Z",
     "iopub.status.busy": "2024-09-23T17:54:57.111487Z",
     "iopub.status.idle": "2024-09-23T17:54:57.177322Z",
     "shell.execute_reply": "2024-09-23T17:54:57.175233Z"
    },
    "papermill": {
     "duration": 0.200942,
     "end_time": "2024-09-23T17:54:57.180334",
     "exception": false,
     "start_time": "2024-09-23T17:54:56.979392",
     "status": "completed"
    },
    "tags": []
   },
   "outputs": [],
   "source": [
    "# ---- Save results\n",
    "#\n",
    "results_df = format_study_results_to_df(study, random_state)\n",
    "comment = 'Data Eng: [transmission, engine], Target Encoder: all features, except [milages, model_year]'\n",
    "save_metrics(results_df, comment=comment)"
   ]
  },
  {
   "cell_type": "code",
   "execution_count": null,
   "id": "2f6d1df4",
   "metadata": {
    "execution": {
     "iopub.execute_input": "2024-09-23T17:54:57.461935Z",
     "iopub.status.busy": "2024-09-23T17:54:57.461254Z",
     "iopub.status.idle": "2024-09-23T17:54:57.512599Z",
     "shell.execute_reply": "2024-09-23T17:54:57.510655Z"
    },
    "papermill": {
     "duration": 0.196705,
     "end_time": "2024-09-23T17:54:57.517481",
     "exception": false,
     "start_time": "2024-09-23T17:54:57.320776",
     "status": "completed"
    },
    "tags": []
   },
   "outputs": [],
   "source": [
    "# ---- Have a look at the results\n",
    "#\n",
    "general_results_df = pd.read_csv(FILEPATH_model_results, sep=';')\n",
    "\n",
    "general_results_df.transpose()"
   ]
  },
  {
   "cell_type": "markdown",
   "id": "b6cdd045",
   "metadata": {
    "papermill": {
     "duration": 0.130706,
     "end_time": "2024-09-23T17:54:57.789976",
     "exception": false,
     "start_time": "2024-09-23T17:54:57.659270",
     "status": "completed"
    },
    "tags": []
   },
   "source": [
    "## IV.3. MAKE SUBMISSION"
   ]
  },
  {
   "cell_type": "markdown",
   "id": "e195b9ca",
   "metadata": {
    "papermill": {
     "duration": 0.12773,
     "end_time": "2024-09-23T17:54:58.047864",
     "exception": false,
     "start_time": "2024-09-23T17:54:57.920134",
     "status": "completed"
    },
    "tags": []
   },
   "source": [
    "### IV.3.1. REBUILD AND REFIT BEST MODEL"
   ]
  },
  {
   "cell_type": "code",
   "execution_count": null,
   "id": "077813d0",
   "metadata": {
    "execution": {
     "iopub.execute_input": "2024-09-23T17:54:58.305082Z",
     "iopub.status.busy": "2024-09-23T17:54:58.304490Z",
     "iopub.status.idle": "2024-09-23T17:54:58.325071Z",
     "shell.execute_reply": "2024-09-23T17:54:58.324004Z"
    },
    "papermill": {
     "duration": 0.150979,
     "end_time": "2024-09-23T17:54:58.327631",
     "exception": false,
     "start_time": "2024-09-23T17:54:58.176652",
     "status": "completed"
    },
    "tags": []
   },
   "outputs": [],
   "source": [
    "# ---- Retrieve the best model rom the final study we conducted\n",
    "#\n",
    "comment = 'Data Eng: [transmission, engine], Target Encoder: all features, except [milages, model_year]'\n",
    "best_rmse = general_results_df.loc[general_results_df['comment']==comment,'mean_test_rmse'].min()\n",
    "\n",
    "best_model_configuration = general_results_df[general_results_df['mean_test_rmse'] == best_rmse]\n",
    "display(best_model_configuration.transpose())"
   ]
  },
  {
   "cell_type": "code",
   "execution_count": null,
   "id": "34bce82c",
   "metadata": {
    "execution": {
     "iopub.execute_input": "2024-09-23T17:54:58.584936Z",
     "iopub.status.busy": "2024-09-23T17:54:58.583876Z",
     "iopub.status.idle": "2024-09-23T17:54:58.595180Z",
     "shell.execute_reply": "2024-09-23T17:54:58.593917Z"
    },
    "papermill": {
     "duration": 0.142838,
     "end_time": "2024-09-23T17:54:58.597653",
     "exception": false,
     "start_time": "2024-09-23T17:54:58.454815",
     "status": "completed"
    },
    "tags": []
   },
   "outputs": [],
   "source": [
    "# ---- Select features to the same way the model was fitted\n",
    "#\n",
    "selected_features = []\n",
    "for feature in X.columns:\n",
    "    if best_model_configuration.get(feature) is not None:\n",
    "        if best_model_configuration.get(feature).iloc[0] == 1:\n",
    "            selected_features.append(feature)\n",
    "selected_features"
   ]
  },
  {
   "cell_type": "code",
   "execution_count": null,
   "id": "17f59037",
   "metadata": {
    "execution": {
     "iopub.execute_input": "2024-09-23T17:54:58.853532Z",
     "iopub.status.busy": "2024-09-23T17:54:58.853108Z",
     "iopub.status.idle": "2024-09-23T17:54:58.860340Z",
     "shell.execute_reply": "2024-09-23T17:54:58.859122Z"
    },
    "papermill": {
     "duration": 0.137228,
     "end_time": "2024-09-23T17:54:58.862822",
     "exception": false,
     "start_time": "2024-09-23T17:54:58.725594",
     "status": "completed"
    },
    "tags": []
   },
   "outputs": [],
   "source": [
    "# ---- Specify preprocessing strategy for each feature\n",
    "#\n",
    "all_columns = X.columns.to_list()\n",
    "features_to_encode = all_columns\n",
    "features_to_encode.remove('milage')\n",
    "features_to_encode.remove('model_year')\n",
    "print(f'features_to_encode: {features_to_encode}')\n",
    "\n",
    "# ---- We let numerical feature passthrough preprocessing"
   ]
  },
  {
   "cell_type": "code",
   "execution_count": 86,
   "id": "2255f822",
   "metadata": {
    "execution": {
     "iopub.execute_input": "2024-09-23T17:54:59.117586Z",
     "iopub.status.busy": "2024-09-23T17:54:59.117137Z",
     "iopub.status.idle": "2024-09-23T17:54:59.160604Z",
     "shell.execute_reply": "2024-09-23T17:54:59.159403Z"
    },
    "papermill": {
     "duration": 0.173305,
     "end_time": "2024-09-23T17:54:59.163519",
     "exception": false,
     "start_time": "2024-09-23T17:54:58.990214",
     "status": "completed"
    },
    "tags": []
   },
   "outputs": [],
   "source": [
    "# ---- Re-build the model\n",
    "# ---- We fit the model on all data this time (X and y).\n",
    "    \n",
    "# ---- Retrieve model parameters\n",
    "#\n",
    "n_estimators = best_model_configuration.n_estimators.iloc[0]\n",
    "max_depth = best_model_configuration.max_depth.iloc[0]\n",
    "min_child_samples = best_model_configuration.min_child_samples.iloc[0]\n",
    "learning_rate = best_model_configuration.learning_rate.iloc[0]\n",
    "subsample = best_model_configuration.subsample.iloc[0]\n",
    "\n",
    "# ---- Retrieve the feature selection\n",
    "#\n",
    "X_selected = X[selected_features]\n",
    "\n",
    "# ---- Update the list features_to_encode based on selected features\n",
    "#\n",
    "features_to_encode_updated = [feature for feature in features_to_encode if feature in selected_features]\n",
    "\n",
    "\n",
    "# ---- Build the pipeline for complete mean target encoding\n",
    "#\n",
    "mean_target_pipe = Pipeline(\n",
    "    steps=[\n",
    "        ('target_encoder', TargetEncoder()),\n",
    "        ('imputer', SimpleImputer(strategy='mean'))#TargetEncoder replace by Nan the value of the test set that are not present in the train set. We replace those Nan value by the mean value of the associated column\n",
    "    ]\n",
    ")\n",
    "    \n",
    "# ---- Build the preprocessor to apply mean_target_pipe to the updated list features_to_encode\n",
    "#\n",
    "preprocessor_LGBM = ColumnTransformer(\n",
    "    transformers=[\n",
    "        ('enc', mean_target_pipe, features_to_encode_updated),\n",
    "    ],\n",
    "    remainder='passthrough'\n",
    ")\n",
    "    \n",
    "# ---- Create the model with the chosen parameters\n",
    "#\n",
    "model = LGBMRegressor(\n",
    "    n_estimators=n_estimators,\n",
    "    max_depth=max_depth,\n",
    "    min_child_samples=min_child_samples,\n",
    "    subsample=subsample,\n",
    "    random_state=random_state,\n",
    "    learning_rate=learning_rate,\n",
    "    verbose=-1  \n",
    ")\n",
    "    \n",
    "# ---- Build the pipeline\n",
    "#\n",
    "pipe = Pipeline(\n",
    "    steps=[\n",
    "        (\"prepro_LGBM\", preprocessor_LGBM),\n",
    "        (\"model\", model)\n",
    "    ]\n",
    ")"
   ]
  },
  {
   "cell_type": "code",
   "execution_count": null,
   "id": "bdc9353d",
   "metadata": {
    "execution": {
     "iopub.execute_input": "2024-09-23T17:54:59.421695Z",
     "iopub.status.busy": "2024-09-23T17:54:59.420965Z",
     "iopub.status.idle": "2024-09-23T17:55:11.959513Z",
     "shell.execute_reply": "2024-09-23T17:55:11.958188Z"
    },
    "papermill": {
     "duration": 12.670487,
     "end_time": "2024-09-23T17:55:11.962218",
     "exception": false,
     "start_time": "2024-09-23T17:54:59.291731",
     "status": "completed"
    },
    "tags": []
   },
   "outputs": [],
   "source": [
    "# ---- Refit the model\n",
    "#\n",
    "pipe.fit(X_selected, y)"
   ]
  },
  {
   "cell_type": "markdown",
   "id": "979e5e93",
   "metadata": {
    "papermill": {
     "duration": 0.128437,
     "end_time": "2024-09-23T17:55:12.222226",
     "exception": false,
     "start_time": "2024-09-23T17:55:12.093789",
     "status": "completed"
    },
    "tags": []
   },
   "source": [
    "### IV.3.2. PREDICT AND SAVE PREDICTION"
   ]
  },
  {
   "cell_type": "code",
   "execution_count": null,
   "id": "56fbfac4",
   "metadata": {
    "execution": {
     "iopub.execute_input": "2024-09-23T17:55:12.477813Z",
     "iopub.status.busy": "2024-09-23T17:55:12.477172Z",
     "iopub.status.idle": "2024-09-23T17:55:22.072278Z",
     "shell.execute_reply": "2024-09-23T17:55:22.071039Z"
    },
    "papermill": {
     "duration": 9.726813,
     "end_time": "2024-09-23T17:55:22.075353",
     "exception": false,
     "start_time": "2024-09-23T17:55:12.348540",
     "status": "completed"
    },
    "tags": []
   },
   "outputs": [],
   "source": [
    "# ---- Load test.csv file\n",
    "# \n",
    "data_final = pd.read_csv(FILEPATH_test)\n",
    "\n",
    "# ---- Prepare data to the same way the model was fitted\n",
    "#\n",
    "data_final = simple_cleaning(data_final)\n",
    "data_final_enhanced = process_column_transmission(data_final)\n",
    "data_final_enhanced = process_columns_engine_and_fuel_type(data_final_enhanced)\n",
    "\n",
    "# ---- Select features to the same way the model was fitted\n",
    "#\n",
    "X_final_selected = data_final_enhanced[selected_features]\n",
    "X_final_selected.head(5)"
   ]
  },
  {
   "cell_type": "code",
   "execution_count": null,
   "id": "8aed8596",
   "metadata": {
    "execution": {
     "iopub.execute_input": "2024-09-23T17:55:22.353679Z",
     "iopub.status.busy": "2024-09-23T17:55:22.352987Z",
     "iopub.status.idle": "2024-09-23T17:55:26.270309Z",
     "shell.execute_reply": "2024-09-23T17:55:26.269018Z"
    },
    "papermill": {
     "duration": 4.052292,
     "end_time": "2024-09-23T17:55:26.273158",
     "exception": false,
     "start_time": "2024-09-23T17:55:22.220866",
     "status": "completed"
    },
    "tags": []
   },
   "outputs": [],
   "source": [
    "# ---- Predict\n",
    "# \n",
    "y_submission = pipe.predict(X_final_selected)\n",
    "y_df = pd.DataFrame(y_submission, columns=['price'])\n",
    "y_df"
   ]
  },
  {
   "cell_type": "code",
   "execution_count": null,
   "id": "5b18b0cf",
   "metadata": {
    "execution": {
     "iopub.execute_input": "2024-09-23T17:55:26.535308Z",
     "iopub.status.busy": "2024-09-23T17:55:26.534830Z",
     "iopub.status.idle": "2024-09-23T17:55:26.661978Z",
     "shell.execute_reply": "2024-09-23T17:55:26.660464Z"
    },
    "papermill": {
     "duration": 0.262517,
     "end_time": "2024-09-23T17:55:26.665238",
     "exception": false,
     "start_time": "2024-09-23T17:55:26.402721",
     "status": "completed"
    },
    "tags": []
   },
   "outputs": [],
   "source": [
    "# ---- Build submission dataFrame\n",
    "# \n",
    "y_df['price'] = y_df['price'].apply(lambda x: int(x))\n",
    "submission_df = pd.concat([data_final['id'], y_df], axis=1)\n",
    "submission_df"
   ]
  },
  {
   "cell_type": "code",
   "execution_count": 91,
   "id": "9b39cd02",
   "metadata": {
    "execution": {
     "iopub.execute_input": "2024-09-23T17:55:26.996646Z",
     "iopub.status.busy": "2024-09-23T17:55:26.996179Z",
     "iopub.status.idle": "2024-09-23T17:55:27.214269Z",
     "shell.execute_reply": "2024-09-23T17:55:27.213030Z"
    },
    "papermill": {
     "duration": 0.361366,
     "end_time": "2024-09-23T17:55:27.217170",
     "exception": false,
     "start_time": "2024-09-23T17:55:26.855804",
     "status": "completed"
    },
    "tags": []
   },
   "outputs": [],
   "source": [
    "# ---- Save prediction to csv\n",
    "# \n",
    "timestamp = dt.datetime.now().strftime(\"%Y%m%d_%H%M%S\")\n",
    "\n",
    "filepath = f'{OUTPUT_PATH_results}/submission_LGBM{timestamp}.csv'\n",
    "submission_df.to_csv(filepath, index=False)"
   ]
  },
  {
   "cell_type": "markdown",
   "id": "50bc12d4",
   "metadata": {
    "papermill": {
     "duration": 0.129834,
     "end_time": "2024-09-23T17:55:27.499767",
     "exception": false,
     "start_time": "2024-09-23T17:55:27.369933",
     "status": "completed"
    },
    "tags": []
   },
   "source": [
    "# V. MODEL EXPLAINIBILITY AND ANALYSE OF MODEL"
   ]
  },
  {
   "cell_type": "markdown",
   "id": "e03784a1",
   "metadata": {
    "papermill": {
     "duration": 0.132149,
     "end_time": "2024-09-23T17:55:27.760028",
     "exception": false,
     "start_time": "2024-09-23T17:55:27.627879",
     "status": "completed"
    },
    "tags": []
   },
   "source": [
    "## V.I. FEATURES IMPORTANCE"
   ]
  },
  {
   "cell_type": "code",
   "execution_count": 92,
   "id": "0b47a331",
   "metadata": {
    "execution": {
     "iopub.execute_input": "2024-09-23T17:55:28.026542Z",
     "iopub.status.busy": "2024-09-23T17:55:28.026104Z",
     "iopub.status.idle": "2024-09-23T17:55:28.032988Z",
     "shell.execute_reply": "2024-09-23T17:55:28.031570Z"
    },
    "papermill": {
     "duration": 0.144397,
     "end_time": "2024-09-23T17:55:28.036193",
     "exception": false,
     "start_time": "2024-09-23T17:55:27.891796",
     "status": "completed"
    },
    "tags": []
   },
   "outputs": [],
   "source": [
    "# ---- Retrieve the features names given to the model LGBM\n",
    "#\n",
    "feature_names = preprocessor_LGBM.get_feature_names_out()\n",
    "\n",
    "# ---- Retrieve the features importances determined by LGBM model\n",
    "#\n",
    "importances = model.feature_importances_"
   ]
  },
  {
   "cell_type": "code",
   "execution_count": null,
   "id": "091e3025",
   "metadata": {
    "execution": {
     "iopub.execute_input": "2024-09-23T17:55:28.303733Z",
     "iopub.status.busy": "2024-09-23T17:55:28.303324Z",
     "iopub.status.idle": "2024-09-23T17:55:28.726186Z",
     "shell.execute_reply": "2024-09-23T17:55:28.725015Z"
    },
    "papermill": {
     "duration": 0.561051,
     "end_time": "2024-09-23T17:55:28.728825",
     "exception": false,
     "start_time": "2024-09-23T17:55:28.167774",
     "status": "completed"
    },
    "tags": []
   },
   "outputs": [],
   "source": [
    "# ---- Create a DataFrame for plotting\n",
    "#\n",
    "importance_df = pd.DataFrame({\n",
    "    'Feature': feature_names,\n",
    "    'Importance': importances\n",
    "})\n",
    "\n",
    "# ---- Sort the DataFrame by importance\n",
    "#\n",
    "importance_df = importance_df.sort_values(by='Importance', ascending=False)\n",
    "\n",
    "# ---- Plot feature importance using Seaborn\n",
    "#\n",
    "plt.figure(figsize=(10, 6))\n",
    "sns.barplot(\n",
    "    x='Importance',\n",
    "    y='Feature',\n",
    "    data=importance_df,\n",
    "    palette='Blues_d'\n",
    ")\n",
    "plt.xlabel('Feature Importance')\n",
    "plt.title('Best Model Feature Importance')\n",
    "plt.show()"
   ]
  },
  {
   "cell_type": "markdown",
   "id": "2dbf1219",
   "metadata": {
    "papermill": {
     "duration": 0.129721,
     "end_time": "2024-09-23T17:55:28.997281",
     "exception": false,
     "start_time": "2024-09-23T17:55:28.867560",
     "status": "completed"
    },
    "tags": []
   },
   "source": [
    "### V.II. HYPERPARAMETER IMPORTANCE"
   ]
  },
  {
   "cell_type": "code",
   "execution_count": 94,
   "id": "f21c6335",
   "metadata": {
    "execution": {
     "iopub.execute_input": "2024-09-23T17:55:29.261305Z",
     "iopub.status.busy": "2024-09-23T17:55:29.260637Z",
     "iopub.status.idle": "2024-09-23T17:55:29.266211Z",
     "shell.execute_reply": "2024-09-23T17:55:29.265047Z"
    },
    "papermill": {
     "duration": 0.142148,
     "end_time": "2024-09-23T17:55:29.268781",
     "exception": false,
     "start_time": "2024-09-23T17:55:29.126633",
     "status": "completed"
    },
    "tags": []
   },
   "outputs": [],
   "source": [
    "# ---- List all optuna study we did\n",
    "#\n",
    "studies = optuna.get_all_study_summaries(storage=STUDY_STORAGE_PATH)\n",
    "print([study.study_name for study in studies])"
   ]
  },
  {
   "cell_type": "code",
   "execution_count": null,
   "id": "f5df055e",
   "metadata": {
    "execution": {
     "iopub.execute_input": "2024-09-23T17:55:29.530749Z",
     "iopub.status.busy": "2024-09-23T17:55:29.530311Z",
     "iopub.status.idle": "2024-09-23T17:55:31.532568Z",
     "shell.execute_reply": "2024-09-23T17:55:31.531329Z"
    },
    "papermill": {
     "duration": 2.137108,
     "end_time": "2024-09-23T17:55:31.534977",
     "exception": false,
     "start_time": "2024-09-23T17:55:29.397869",
     "status": "completed"
    },
    "tags": []
   },
   "outputs": [],
   "source": [
    "# ---- Reload the last study to analyse\n",
    "# \n",
    "study_name = studies[-1].study_name\n",
    "print(f'Name of the choosen study: {study_name}')\n",
    "\n",
    "study = optuna.load_study(study_name=study_name, storage=STUDY_STORAGE_PATH)\n",
    "\n",
    "# ---- Select hyper parameters to analyse\n",
    "#\n",
    "hyper_params_to_plot = [\n",
    "    'cat_smooth',\n",
    "    'colsample_bytree',\n",
    "    'learning_rate',\n",
    "    'max_depth',\n",
    "    'min_child_samples',\n",
    "    'min_split_gain',\n",
    "    'n_estimators',\n",
    "    'num_leaves',\n",
    "    'subsample'\n",
    "]\n",
    "\n",
    "# ---- Plot parameters importances of the final study\n",
    "#\n",
    "optuna.visualization.plot_param_importances(study, params=hyper_params_to_plot)"
   ]
  },
  {
   "cell_type": "code",
   "execution_count": null,
   "id": "6fd9ef18",
   "metadata": {
    "execution": {
     "iopub.execute_input": "2024-09-23T17:55:31.799367Z",
     "iopub.status.busy": "2024-09-23T17:55:31.798879Z",
     "iopub.status.idle": "2024-09-23T17:55:32.445112Z",
     "shell.execute_reply": "2024-09-23T17:55:32.443893Z"
    },
    "papermill": {
     "duration": 0.779888,
     "end_time": "2024-09-23T17:55:32.447591",
     "exception": false,
     "start_time": "2024-09-23T17:55:31.667703",
     "status": "completed"
    },
    "tags": []
   },
   "outputs": [],
   "source": [
    "optuna.visualization.plot_slice(study, params=hyper_params_to_plot)"
   ]
  }
 ],
 "metadata": {
  "kaggle": {
   "accelerator": "none",
   "dataSources": [
    {
     "databundleVersionId": 9057646,
     "sourceId": 76728,
     "sourceType": "competition"
    }
   ],
   "dockerImageVersionId": 30761,
   "isGpuEnabled": false,
   "isInternetEnabled": true,
   "language": "python",
   "sourceType": "notebook"
  },
  "kernelspec": {
   "display_name": "Python 3",
   "language": "python",
   "name": "python3"
  },
  "language_info": {
   "codemirror_mode": {
    "name": "ipython",
    "version": 3
   },
   "file_extension": ".py",
   "mimetype": "text/x-python",
   "name": "python",
   "nbconvert_exporter": "python",
   "pygments_lexer": "ipython3",
   "version": "3.10.12"
  },
  "papermill": {
   "default_parameters": {},
   "duration": 5465.161873,
   "end_time": "2024-09-23T17:55:33.815078",
   "environment_variables": {},
   "exception": null,
   "input_path": "__notebook__.ipynb",
   "output_path": "__notebook__.ipynb",
   "parameters": {},
   "start_time": "2024-09-23T16:24:28.653205",
   "version": "2.6.0"
  }
 },
 "nbformat": 4,
 "nbformat_minor": 5
}
