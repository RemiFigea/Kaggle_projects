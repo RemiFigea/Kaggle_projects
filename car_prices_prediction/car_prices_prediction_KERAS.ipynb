{
 "cells": [
  {
   "cell_type": "code",
   "execution_count": null,
   "id": "ff881b3b",
   "metadata": {
    "execution": {
     "iopub.execute_input": "2024-09-23T08:59:40.851813Z",
     "iopub.status.busy": "2024-09-23T08:59:40.851420Z",
     "iopub.status.idle": "2024-09-23T08:59:59.839689Z",
     "shell.execute_reply": "2024-09-23T08:59:59.838782Z"
    },
    "papermill": {
     "duration": 19.020527,
     "end_time": "2024-09-23T08:59:59.842001",
     "exception": false,
     "start_time": "2024-09-23T08:59:40.821474",
     "status": "completed"
    },
    "tags": []
   },
   "outputs": [],
   "source": [
    "import datetime as dt\n",
    "import glob\n",
    "from IPython.display import Image\n",
    "import matplotlib.pyplot as plt\n",
    "import numpy as np\n",
    "import pandas as pd\n",
    "import optuna\n",
    "import os\n",
    "import re\n",
    "import seaborn as sns\n",
    "from sklearn.compose import ColumnTransformer\n",
    "from sklearn.feature_extraction.text import CountVectorizer\n",
    "from sklearn.feature_selection import mutual_info_regression\n",
    "from sklearn.model_selection import train_test_split\n",
    "from sklearn.pipeline import Pipeline\n",
    "from sklearn.preprocessing import StandardScaler, OneHotEncoder, FunctionTransformer\n",
    "import shap\n",
    "import string\n",
    "import tensorflow as tf\n",
    "from tensorflow.keras import regularizers\n",
    "from tensorflow.keras.models import Model\n",
    "from tensorflow.keras.layers import Dense, Normalization, CategoryEncoding, Input, StringLookup, Concatenate\n",
    "from tensorflow.keras.utils import plot_model\n",
    "import warnings\n",
    "\n",
    "warnings.filterwarnings(\"ignore\")\n",
    "\n",
    "# ---- Adapt size of columns when displaying a DataFrame\n",
    "#\n",
    "pd.set_option('display.max_colwidth', None)"
   ]
  },
  {
   "cell_type": "code",
   "execution_count": null,
   "id": "18de62dc",
   "metadata": {
    "execution": {
     "iopub.execute_input": "2024-09-23T08:59:59.898602Z",
     "iopub.status.busy": "2024-09-23T08:59:59.897971Z",
     "iopub.status.idle": "2024-09-23T08:59:59.903386Z",
     "shell.execute_reply": "2024-09-23T08:59:59.902529Z"
    },
    "papermill": {
     "duration": 0.036399,
     "end_time": "2024-09-23T08:59:59.905775",
     "exception": false,
     "start_time": "2024-09-23T08:59:59.869376",
     "status": "completed"
    },
    "tags": []
   },
   "outputs": [],
   "source": [
    "# ---- Get the current working directory where python is executing to adapt filepath used in this notebook\n",
    "#\n",
    "current_directory = os.getcwd()\n",
    "print(\"Current directory :\", current_directory)"
   ]
  },
  {
   "cell_type": "code",
   "execution_count": 3,
   "id": "fe0fb0a2",
   "metadata": {
    "execution": {
     "iopub.execute_input": "2024-09-23T08:59:59.960612Z",
     "iopub.status.busy": "2024-09-23T08:59:59.960281Z",
     "iopub.status.idle": "2024-09-23T08:59:59.964385Z",
     "shell.execute_reply": "2024-09-23T08:59:59.963542Z"
    },
    "papermill": {
     "duration": 0.033611,
     "end_time": "2024-09-23T08:59:59.966170",
     "exception": false,
     "start_time": "2024-09-23T08:59:59.932559",
     "status": "completed"
    },
    "tags": []
   },
   "outputs": [],
   "source": [
    "#---- SKIP THIS SECTION ON KAGGLE ----\n",
    "# ---- Section dedicated to script.py import\n",
    "# \n",
    "import sys\n",
    "\n",
    "# ---- Specify path to the folder containing the scripts\n",
    "#\n",
    "script_path = './scripts'\n",
    "sys.path.append(script_path)\n",
    "\n",
    "# ---- Import the usefull function in the scripts\n",
    "#\n",
    "from visualization import make_barplot, make_hist, make_box_for_discrete_features, make_box_for_continuous_features"
   ]
  },
  {
   "cell_type": "code",
   "execution_count": 23,
   "id": "55387589",
   "metadata": {
    "execution": {
     "iopub.execute_input": "2024-09-23T09:00:00.021941Z",
     "iopub.status.busy": "2024-09-23T09:00:00.021569Z",
     "iopub.status.idle": "2024-09-23T09:00:00.026999Z",
     "shell.execute_reply": "2024-09-23T09:00:00.026111Z"
    },
    "papermill": {
     "duration": 0.035584,
     "end_time": "2024-09-23T09:00:00.029016",
     "exception": false,
     "start_time": "2024-09-23T08:59:59.993432",
     "status": "completed"
    },
    "tags": []
   },
   "outputs": [],
   "source": [
    "# ---- Define path to all csv input files\n",
    "#\n",
    "FILEPATH_train = './data/train.csv'\n",
    "FILEPATH_test = './data/test.csv'\n",
    "FILEPATH_sample_submission = './data/sample_submission.csv'\n",
    "# FILEPATH_train = '/kaggle/input/playground-series-s4e9/train.csv'\n",
    "# FILEPATH_test = '/kaggle/input/playground-series-s4e9/test.csv'\n",
    "# FILEPATH_sample_submission = '/kaggle/input/playground-series-s4e9/sample_submission.csv'\n",
    "\n",
    "# ---- Define path that will be used to store output files\n",
    "#\n",
    "OUTPUT_PATH_results = './results'\n",
    "FILEPATH_model_results = f'{OUTPUT_PATH_results}/model_results_KERAS.csv'\n",
    "DIRPATH_saved_models = f'{OUTPUT_PATH_results}/model'\n",
    "\n",
    "# ---- Define path to store results of study Optuna\n",
    "relative_path = f'{OUTPUT_PATH_results}/study_KERAS.db'\n",
    "STUDY_STORAGE_PATH = f'sqlite:///{relative_path}'\n",
    "\n",
    "os.makedirs(OUTPUT_PATH_results, exist_ok=True)\n",
    "\n",
    "# ---- Initialize seed\n",
    "# \n",
    "random_state = 32"
   ]
  },
  {
   "cell_type": "markdown",
   "id": "5afacdd5",
   "metadata": {
    "papermill": {
     "duration": 0.026335,
     "end_time": "2024-09-23T09:00:00.082104",
     "exception": false,
     "start_time": "2024-09-23T09:00:00.055769",
     "status": "completed"
    },
    "tags": []
   },
   "source": [
    "# I. EXPLORATORY DATA ANALASYS"
   ]
  },
  {
   "cell_type": "markdown",
   "id": "bfe5795b",
   "metadata": {
    "papermill": {
     "duration": 0.026625,
     "end_time": "2024-09-23T09:00:00.135396",
     "exception": false,
     "start_time": "2024-09-23T09:00:00.108771",
     "status": "completed"
    },
    "tags": []
   },
   "source": [
    "## I.1 LOAD DATA AND QUICK EXPLORATION"
   ]
  },
  {
   "cell_type": "code",
   "execution_count": 5,
   "id": "f2279e48",
   "metadata": {
    "execution": {
     "iopub.execute_input": "2024-09-23T09:00:00.191639Z",
     "iopub.status.busy": "2024-09-23T09:00:00.191255Z",
     "iopub.status.idle": "2024-09-23T09:00:00.945589Z",
     "shell.execute_reply": "2024-09-23T09:00:00.944767Z"
    },
    "papermill": {
     "duration": 0.785325,
     "end_time": "2024-09-23T09:00:00.948168",
     "exception": false,
     "start_time": "2024-09-23T09:00:00.162843",
     "status": "completed"
    },
    "tags": []
   },
   "outputs": [],
   "source": [
    "data = pd.read_csv(FILEPATH_train)"
   ]
  },
  {
   "cell_type": "code",
   "execution_count": null,
   "id": "e1d03122",
   "metadata": {
    "execution": {
     "iopub.execute_input": "2024-09-23T09:00:01.007005Z",
     "iopub.status.busy": "2024-09-23T09:00:01.006362Z",
     "iopub.status.idle": "2024-09-23T09:00:01.030257Z",
     "shell.execute_reply": "2024-09-23T09:00:01.029301Z"
    },
    "papermill": {
     "duration": 0.054658,
     "end_time": "2024-09-23T09:00:01.032280",
     "exception": false,
     "start_time": "2024-09-23T09:00:00.977622",
     "status": "completed"
    },
    "tags": []
   },
   "outputs": [],
   "source": [
    "data.head(3)"
   ]
  },
  {
   "cell_type": "code",
   "execution_count": null,
   "id": "d4b5f4de",
   "metadata": {
    "execution": {
     "iopub.execute_input": "2024-09-23T09:00:01.088092Z",
     "iopub.status.busy": "2024-09-23T09:00:01.087293Z",
     "iopub.status.idle": "2024-09-23T09:00:01.130143Z",
     "shell.execute_reply": "2024-09-23T09:00:01.129230Z"
    },
    "papermill": {
     "duration": 0.073029,
     "end_time": "2024-09-23T09:00:01.132341",
     "exception": false,
     "start_time": "2024-09-23T09:00:01.059312",
     "status": "completed"
    },
    "tags": []
   },
   "outputs": [],
   "source": [
    "data.describe()"
   ]
  },
  {
   "cell_type": "code",
   "execution_count": null,
   "id": "a59a8621",
   "metadata": {
    "execution": {
     "iopub.execute_input": "2024-09-23T09:00:01.188859Z",
     "iopub.status.busy": "2024-09-23T09:00:01.188203Z",
     "iopub.status.idle": "2024-09-23T09:00:01.362145Z",
     "shell.execute_reply": "2024-09-23T09:00:01.360986Z"
    },
    "papermill": {
     "duration": 0.204661,
     "end_time": "2024-09-23T09:00:01.364531",
     "exception": false,
     "start_time": "2024-09-23T09:00:01.159870",
     "status": "completed"
    },
    "tags": []
   },
   "outputs": [],
   "source": [
    "data.info()"
   ]
  },
  {
   "cell_type": "code",
   "execution_count": null,
   "id": "350d3db7",
   "metadata": {
    "execution": {
     "iopub.execute_input": "2024-09-23T09:00:01.422284Z",
     "iopub.status.busy": "2024-09-23T09:00:01.421914Z",
     "iopub.status.idle": "2024-09-23T09:00:01.429536Z",
     "shell.execute_reply": "2024-09-23T09:00:01.428597Z"
    },
    "papermill": {
     "duration": 0.038353,
     "end_time": "2024-09-23T09:00:01.431607",
     "exception": false,
     "start_time": "2024-09-23T09:00:01.393254",
     "status": "completed"
    },
    "tags": []
   },
   "outputs": [],
   "source": [
    "# ---- Get numerical columns names\n",
    "#\n",
    "numerical_columns = data.select_dtypes(include=['int64'])\n",
    "numerical_columns_name = numerical_columns.columns.to_list()\n",
    "numerical_columns_name \n"
   ]
  },
  {
   "cell_type": "code",
   "execution_count": null,
   "id": "ae4ce409",
   "metadata": {
    "execution": {
     "iopub.execute_input": "2024-09-23T09:00:01.489042Z",
     "iopub.status.busy": "2024-09-23T09:00:01.488663Z",
     "iopub.status.idle": "2024-09-23T09:00:01.494899Z",
     "shell.execute_reply": "2024-09-23T09:00:01.494029Z"
    },
    "papermill": {
     "duration": 0.036895,
     "end_time": "2024-09-23T09:00:01.497001",
     "exception": false,
     "start_time": "2024-09-23T09:00:01.460106",
     "status": "completed"
    },
    "tags": []
   },
   "outputs": [],
   "source": [
    "# ---- Get numerical features names\n",
    "# \n",
    "numerical_features = numerical_columns_name\n",
    "numerical_features.remove('id')\n",
    "numerical_features.remove('price')\n",
    "numerical_features"
   ]
  },
  {
   "cell_type": "code",
   "execution_count": null,
   "id": "20e4ca7e",
   "metadata": {
    "execution": {
     "iopub.execute_input": "2024-09-23T09:00:01.554464Z",
     "iopub.status.busy": "2024-09-23T09:00:01.553663Z",
     "iopub.status.idle": "2024-09-23T09:00:01.568859Z",
     "shell.execute_reply": "2024-09-23T09:00:01.567933Z"
    },
    "papermill": {
     "duration": 0.046365,
     "end_time": "2024-09-23T09:00:01.570767",
     "exception": false,
     "start_time": "2024-09-23T09:00:01.524402",
     "status": "completed"
    },
    "tags": []
   },
   "outputs": [],
   "source": [
    "# ---- Get categorical features names\n",
    "# \n",
    "categorical_columns = data.select_dtypes(include=['object'])\n",
    "categorical_features = categorical_columns.columns.to_list()\n",
    "categorical_features"
   ]
  },
  {
   "cell_type": "code",
   "execution_count": null,
   "id": "ec0907d1",
   "metadata": {
    "execution": {
     "iopub.execute_input": "2024-09-23T09:00:01.630236Z",
     "iopub.status.busy": "2024-09-23T09:00:01.629855Z",
     "iopub.status.idle": "2024-09-23T09:00:01.768814Z",
     "shell.execute_reply": "2024-09-23T09:00:01.767694Z"
    },
    "papermill": {
     "duration": 0.171121,
     "end_time": "2024-09-23T09:00:01.771181",
     "exception": false,
     "start_time": "2024-09-23T09:00:01.600060",
     "status": "completed"
    },
    "tags": []
   },
   "outputs": [],
   "source": [
    "# ---- Print number of category for each feature\n",
    "# \n",
    "for feature in categorical_features:\n",
    "    print(feature, ': ', data[feature].nunique())"
   ]
  },
  {
   "cell_type": "code",
   "execution_count": null,
   "id": "d63bdaf6",
   "metadata": {
    "execution": {
     "iopub.execute_input": "2024-09-23T09:00:01.828874Z",
     "iopub.status.busy": "2024-09-23T09:00:01.828513Z",
     "iopub.status.idle": "2024-09-23T09:00:02.086973Z",
     "shell.execute_reply": "2024-09-23T09:00:02.086002Z"
    },
    "papermill": {
     "duration": 0.289482,
     "end_time": "2024-09-23T09:00:02.089579",
     "exception": false,
     "start_time": "2024-09-23T09:00:01.800097",
     "status": "completed"
    },
    "tags": []
   },
   "outputs": [],
   "source": [
    "# ---- Explore deeper into categories\n",
    "# \n",
    "for feature in categorical_features:\n",
    "    print(data[feature].value_counts().nlargest(100), '\\n\\n****************************')"
   ]
  },
  {
   "cell_type": "markdown",
   "id": "f23d150a",
   "metadata": {
    "papermill": {
     "duration": 0.028118,
     "end_time": "2024-09-23T09:00:02.146297",
     "exception": false,
     "start_time": "2024-09-23T09:00:02.118179",
     "status": "completed"
    },
    "tags": []
   },
   "source": [
    "## I.2 SIMPLE DATA CLEANING"
   ]
  },
  {
   "cell_type": "code",
   "execution_count": null,
   "id": "b317d758",
   "metadata": {
    "execution": {
     "iopub.execute_input": "2024-09-23T09:00:02.245795Z",
     "iopub.status.busy": "2024-09-23T09:00:02.244941Z",
     "iopub.status.idle": "2024-09-23T09:00:02.402663Z",
     "shell.execute_reply": "2024-09-23T09:00:02.401647Z"
    },
    "papermill": {
     "duration": 0.229781,
     "end_time": "2024-09-23T09:00:02.404601",
     "exception": false,
     "start_time": "2024-09-23T09:00:02.174820",
     "status": "completed"
    },
    "tags": []
   },
   "outputs": [],
   "source": [
    "data.isna().sum()"
   ]
  },
  {
   "cell_type": "code",
   "execution_count": 9,
   "id": "d3aa8e8d",
   "metadata": {
    "execution": {
     "iopub.execute_input": "2024-09-23T09:00:02.463806Z",
     "iopub.status.busy": "2024-09-23T09:00:02.463471Z",
     "iopub.status.idle": "2024-09-23T09:00:02.470237Z",
     "shell.execute_reply": "2024-09-23T09:00:02.469344Z"
    },
    "papermill": {
     "duration": 0.038399,
     "end_time": "2024-09-23T09:00:02.472286",
     "exception": false,
     "start_time": "2024-09-23T09:00:02.433887",
     "status": "completed"
    },
    "tags": []
   },
   "outputs": [],
   "source": [
    "def simple_cleaning(data):\n",
    "    '''\n",
    "    Replaces missing values with 'Unknown' in specific columns\n",
    "    and converts text in categorical columns to lowercase.\n",
    "    \n",
    "    Parameters:\n",
    "    ___________\n",
    "    data: pd.DataFrame\n",
    "        The DataFrame to clean.\n",
    "    \n",
    "    Returns:\n",
    "    ________\n",
    "    data: pd.DataFrame\n",
    "        The DataFrame cleaned, with text values converted to lowercase.\n",
    "    '''    \n",
    "    # ---- Assign 'unknown' in column 'clean_title' and 'fuel_type' for missing values\n",
    "    #\n",
    "    data['clean_title'] = data['clean_title'].fillna('Unknown')\n",
    "    data['fuel_type'] = data['fuel_type'].fillna('Unknown')\n",
    "    data['accident'] = data['accident'].fillna('Unknown')\n",
    "    \n",
    "    # ---- Lowercase text in categorical columns\n",
    "    #\n",
    "    categorical_features = data.select_dtypes(include=['object']).columns\n",
    "    data[categorical_features] = data[categorical_features].apply(lambda x: x.str.lower())\n",
    "    \n",
    "    return data"
   ]
  },
  {
   "cell_type": "code",
   "execution_count": 10,
   "id": "615de4d1",
   "metadata": {
    "execution": {
     "iopub.execute_input": "2024-09-23T09:00:02.530532Z",
     "iopub.status.busy": "2024-09-23T09:00:02.530119Z",
     "iopub.status.idle": "2024-09-23T09:00:03.129775Z",
     "shell.execute_reply": "2024-09-23T09:00:03.128744Z"
    },
    "papermill": {
     "duration": 0.631504,
     "end_time": "2024-09-23T09:00:03.132178",
     "exception": false,
     "start_time": "2024-09-23T09:00:02.500674",
     "status": "completed"
    },
    "tags": []
   },
   "outputs": [],
   "source": [
    "data = simple_cleaning(data)"
   ]
  },
  {
   "cell_type": "code",
   "execution_count": null,
   "id": "ba7e0258",
   "metadata": {
    "execution": {
     "iopub.execute_input": "2024-09-23T09:00:03.197778Z",
     "iopub.status.busy": "2024-09-23T09:00:03.197385Z",
     "iopub.status.idle": "2024-09-23T09:00:03.362877Z",
     "shell.execute_reply": "2024-09-23T09:00:03.361973Z"
    },
    "papermill": {
     "duration": 0.197081,
     "end_time": "2024-09-23T09:00:03.365001",
     "exception": false,
     "start_time": "2024-09-23T09:00:03.167920",
     "status": "completed"
    },
    "tags": []
   },
   "outputs": [],
   "source": [
    "# ---- Check if values are still missing\n",
    "# \n",
    "data.isna().sum()"
   ]
  },
  {
   "cell_type": "code",
   "execution_count": null,
   "id": "e4284328",
   "metadata": {
    "execution": {
     "iopub.execute_input": "2024-09-23T09:00:03.423624Z",
     "iopub.status.busy": "2024-09-23T09:00:03.423024Z",
     "iopub.status.idle": "2024-09-23T09:00:03.844031Z",
     "shell.execute_reply": "2024-09-23T09:00:03.843073Z"
    },
    "papermill": {
     "duration": 0.452772,
     "end_time": "2024-09-23T09:00:03.846313",
     "exception": false,
     "start_time": "2024-09-23T09:00:03.393541",
     "status": "completed"
    },
    "tags": []
   },
   "outputs": [],
   "source": [
    "# ---- Look for duplicated rows\n",
    "#\n",
    "print(data.duplicated().sum())\n",
    "\n",
    "# ---- Look for duplicated rows skipping column id\n",
    "#\n",
    "print(data.iloc[:,1:].duplicated().sum())"
   ]
  },
  {
   "cell_type": "markdown",
   "id": "1fb9a1e8",
   "metadata": {
    "papermill": {
     "duration": 0.028657,
     "end_time": "2024-09-23T09:00:03.904201",
     "exception": false,
     "start_time": "2024-09-23T09:00:03.875544",
     "status": "completed"
    },
    "tags": []
   },
   "source": [
    "## I.3 DATA VISUALIZATION\n"
   ]
  },
  {
   "cell_type": "markdown",
   "id": "c6617ff7",
   "metadata": {
    "papermill": {
     "duration": 0.028032,
     "end_time": "2024-09-23T09:00:03.960659",
     "exception": false,
     "start_time": "2024-09-23T09:00:03.932627",
     "status": "completed"
    },
    "tags": []
   },
   "source": [
    "### I.3.1 LIST OF USEFULL PLOTTING FUNCTIONS"
   ]
  },
  {
   "cell_type": "markdown",
   "id": "adf0a59a",
   "metadata": {
    "papermill": {
     "duration": 0.029634,
     "end_time": "2024-09-23T09:00:04.094335",
     "exception": false,
     "start_time": "2024-09-23T09:00:04.064701",
     "status": "completed"
    },
    "tags": []
   },
   "source": [
    "### I.3.2. PLOTS"
   ]
  },
  {
   "cell_type": "code",
   "execution_count": null,
   "id": "64c730e9",
   "metadata": {
    "execution": {
     "iopub.execute_input": "2024-09-23T09:00:04.153078Z",
     "iopub.status.busy": "2024-09-23T09:00:04.152679Z",
     "iopub.status.idle": "2024-09-23T09:00:06.648222Z",
     "shell.execute_reply": "2024-09-23T09:00:06.647174Z"
    },
    "papermill": {
     "duration": 2.5277,
     "end_time": "2024-09-23T09:00:06.650703",
     "exception": false,
     "start_time": "2024-09-23T09:00:04.123003",
     "status": "completed"
    },
    "tags": []
   },
   "outputs": [],
   "source": [
    "make_barplot(data, categorical_features, 10)"
   ]
  },
  {
   "cell_type": "code",
   "execution_count": null,
   "id": "442d652b",
   "metadata": {
    "execution": {
     "iopub.execute_input": "2024-09-23T09:00:06.723438Z",
     "iopub.status.busy": "2024-09-23T09:00:06.723063Z",
     "iopub.status.idle": "2024-09-23T09:00:07.944181Z",
     "shell.execute_reply": "2024-09-23T09:00:07.943244Z"
    },
    "papermill": {
     "duration": 1.259016,
     "end_time": "2024-09-23T09:00:07.946181",
     "exception": false,
     "start_time": "2024-09-23T09:00:06.687165",
     "status": "completed"
    },
    "tags": []
   },
   "outputs": [],
   "source": [
    "make_hist(data, numerical_features + ['price'])"
   ]
  },
  {
   "cell_type": "code",
   "execution_count": 22,
   "id": "e4ed3f9c",
   "metadata": {
    "execution": {
     "iopub.execute_input": "2024-09-23T09:00:08.019956Z",
     "iopub.status.busy": "2024-09-23T09:00:08.019302Z",
     "iopub.status.idle": "2024-09-23T09:00:08.049815Z",
     "shell.execute_reply": "2024-09-23T09:00:08.049070Z"
    },
    "papermill": {
     "duration": 0.069965,
     "end_time": "2024-09-23T09:00:08.051952",
     "exception": false,
     "start_time": "2024-09-23T09:00:07.981987",
     "status": "completed"
    },
    "tags": []
   },
   "outputs": [],
   "source": [
    "X_df = data.drop(['price'], axis=1)\n",
    "y_df = data.price\n",
    "\n",
    "discrete_features_to_plot = ['model_year']\n",
    "continious_features_to_plot = ['milage']"
   ]
  },
  {
   "cell_type": "code",
   "execution_count": null,
   "id": "cfc1d8b6",
   "metadata": {
    "execution": {
     "iopub.execute_input": "2024-09-23T09:00:08.125929Z",
     "iopub.status.busy": "2024-09-23T09:00:08.125545Z",
     "iopub.status.idle": "2024-09-23T09:00:10.703800Z",
     "shell.execute_reply": "2024-09-23T09:00:10.702866Z"
    },
    "papermill": {
     "duration": 2.618479,
     "end_time": "2024-09-23T09:00:10.706796",
     "exception": false,
     "start_time": "2024-09-23T09:00:08.088317",
     "status": "completed"
    },
    "tags": []
   },
   "outputs": [],
   "source": [
    "make_box_for_continuous_features(X_df, continious_features_to_plot, y_df, bins=100, ylim=(-1000,180000))\n",
    "make_box_for_discrete_features(X_df, discrete_features_to_plot, y_df)"
   ]
  },
  {
   "cell_type": "markdown",
   "id": "72ca0476",
   "metadata": {
    "papermill": {
     "duration": 0.040477,
     "end_time": "2024-09-23T09:00:10.789753",
     "exception": false,
     "start_time": "2024-09-23T09:00:10.749276",
     "status": "completed"
    },
    "tags": []
   },
   "source": [
    "**In this final graph, we observe a trend between price and the model year. Therefore, we can decide to treat the model_year feature as a numeric variable rather than encoding it as we will for the categorical features. (I try it but it do not help the results, so I change my mind!)**"
   ]
  },
  {
   "cell_type": "code",
   "execution_count": null,
   "id": "ef70320c",
   "metadata": {
    "execution": {
     "iopub.execute_input": "2024-09-23T09:00:10.871759Z",
     "iopub.status.busy": "2024-09-23T09:00:10.870894Z",
     "iopub.status.idle": "2024-09-23T09:00:35.199222Z",
     "shell.execute_reply": "2024-09-23T09:00:35.198246Z"
    },
    "papermill": {
     "duration": 24.371897,
     "end_time": "2024-09-23T09:00:35.201570",
     "exception": false,
     "start_time": "2024-09-23T09:00:10.829673",
     "status": "completed"
    },
    "tags": []
   },
   "outputs": [],
   "source": [
    "# ---- Quick overview of direct correlation between features and target\n",
    "# \n",
    "def make_mi_scores(data_df, categorical_features, numerical_features, target):\n",
    "    \"\"\"\n",
    "    Calculate mutual information (MI) scores between features and the target variable.\n",
    "\n",
    "    Categorical features are factorized before calculating MI using `mutual_info_regression`. \n",
    "    The function returns a sorted pandas Series of MI scores, showing the importance of each feature \n",
    "    for predicting the target.\n",
    "\n",
    "    Parameters\n",
    "    ----------\n",
    "    data_df : pd.DataFrame\n",
    "        DataFrame containing the features and target variable.\n",
    "    categorical_features : list\n",
    "        List of column names representing categorical features.\n",
    "    numerical_features : list\n",
    "        List of column names representing numerical features.\n",
    "    target : str\n",
    "        Column name of the target variable.\n",
    "    \n",
    "    Returns\n",
    "    -------\n",
    "    pd.Series\n",
    "        MI scores for each feature, sorted in descending order.\n",
    "    \"\"\"\n",
    "\n",
    "    X_df = data_df.copy()\n",
    "    y_df = X_df[target]\n",
    "    X_df = X_df[categorical_features + numerical_features]\n",
    "\n",
    "    # ---- Factorize categorical features to integer\n",
    "    #\n",
    "    for feature in categorical_features:\n",
    "        X_df[feature], _ = data_df[feature].factorize()\n",
    "\n",
    "    # ---- Detect discret features\n",
    "    #\n",
    "    discrete_features = [pd.api.types.is_integer_dtype(t) for t in X_df.dtypes]\n",
    "\n",
    "    # ---- Calcul mutual info scores\n",
    "    #\n",
    "    mi_scores = mutual_info_regression(X_df, y_df, discrete_features=discrete_features, random_state=0)\n",
    "\n",
    "    # ---- Build dataframe of results\n",
    "    #\n",
    "    mi_scores = pd.Series(mi_scores, name=\"MI Scores\", index=X_df.columns)\n",
    "    mi_scores = mi_scores.sort_values(ascending=False)\n",
    "    \n",
    "    return mi_scores\n",
    "\n",
    "make_mi_scores(data, categorical_features, numerical_features, 'price')\n",
    "\n"
   ]
  },
  {
   "cell_type": "markdown",
   "id": "e61ea7a2",
   "metadata": {
    "papermill": {
     "duration": 0.057524,
     "end_time": "2024-09-23T09:00:35.302127",
     "exception": false,
     "start_time": "2024-09-23T09:00:35.244603",
     "status": "completed"
    },
    "tags": []
   },
   "source": [
    "# II. MODELISATION DEEP LEARNING"
   ]
  },
  {
   "cell_type": "markdown",
   "id": "529c84ad",
   "metadata": {
    "papermill": {
     "duration": 0.040467,
     "end_time": "2024-09-23T09:00:35.389493",
     "exception": false,
     "start_time": "2024-09-23T09:00:35.349026",
     "status": "completed"
    },
    "tags": []
   },
   "source": [
    "## II.1. FIRST, SOME USEFULL FUNCTIONS WE WILL USE LATER"
   ]
  },
  {
   "cell_type": "code",
   "execution_count": 12,
   "id": "3ddec007",
   "metadata": {
    "execution": {
     "iopub.execute_input": "2024-09-23T09:00:35.474905Z",
     "iopub.status.busy": "2024-09-23T09:00:35.474032Z",
     "iopub.status.idle": "2024-09-23T09:00:35.482794Z",
     "shell.execute_reply": "2024-09-23T09:00:35.481849Z"
    },
    "papermill": {
     "duration": 0.054196,
     "end_time": "2024-09-23T09:00:35.484928",
     "exception": false,
     "start_time": "2024-09-23T09:00:35.430732",
     "status": "completed"
    },
    "tags": []
   },
   "outputs": [],
   "source": [
    "def format_results_to_df(history, hyperparameters, random_state):\n",
    "    '''\n",
    "    Build a DataFrame from the results\n",
    "\n",
    "    Parameters\n",
    "    ----------\n",
    "    history : History\n",
    "        The training history object containing the metrics.\n",
    "    hyperparameters : dict\n",
    "        Hyperparameters of the trained model.\n",
    "    random_state : int\n",
    "        Random state use to split data for reproducibility.\n",
    "\n",
    "    Returns\n",
    "    -------\n",
    "    results_df: pd.Dataframe\n",
    "    '''\n",
    "    # ---- List all files in 'DIRPATH_saved_models' directory and find the latest\n",
    "    #\n",
    "    list_of_files = glob.glob(os.path.join(DIRPATH_saved_models, '*'))\n",
    "    latest_file = max(list_of_files, key=os.path.getctime)\n",
    "\n",
    "    # ---- Initialize the an empty dictionnary and fill with parameters and results\n",
    "    #\n",
    "    results_dict = {}\n",
    "\n",
    "    # ---- Add filepath to the last saved model\n",
    "    #\n",
    "    results_dict['model_filepath'] = latest_file\n",
    "\n",
    "    # ----- Get back metrics\n",
    "    #\n",
    "    train_rmse_history = history.history['root_mean_squared_error']\n",
    "    val_rmse_history = history.history['val_root_mean_squared_error']\n",
    "    best_val_rmse = min(val_rmse_history)\n",
    "    best_epoch_rmse = val_rmse_history.index(best_val_rmse) + 1\n",
    "    train_rmse = train_rmse_history[val_rmse_history.index(best_val_rmse)]\n",
    "\n",
    "    # ---- Add metrics to results dictionary\n",
    "    #\n",
    "    results_dict['best_val_rmse'] = best_val_rmse\n",
    "    results_dict['associated_train_rmse'] = train_rmse\n",
    "    results_dict['best_epoch_rmse'] = best_epoch_rmse\n",
    "\n",
    "    # ---- Add model hyperparameters\n",
    "    #\n",
    "    results_dict = {**results_dict, **hyperparameters}\n",
    "\n",
    "    # ---- Add random_state used to split data\n",
    "    #\n",
    "    results_dict['random_state'] = random_state\n",
    "\n",
    "    results_df = pd.DataFrame([results_dict])\n",
    "\n",
    "    return results_df"
   ]
  },
  {
   "cell_type": "code",
   "execution_count": 13,
   "id": "e7b8eab8",
   "metadata": {
    "execution": {
     "iopub.execute_input": "2024-09-23T09:00:35.571640Z",
     "iopub.status.busy": "2024-09-23T09:00:35.570949Z",
     "iopub.status.idle": "2024-09-23T09:00:35.579867Z",
     "shell.execute_reply": "2024-09-23T09:00:35.578926Z"
    },
    "papermill": {
     "duration": 0.054023,
     "end_time": "2024-09-23T09:00:35.582064",
     "exception": false,
     "start_time": "2024-09-23T09:00:35.528041",
     "status": "completed"
    },
    "tags": []
   },
   "outputs": [],
   "source": [
    "def save_metrics(result_df, column_to_sort='best_val_rmse', comment=None, filepath=FILEPATH_model_results):\n",
    "    '''\n",
    "    Build a CSV file 'model_results.csv' in the current directory if it does not exist.\n",
    "    Populate the file with data from the given DataFrame, adding the date and random_state value.\n",
    "    \n",
    "    Parameters\n",
    "    ----------\n",
    "    result_df : pandas.DataFrame\n",
    "        The results of all trained models.\n",
    "    column_to_sort : str\n",
    "        Column to use to sort the dataset.\n",
    "    comment: str\n",
    "        Optionnal comment.\n",
    "    filepath: str\n",
    "        Complete path to store file including name and extension. Default FILEPATH_model_results.\n",
    "    \n",
    "    Returns\n",
    "    -------\n",
    "    Builds or appends to a CSV file (a the given filepath) with the results.\n",
    "    '''\n",
    "    # ---- Add comment to the result DataFrame\n",
    "    #\n",
    "    result_df['comment'] = comment\n",
    "    \n",
    "    # ----Check if the file already exists\n",
    "    #\n",
    "    if os.path.exists(filepath):\n",
    "        # ---- If the file exists, read the current data and append new data\n",
    "        #\n",
    "        existing_df = pd.read_csv(filepath, sep=';')\n",
    "        updated_df = pd.concat([existing_df, result_df], ignore_index=True)\n",
    "    else:\n",
    "        # ---- If the file doesn't exist, create a new DataFrame\n",
    "        #\n",
    "        updated_df = result_df\n",
    "    \n",
    "    # ---- Sort and drop duplicates\n",
    "    #\n",
    "    updated_df = updated_df.sort_values(column_to_sort)\n",
    "    updated_df.drop_duplicates(inplace=True)\n",
    "    \n",
    "    # ---- Write the updated DataFrame to the CSV file\n",
    "    #\n",
    "    # ---- Extract the name of the path of the directory where should be store the file\n",
    "    directory = os.path.dirname(filepath)\n",
    "    \n",
    "    # ---- Create the path to the directory if not exist\n",
    "    if directory:\n",
    "        os.makedirs(directory, exist_ok=True)\n",
    "    \n",
    "    # ---- Save file to .csv\n",
    "    updated_df.to_csv(filepath, index=False, sep=';')"
   ]
  },
  {
   "cell_type": "code",
   "execution_count": 14,
   "id": "f63704d5",
   "metadata": {
    "execution": {
     "iopub.execute_input": "2024-09-23T09:00:35.668218Z",
     "iopub.status.busy": "2024-09-23T09:00:35.667506Z",
     "iopub.status.idle": "2024-09-23T09:00:35.675109Z",
     "shell.execute_reply": "2024-09-23T09:00:35.674080Z"
    },
    "papermill": {
     "duration": 0.053256,
     "end_time": "2024-09-23T09:00:35.677248",
     "exception": false,
     "start_time": "2024-09-23T09:00:35.623992",
     "status": "completed"
    },
    "tags": []
   },
   "outputs": [],
   "source": [
    "def get_callbacks():\n",
    "    '''\n",
    "    Create the list of callbacks for Keras model training.\n",
    "\n",
    "    Returns:\n",
    "    --------\n",
    "    [savemodel_callback, early_stopping_callback]: list \n",
    "        List of Keras callbacks including EarlyStopping and ModelCheckpoint.\n",
    "    '''\n",
    "\n",
    "    # ---- Add callback to save best model\n",
    "    # \n",
    "    timestamp = dt.datetime.now().strftime(\"%Y%m%d_%H%M%S\")\n",
    "    # ---- Create the directory to store the  model if not exist\n",
    "    os.makedirs(DIRPATH_saved_models, exist_ok=True)\n",
    "    # ---- Specify the complete path and name of the model to save\n",
    "    save_dir = f\"{DIRPATH_saved_models}/model_{timestamp}.keras\"\n",
    "\n",
    "    savemodel_callback = tf.keras.callbacks.ModelCheckpoint(\n",
    "        filepath=save_dir,\n",
    "        monitor='val_root_mean_squared_error',\n",
    "        mode='min',\n",
    "        save_best_only=True\n",
    "    )\n",
    "\n",
    "    # ---- Add callback to stop training if no more improving\n",
    "    #\n",
    "    early_stopping_callback = tf.keras.callbacks.EarlyStopping(\n",
    "        monitor='val_root_mean_squared_error',\n",
    "        min_delta=0,\n",
    "        patience=5,\n",
    "        verbose=0,\n",
    "        mode=\"auto\",\n",
    "        baseline=None,\n",
    "        restore_best_weights=False,\n",
    "        start_from_epoch=0,\n",
    "    )\n",
    "\n",
    "    return [savemodel_callback, early_stopping_callback]"
   ]
  },
  {
   "cell_type": "markdown",
   "id": "570545b9",
   "metadata": {
    "papermill": {
     "duration": 0.044036,
     "end_time": "2024-09-23T09:00:35.762991",
     "exception": false,
     "start_time": "2024-09-23T09:00:35.718955",
     "status": "completed"
    },
    "tags": []
   },
   "source": [
    "## II.2. FIRST METHOD : MODEL USING KERAS PREPROCESSING LAYERS"
   ]
  },
  {
   "cell_type": "markdown",
   "id": "fc6b1470",
   "metadata": {
    "papermill": {
     "duration": 0.041331,
     "end_time": "2024-09-23T09:00:35.845531",
     "exception": false,
     "start_time": "2024-09-23T09:00:35.804200",
     "status": "completed"
    },
    "tags": []
   },
   "source": [
    "### II.2.1. DATA PREPARATION  - MODEL WITH KERAS PREPROCESSING LAYERS"
   ]
  },
  {
   "cell_type": "code",
   "execution_count": null,
   "id": "87020d55",
   "metadata": {
    "execution": {
     "iopub.execute_input": "2024-09-23T09:00:35.932754Z",
     "iopub.status.busy": "2024-09-23T09:00:35.932060Z",
     "iopub.status.idle": "2024-09-23T09:00:36.131900Z",
     "shell.execute_reply": "2024-09-23T09:00:36.130641Z"
    },
    "papermill": {
     "duration": 0.245705,
     "end_time": "2024-09-23T09:00:36.134234",
     "exception": false,
     "start_time": "2024-09-23T09:00:35.888529",
     "status": "completed"
    },
    "tags": []
   },
   "outputs": [],
   "source": [
    "# ---- Prepare data\n",
    "#\n",
    "X = data[numerical_features + categorical_features]\n",
    "y = data['price']\n",
    "\n",
    "X.info()"
   ]
  },
  {
   "cell_type": "code",
   "execution_count": 16,
   "id": "423cddd0",
   "metadata": {
    "execution": {
     "iopub.execute_input": "2024-09-23T09:00:36.219088Z",
     "iopub.status.busy": "2024-09-23T09:00:36.218678Z",
     "iopub.status.idle": "2024-09-23T09:00:36.223526Z",
     "shell.execute_reply": "2024-09-23T09:00:36.222692Z"
    },
    "papermill": {
     "duration": 0.04994,
     "end_time": "2024-09-23T09:00:36.225562",
     "exception": false,
     "start_time": "2024-09-23T09:00:36.175622",
     "status": "completed"
    },
    "tags": []
   },
   "outputs": [],
   "source": [
    "# ---- Specify a preprocessing method to group of features\n",
    "#\n",
    "# ---- Continuous numeric features to normalize\n",
    "numeric_continuous_features = ['milage']\n",
    "\n",
    "# ---- Categorical type object features to encode\n",
    "categorical_object_features = categorical_features\n",
    "\n",
    "# ---- Discrete numeric features to encode\n",
    "numeric_discrete_features = ['model_year']\n"
   ]
  },
  {
   "cell_type": "code",
   "execution_count": 17,
   "id": "bab95cd4",
   "metadata": {
    "execution": {
     "iopub.execute_input": "2024-09-23T09:00:36.311711Z",
     "iopub.status.busy": "2024-09-23T09:00:36.310754Z",
     "iopub.status.idle": "2024-09-23T09:00:36.500255Z",
     "shell.execute_reply": "2024-09-23T09:00:36.499444Z"
    },
    "papermill": {
     "duration": 0.235177,
     "end_time": "2024-09-23T09:00:36.502468",
     "exception": false,
     "start_time": "2024-09-23T09:00:36.267291",
     "status": "completed"
    },
    "tags": []
   },
   "outputs": [],
   "source": [
    "# ---- Split data\n",
    "#\n",
    "X_train, X_test, y_train, y_test = train_test_split(X, y, test_size=0.2, random_state=random_state)\n",
    "\n",
    "# ---- Build the dictionnaries of numpy array to each sets\n",
    "#\n",
    "X_train_np = {}\n",
    "X_test_np = {}\n",
    "\n",
    "# ---- Reshape(-1,1) to conform to shape of array to Layers of Tensorflow version 16.2\n",
    "for column in X_train.columns:\n",
    "    X_train_np[column] = np.array(X_train[column]).reshape(-1, 1)\n",
    "    X_test_np[column] = np.array(X_test[column]).reshape(-1, 1)\n",
    "\n",
    "# ---- Build the numpy array for target\n",
    "#\n",
    "y_train_np = np.array(y_train)\n",
    "y_test_np = np.array(y_test)"
   ]
  },
  {
   "cell_type": "markdown",
   "id": "5f4ce969",
   "metadata": {
    "papermill": {
     "duration": 0.041138,
     "end_time": "2024-09-23T09:00:36.584875",
     "exception": false,
     "start_time": "2024-09-23T09:00:36.543737",
     "status": "completed"
    },
    "tags": []
   },
   "source": [
    "### II.2.2. BUILD MODEL AND GRID FOR PARAMETERS OPTIMIZATION  - MODEL WITH KERAS PREPROCESSING LAYERS"
   ]
  },
  {
   "cell_type": "code",
   "execution_count": 18,
   "id": "6f29837e",
   "metadata": {
    "execution": {
     "iopub.execute_input": "2024-09-23T09:00:36.669275Z",
     "iopub.status.busy": "2024-09-23T09:00:36.668600Z",
     "iopub.status.idle": "2024-09-23T09:00:37.722347Z",
     "shell.execute_reply": "2024-09-23T09:00:37.721508Z"
    },
    "papermill": {
     "duration": 1.098297,
     "end_time": "2024-09-23T09:00:37.724586",
     "exception": false,
     "start_time": "2024-09-23T09:00:36.626289",
     "status": "completed"
    },
    "tags": []
   },
   "outputs": [],
   "source": [
    "# ---- Preprare preprocessing layers\n",
    "#\n",
    "# ---- Initialize a dictionnary to collect all Input Layers\n",
    "all_inputs = {}\n",
    "# ---- Initialize a list to collect the result of all preprocessed layers\n",
    "preprocessed_features = []\n",
    "\n",
    "# ---- Apply StringLookup and CategoryEncoding to categorical features\n",
    "#\n",
    "for feature in categorical_object_features:\n",
    "    # ---- Build feature Input layer\n",
    "    feature_input = Input(shape=(1,), name=feature, dtype=\"string\")\n",
    "    all_inputs[feature] = feature_input\n",
    "    # ---- Fit StringLookup layer on X_train_np[feature]\n",
    "    lookup = StringLookup(output_mode=\"int\", name=f'{feature}_Lookup')\n",
    "    lookup.adapt(X_train_np[feature])\n",
    "    # ---- First transform feature Input with StringLookup\n",
    "    lookup_encoded_feature = lookup(feature_input)\n",
    "    # ---- Then encode with CategoryEncoding\n",
    "    onehot_encoded_feature = CategoryEncoding(\n",
    "                                            num_tokens=lookup.vocabulary_size(),\n",
    "                                            name=f'{feature}_OneHotEncoding',\n",
    "                                            output_mode=\"multi_hot\" # multi-hot to conform to shape required by TensorFlow 16.2\n",
    "                                            )(lookup_encoded_feature)\n",
    "    \n",
    "    preprocessed_features.append(onehot_encoded_feature)\n",
    "\n",
    "# ---- Apply Normalization to continuous numeric features\n",
    "#       \n",
    "for feature in numeric_continuous_features:\n",
    "    # ---- Build feature Input layer\n",
    "    feature_input = Input(shape=(1,), name=feature)\n",
    "    all_inputs[feature] = feature_input\n",
    "    # ---- Fit Normalization layer on X_train_np[feature]   \n",
    "    normalizer = Normalization(name=f'{feature}_Normalization')\n",
    "    normalizer.adapt(X_train_np[feature])\n",
    "    # ---- Transform feature Input\n",
    "    normalized_feature = normalizer(feature_input)\n",
    "    preprocessed_features.append(normalized_feature)\n",
    "\n",
    "# ---- Apply CategoryEncoding to discrete numeric features\n",
    "#  \n",
    "for feature in numeric_discrete_features:\n",
    "    # ---- Build feature Input layer\n",
    "    feature_input = Input(shape=(None,), name=feature)\n",
    "    all_inputs[feature] = feature_input\n",
    "    # Encode with the input with CategoryEncoding \n",
    "    onehot_encoded_feature = CategoryEncoding(\n",
    "                                            num_tokens=len(np.unique(X_train_np[feature])),\n",
    "                                            name=f'{feature}_OneHotEncoding',\n",
    "                                            output_mode=\"multi_hot\" # multi-hot to conform to shape require by TensorFlow 16.2\n",
    "                                            )(feature_input)\n",
    "    preprocessed_features.append(onehot_encoded_feature)\n",
    "\n",
    "# ---- Concatenate all preprocessing layers\n",
    "#\n",
    "all_encoded_features = Concatenate()(preprocessed_features)"
   ]
  },
  {
   "cell_type": "code",
   "execution_count": 19,
   "id": "03673c67",
   "metadata": {
    "execution": {
     "iopub.execute_input": "2024-09-23T09:00:37.808712Z",
     "iopub.status.busy": "2024-09-23T09:00:37.807935Z",
     "iopub.status.idle": "2024-09-23T09:00:37.821114Z",
     "shell.execute_reply": "2024-09-23T09:00:37.820209Z"
    },
    "papermill": {
     "duration": 0.057509,
     "end_time": "2024-09-23T09:00:37.823045",
     "exception": false,
     "start_time": "2024-09-23T09:00:37.765536",
     "status": "completed"
    },
    "tags": []
   },
   "outputs": [],
   "source": [
    "def objectiveKERAS(trial):\n",
    "    '''\n",
    "    Defines and trains a model using hyperparameters suggested by Optuna.\n",
    "\n",
    "    Parameters:\n",
    "    -----------\n",
    "    trial : optuna.trial.Trial\n",
    "        The Optuna trial object used for hyperparameter optimization.\n",
    "\n",
    "    Returns:\n",
    "    --------\n",
    "    validation_score : float\n",
    "        The best validation root mean squared error (RMSE) achieved.\n",
    "    '''\n",
    "    # ---- Choose hyperparameters:\n",
    "    #\n",
    "    parameters = {\n",
    "        'dense_1_units' : trial.suggest_int('dense_1_units', 16, 128, step=16),\n",
    "        'dense_1_kernel_regul_l1' : trial.suggest_uniform('dense_1_kernel_regul', 0, 0.02),\n",
    "        'dropout_1_dropout' :  trial.suggest_uniform('dropout_1_dropout', 0, 0.2),\n",
    "        'batch_size': 100,\n",
    "        'learning_rate': 0.001,\n",
    "    }\n",
    "    parameters['dense_2_units'] = parameters['dense_1_units']\n",
    "    parameters['dense_2_kernel_regul_l1'] = parameters['dense_1_kernel_regul_l1']\n",
    "    parameters['dropout_2_dropout'] = parameters['dropout_1_dropout']\n",
    "    \n",
    "    # ---- Feed model with preprocessing layers\n",
    "    #\n",
    "    dense_1 = tf.keras.layers.Dense(parameters.get('dense_1_units'),\n",
    "                                    activation='relu',\n",
    "                                    kernel_regularizer=regularizers.L1(parameters.get('dense_1_kernel_regul_l1')),\n",
    "                                    name='Dense_n1'\n",
    "                                    )(all_encoded_features)\n",
    "    \n",
    "    dropout_1 = tf.keras.layers.Dropout(parameters.get('dropout_1_dropout'), name='Dropout_n1')(dense_1)\n",
    "\n",
    "    dense_2 = tf.keras.layers.Dense(\n",
    "                                    parameters.get('dense_2_units'),\n",
    "                                    activation='relu',\n",
    "                                    kernel_regularizer=regularizers.L1(parameters.get('dense_2_kernel_regul_l1')),\n",
    "                                    name='Dense_n2'\n",
    "                                    )(dropout_1)\n",
    "    \n",
    "    dropout_2 = tf.keras.layers.Dropout(parameters.get('dropout_2_dropout'), name='Dropout_n2')(dense_2)\n",
    "\n",
    "    output = tf.keras.layers.Dense(1, name='Output')(dropout_2)\n",
    "    \n",
    "    # ---- Build model with the multiple inputs\n",
    "    #\n",
    "    model = Model(inputs=all_inputs, outputs=output)\n",
    "\n",
    "    # ---- Compile model\n",
    "    #\n",
    "    model.compile(\n",
    "    optimizer=tf.keras.optimizers.RMSprop(learning_rate=parameters['learning_rate']),\n",
    "        loss='mse',\n",
    "        metrics=['root_mean_squared_error']\n",
    "    )\n",
    "    \n",
    "    callbacks = get_callbacks()\n",
    "    epochs = 100\n",
    "\n",
    "    # ---- Fit model\n",
    "    #\n",
    "    history = model.fit(x=X_train_np,\n",
    "                    y=y_train_np,\n",
    "                    validation_data = (X_test_np , y_test_np),\n",
    "                    epochs=epochs,\n",
    "                    batch_size=parameters['batch_size'],\n",
    "                    verbose=1,\n",
    "                    callbacks=callbacks\n",
    "                    )\n",
    "    \n",
    "    # ---- Format result to dataframe and save results\n",
    "    #\n",
    "    result_df = format_results_to_df(history, parameters, random_state)\n",
    "    save_metrics(result_df=result_df,\n",
    "                 column_to_sort='best_val_rmse',\n",
    "                 comment='keras prepro layers')\n",
    "\n",
    "    # ---- Return score\n",
    "    #\n",
    "    validation_score = min(history.history['val_root_mean_squared_error'])\n",
    "\n",
    "    return validation_score"
   ]
  },
  {
   "cell_type": "markdown",
   "id": "437171d0",
   "metadata": {
    "papermill": {
     "duration": 0.040679,
     "end_time": "2024-09-23T09:00:37.904750",
     "exception": false,
     "start_time": "2024-09-23T09:00:37.864071",
     "status": "completed"
    },
    "tags": []
   },
   "source": [
    "### II.2.3. RUN THE STUDY AND SAVE MODEL AND RESULTS - MODEL WITH KERAS PREPROCESSING LAYERS"
   ]
  },
  {
   "cell_type": "code",
   "execution_count": null,
   "id": "9cd2def7",
   "metadata": {
    "execution": {
     "iopub.execute_input": "2024-09-23T09:00:37.988938Z",
     "iopub.status.busy": "2024-09-23T09:00:37.988137Z",
     "iopub.status.idle": "2024-09-23T09:26:05.739926Z",
     "shell.execute_reply": "2024-09-23T09:26:05.738951Z"
    },
    "papermill": {
     "duration": 1527.796332,
     "end_time": "2024-09-23T09:26:05.741958",
     "exception": false,
     "start_time": "2024-09-23T09:00:37.945626",
     "status": "completed"
    },
    "tags": []
   },
   "outputs": [],
   "source": [
    "# ---- Run optuna optimization\n",
    "#\n",
    "study = optuna.create_study(study_name='keras prepro',\n",
    "                            direction='minimize',\n",
    "                            storage=STUDY_STORAGE_PATH,\n",
    "                            load_if_exists=True\n",
    "                           )\n",
    "study.optimize(objectiveKERAS, n_trials=2) #We set to only 2 trials beacause it's very slow!"
   ]
  },
  {
   "cell_type": "code",
   "execution_count": null,
   "id": "3cfb87be",
   "metadata": {
    "execution": {
     "iopub.execute_input": "2024-09-23T09:26:09.731840Z",
     "iopub.status.busy": "2024-09-23T09:26:09.731011Z",
     "iopub.status.idle": "2024-09-23T09:26:09.749629Z",
     "shell.execute_reply": "2024-09-23T09:26:09.748799Z"
    },
    "papermill": {
     "duration": 2.024159,
     "end_time": "2024-09-23T09:26:09.751746",
     "exception": false,
     "start_time": "2024-09-23T09:26:07.727587",
     "status": "completed"
    },
    "tags": []
   },
   "outputs": [],
   "source": [
    "# ---- Have a look at the results\n",
    "#\n",
    "general_results_df = pd.read_csv(FILEPATH_model_results, sep=';')\n",
    "general_results_df.head(3)"
   ]
  },
  {
   "cell_type": "markdown",
   "id": "d56a0f00",
   "metadata": {
    "papermill": {
     "duration": 2.06347,
     "end_time": "2024-09-23T09:26:13.790088",
     "exception": false,
     "start_time": "2024-09-23T09:26:11.726618",
     "status": "completed"
    },
    "tags": []
   },
   "source": [
    "**We can see that the training took quite a long time. Maybe beacause with Keras preprocessing layers, each sample is reprocessed at every epoch. Let's try preprocessing all data before training with sklearn to see the difference.**"
   ]
  },
  {
   "cell_type": "markdown",
   "id": "28686332",
   "metadata": {
    "papermill": {
     "duration": 2.046927,
     "end_time": "2024-09-23T09:26:17.834351",
     "exception": false,
     "start_time": "2024-09-23T09:26:15.787424",
     "status": "completed"
    },
    "tags": []
   },
   "source": [
    "## II.3. SECOND METHOD : MODEL USING SKLEARN PREPROCESSING"
   ]
  },
  {
   "cell_type": "markdown",
   "id": "972a4dd2",
   "metadata": {
    "papermill": {
     "duration": 1.977347,
     "end_time": "2024-09-23T09:26:21.735305",
     "exception": false,
     "start_time": "2024-09-23T09:26:19.757958",
     "status": "completed"
    },
    "tags": []
   },
   "source": [
    "### II.3.1. DATA PREPARATION  - MODEL WITH SKLEARN PREPROCESSING"
   ]
  },
  {
   "cell_type": "code",
   "execution_count": null,
   "id": "514f9605",
   "metadata": {
    "execution": {
     "iopub.execute_input": "2024-09-23T09:26:25.735717Z",
     "iopub.status.busy": "2024-09-23T09:26:25.735297Z",
     "iopub.status.idle": "2024-09-23T09:26:25.742260Z",
     "shell.execute_reply": "2024-09-23T09:26:25.741397Z"
    },
    "papermill": {
     "duration": 2.021413,
     "end_time": "2024-09-23T09:26:25.744365",
     "exception": false,
     "start_time": "2024-09-23T09:26:23.722952",
     "status": "completed"
    },
    "tags": []
   },
   "outputs": [],
   "source": [
    "# ----- Specify a preprocessing method to group of features\n",
    "#\n",
    "# ----- Continuous numeric features to normalize\n",
    "features_to_scale = ['milage']\n",
    "# ----- Categorical type object features to encode\n",
    "features_to_encode = categorical_features + ['model_year']\n",
    "features_to_encode"
   ]
  },
  {
   "cell_type": "code",
   "execution_count": 36,
   "id": "6a4a11d6",
   "metadata": {
    "execution": {
     "iopub.execute_input": "2024-09-23T09:26:29.763389Z",
     "iopub.status.busy": "2024-09-23T09:26:29.763008Z",
     "iopub.status.idle": "2024-09-23T09:26:29.768201Z",
     "shell.execute_reply": "2024-09-23T09:26:29.767371Z"
    },
    "papermill": {
     "duration": 1.988835,
     "end_time": "2024-09-23T09:26:29.770185",
     "exception": false,
     "start_time": "2024-09-23T09:26:27.781350",
     "status": "completed"
    },
    "tags": []
   },
   "outputs": [],
   "source": [
    "# ---- Build preprocessor\n",
    "#\n",
    "preprocessor = ColumnTransformer(\n",
    "    transformers=[\n",
    "        (\"num\", StandardScaler(), features_to_scale),\n",
    "        (\"enc\", OneHotEncoder(drop=\"first\", handle_unknown='ignore', sparse=False), features_to_encode), #Specify sparse=False to avoid raising the XLA_GPU_JIT: SparseFillEmptyRows error when using GPU\n",
    "    ],\n",
    "    remainder='passthrough',\n",
    ")"
   ]
  },
  {
   "cell_type": "code",
   "execution_count": 37,
   "id": "4b1d615b",
   "metadata": {
    "execution": {
     "iopub.execute_input": "2024-09-23T09:26:33.759416Z",
     "iopub.status.busy": "2024-09-23T09:26:33.759022Z",
     "iopub.status.idle": "2024-09-23T09:26:33.913925Z",
     "shell.execute_reply": "2024-09-23T09:26:33.913117Z"
    },
    "papermill": {
     "duration": 2.140001,
     "end_time": "2024-09-23T09:26:33.916200",
     "exception": false,
     "start_time": "2024-09-23T09:26:31.776199",
     "status": "completed"
    },
    "tags": []
   },
   "outputs": [],
   "source": [
    "# ---- Split data\n",
    "#\n",
    "X_train, X_test, y_train, y_test = train_test_split(X, y, test_size=0.2, random_state=random_state)"
   ]
  },
  {
   "cell_type": "code",
   "execution_count": 38,
   "id": "779bb91a",
   "metadata": {
    "execution": {
     "iopub.execute_input": "2024-09-23T09:26:37.910067Z",
     "iopub.status.busy": "2024-09-23T09:26:37.909656Z",
     "iopub.status.idle": "2024-09-23T09:26:46.060866Z",
     "shell.execute_reply": "2024-09-23T09:26:46.059961Z"
    },
    "papermill": {
     "duration": 10.130933,
     "end_time": "2024-09-23T09:26:46.063145",
     "exception": false,
     "start_time": "2024-09-23T09:26:35.932212",
     "status": "completed"
    },
    "tags": []
   },
   "outputs": [],
   "source": [
    "# ---- Preprocess data with sklearn\n",
    "#\n",
    "X_train_preprocessed = preprocessor.fit_transform(X_train)\n",
    "X_test_preprocessed = preprocessor.transform(X_test)\n",
    "\n",
    "X_shape = X_train_preprocessed.shape"
   ]
  },
  {
   "cell_type": "markdown",
   "id": "31c0c0e6",
   "metadata": {
    "papermill": {
     "duration": 1.968277,
     "end_time": "2024-09-23T09:26:50.019189",
     "exception": false,
     "start_time": "2024-09-23T09:26:48.050912",
     "status": "completed"
    },
    "tags": []
   },
   "source": [
    "### II.3.2. BUILD MODEL AND GRID FOR PARAMETERS OPTIMIZATION  - MODEL WITH SKLEARN PREPROCESSING"
   ]
  },
  {
   "cell_type": "code",
   "execution_count": 39,
   "id": "f5fa7a88",
   "metadata": {
    "execution": {
     "iopub.execute_input": "2024-09-23T09:26:54.006438Z",
     "iopub.status.busy": "2024-09-23T09:26:54.005998Z",
     "iopub.status.idle": "2024-09-23T09:26:54.020655Z",
     "shell.execute_reply": "2024-09-23T09:26:54.019702Z"
    },
    "papermill": {
     "duration": 1.969895,
     "end_time": "2024-09-23T09:26:54.022657",
     "exception": false,
     "start_time": "2024-09-23T09:26:52.052762",
     "status": "completed"
    },
    "tags": []
   },
   "outputs": [],
   "source": [
    "def objective_SK1(trial):\n",
    "    '''\n",
    "    Defines and trains a model using hyperparameters suggested by Optuna.\n",
    "\n",
    "    Parameters:\n",
    "    -----------\n",
    "    trial : optuna.trial.Trial\n",
    "        The Optuna trial object used for hyperparameter optimization.\n",
    "\n",
    "    Returns:\n",
    "    --------\n",
    "    validation_score : float\n",
    "        The best validation root mean squared error (RMSE) achieved.\n",
    "    '''\n",
    "    # ---- Choose hyperparameters:\n",
    "    #\n",
    "    parameters = {\n",
    "        'dense_1_units' : trial.suggest_int('dense_1_units', 16, 128, step=16),\n",
    "        'dense_1_kernel_regul_l1' : trial.suggest_uniform('dense_1_kernel_regul', 0, 0.01),\n",
    "        'dropout_1_dropout' :  trial.suggest_uniform('dropout_1_dropout', 0, 0.1),\n",
    "        'batch_size': 100,\n",
    "        'learning_rate': 0.001,\n",
    "    }\n",
    "\n",
    "    parameters['dense_2_units'] = parameters['dense_1_units']\n",
    "    parameters['dense_2_kernel_regul_l1'] = parameters['dense_1_kernel_regul_l1']\n",
    "    parameters['dropout_2_dropout'] = parameters['dropout_1_dropout']\n",
    "    \n",
    "    # ---- Feed model with preprocessing layers\n",
    "    #\n",
    "    input = Input(shape=(X_shape[1],))\n",
    "\n",
    "    dense_1 = tf.keras.layers.Dense(parameters.get('dense_1_units'),\n",
    "                                    activation='relu',\n",
    "                                    kernel_regularizer=regularizers.L1(parameters.get('dense_1_kernel_regul_l1')),\n",
    "                                    name='Dense_n1'\n",
    "                                    )(input)\n",
    "    \n",
    "    dropout_1 = tf.keras.layers.Dropout(parameters.get('dropout_1_dropout'), name='Dropout_n1')(dense_1)\n",
    "\n",
    "    dense_2 = tf.keras.layers.Dense(\n",
    "                                    parameters.get('dense_2_units'),\n",
    "                                    activation='relu',\n",
    "                                    kernel_regularizer=regularizers.L1(parameters.get('dense_2_kernel_regul_l1')),\n",
    "                                    name='Dense_n2'\n",
    "                                    )(dropout_1)\n",
    "    \n",
    "    dropout_2 = tf.keras.layers.Dropout(parameters.get('dropout_2_dropout'), name='Dropout_n2')(dense_2)\n",
    "    \n",
    "    output = tf.keras.layers.Dense(1, name='Output')(dropout_2)\n",
    "\n",
    "    # ---- Build model with the multiple inputs\n",
    "    #\n",
    "    model = Model(inputs=input, outputs=output)\n",
    "\n",
    "    # ---- Compile model\n",
    "    #\n",
    "    model.compile(\n",
    "        optimizer=tf.keras.optimizers.RMSprop(learning_rate=parameters['learning_rate']),\n",
    "        loss='mse',\n",
    "        metrics=['root_mean_squared_error']\n",
    "    )\n",
    "\n",
    "    callbacks = get_callbacks()\n",
    "    epochs = 100\n",
    "\n",
    "    # ---- Fit model\n",
    "    #\n",
    "    history = model.fit(x=X_train_preprocessed,\n",
    "                    y=y_train,\n",
    "                    validation_data = (X_test_preprocessed , y_test),\n",
    "                    epochs=epochs,\n",
    "                    batch_size=parameters['batch_size'],\n",
    "                    verbose=1,\n",
    "                    callbacks=callbacks\n",
    "                    )\n",
    "    \n",
    "    # ---- Format result to dataframe and save results\n",
    "    #\n",
    "    result_df = format_results_to_df(history, parameters, random_state)\n",
    "    save_metrics(result_df=result_df,\n",
    "                 column_to_sort='best_val_rmse',\n",
    "                 comment='sk_learn prepro - Standard Scaler: milage, OneHotencoder: others')\n",
    "\n",
    "    # ---- Return score\n",
    "    #\n",
    "    validation_score = min(history.history['val_root_mean_squared_error'])\n",
    "\n",
    "    return validation_score"
   ]
  },
  {
   "cell_type": "markdown",
   "id": "5cac8245",
   "metadata": {
    "papermill": {
     "duration": 1.988583,
     "end_time": "2024-09-23T09:26:58.013001",
     "exception": false,
     "start_time": "2024-09-23T09:26:56.024418",
     "status": "completed"
    },
    "tags": []
   },
   "source": [
    "### II.3.3. RUN THE STUDY, SAVE MODEL AND RESULTS - MODEL WITH SKLEARN PREPROCESSING"
   ]
  },
  {
   "cell_type": "code",
   "execution_count": null,
   "id": "049dba65",
   "metadata": {
    "execution": {
     "iopub.execute_input": "2024-09-23T09:27:01.992585Z",
     "iopub.status.busy": "2024-09-23T09:27:01.991656Z",
     "iopub.status.idle": "2024-09-23T09:40:07.819897Z",
     "shell.execute_reply": "2024-09-23T09:40:07.818897Z"
    },
    "papermill": {
     "duration": 787.824582,
     "end_time": "2024-09-23T09:40:07.822194",
     "exception": false,
     "start_time": "2024-09-23T09:26:59.997612",
     "status": "completed"
    },
    "tags": []
   },
   "outputs": [],
   "source": [
    "# ---- Run optuna optimization\n",
    "#\n",
    "study = optuna.create_study(study_name='sk_learn prepro',\n",
    "                            direction='minimize',\n",
    "                            storage=STUDY_STORAGE_PATH,\n",
    "                            load_if_exists=True\n",
    "                           )\n",
    "study.optimize(objective_SK1, n_trials=8)"
   ]
  },
  {
   "cell_type": "code",
   "execution_count": null,
   "id": "7f3b7810",
   "metadata": {
    "execution": {
     "iopub.execute_input": "2024-09-23T09:40:13.796543Z",
     "iopub.status.busy": "2024-09-23T09:40:13.795847Z",
     "iopub.status.idle": "2024-09-23T09:40:13.815856Z",
     "shell.execute_reply": "2024-09-23T09:40:13.814950Z"
    },
    "papermill": {
     "duration": 3.025105,
     "end_time": "2024-09-23T09:40:13.817961",
     "exception": false,
     "start_time": "2024-09-23T09:40:10.792856",
     "status": "completed"
    },
    "tags": []
   },
   "outputs": [],
   "source": [
    "# ---- Have a look at the results\n",
    "#\n",
    "general_results_df = pd.read_csv(FILEPATH_model_results, sep=';')\n",
    "general_results_df.head(5)"
   ]
  },
  {
   "cell_type": "markdown",
   "id": "b2767365",
   "metadata": {
    "papermill": {
     "duration": 3.027434,
     "end_time": "2024-09-23T09:40:19.811512",
     "exception": false,
     "start_time": "2024-09-23T09:40:16.784078",
     "status": "completed"
    },
    "tags": []
   },
   "source": [
    "**Preprocessing all data before training is quite 3 times faster than using keras preprocessing layers during training.**"
   ]
  },
  {
   "cell_type": "markdown",
   "id": "955b356f",
   "metadata": {
    "papermill": {
     "duration": 2.98692,
     "end_time": "2024-09-23T09:40:25.750863",
     "exception": false,
     "start_time": "2024-09-23T09:40:22.763943",
     "status": "completed"
    },
    "tags": []
   },
   "source": [
    "## II.4. RELAOD BEST MODEL"
   ]
  },
  {
   "cell_type": "code",
   "execution_count": 42,
   "id": "71f26567",
   "metadata": {
    "execution": {
     "iopub.execute_input": "2024-09-23T09:40:31.814353Z",
     "iopub.status.busy": "2024-09-23T09:40:31.813448Z",
     "iopub.status.idle": "2024-09-23T09:40:31.820132Z",
     "shell.execute_reply": "2024-09-23T09:40:31.819181Z"
    },
    "papermill": {
     "duration": 2.989587,
     "end_time": "2024-09-23T09:40:31.822049",
     "exception": false,
     "start_time": "2024-09-23T09:40:28.832462",
     "status": "completed"
    },
    "tags": []
   },
   "outputs": [],
   "source": [
    "# ---- Retrieve best score\n",
    "#\n",
    "best_val_rmse = general_results_df['best_val_rmse'].min()\n",
    "best_model_data = general_results_df[general_results_df['best_val_rmse'] == best_val_rmse]\n",
    "best_model_filepath = best_model_data['model_filepath'].values[0]"
   ]
  },
  {
   "cell_type": "code",
   "execution_count": null,
   "id": "84dd00f0",
   "metadata": {
    "execution": {
     "iopub.execute_input": "2024-09-23T09:40:37.786196Z",
     "iopub.status.busy": "2024-09-23T09:40:37.785795Z",
     "iopub.status.idle": "2024-09-23T09:40:38.038812Z",
     "shell.execute_reply": "2024-09-23T09:40:38.037912Z"
    },
    "papermill": {
     "duration": 3.2777,
     "end_time": "2024-09-23T09:40:38.040649",
     "exception": false,
     "start_time": "2024-09-23T09:40:34.762949",
     "status": "completed"
    },
    "tags": []
   },
   "outputs": [],
   "source": [
    "# ---- Reload best model\n",
    "# \n",
    "best_model = tf.keras.models.load_model(best_model_filepath)\n",
    "best_model.summary()"
   ]
  },
  {
   "cell_type": "code",
   "execution_count": null,
   "id": "8c28b973",
   "metadata": {
    "execution": {
     "iopub.execute_input": "2024-09-23T09:40:44.012807Z",
     "iopub.status.busy": "2024-09-23T09:40:44.012073Z",
     "iopub.status.idle": "2024-09-23T09:40:44.020697Z",
     "shell.execute_reply": "2024-09-23T09:40:44.018967Z"
    },
    "papermill": {
     "duration": 3.040749,
     "end_time": "2024-09-23T09:40:44.022539",
     "exception": false,
     "start_time": "2024-09-23T09:40:40.981790",
     "status": "completed"
    },
    "tags": []
   },
   "outputs": [],
   "source": [
    "# ---- Check parameters of each layer of the loaded model\n",
    "#\n",
    "for layer in best_model.layers:\n",
    "    print(f\"Layer name: {layer.name}\")\n",
    "    print(f\"Config: {layer.get_config()}\")"
   ]
  },
  {
   "cell_type": "code",
   "execution_count": null,
   "id": "55382275",
   "metadata": {
    "execution": {
     "iopub.execute_input": "2024-09-23T09:40:49.926240Z",
     "iopub.status.busy": "2024-09-23T09:40:49.925371Z",
     "iopub.status.idle": "2024-09-23T09:40:52.034464Z",
     "shell.execute_reply": "2024-09-23T09:40:52.033549Z"
    },
    "papermill": {
     "duration": 5.049463,
     "end_time": "2024-09-23T09:40:52.041882",
     "exception": false,
     "start_time": "2024-09-23T09:40:46.992419",
     "status": "completed"
    },
    "tags": []
   },
   "outputs": [],
   "source": [
    "# ---- Build graph of the model\n",
    "#\n",
    "graph_filepath = f'{OUTPUT_PATH_results}/graph_model_keras.png'\n",
    "\n",
    "plot_model(best_model, to_file=graph_filepath, show_shapes=True)"
   ]
  },
  {
   "cell_type": "markdown",
   "id": "0b8ef714",
   "metadata": {
    "papermill": {
     "duration": 3.080194,
     "end_time": "2024-09-23T09:40:58.067424",
     "exception": false,
     "start_time": "2024-09-23T09:40:54.987230",
     "status": "completed"
    },
    "tags": []
   },
   "source": [
    "## II.5. MAKE PREDICTION FOR SUBMISSION"
   ]
  },
  {
   "cell_type": "markdown",
   "id": "42bf9153",
   "metadata": {
    "papermill": {
     "duration": 3.008749,
     "end_time": "2024-09-23T09:41:04.035444",
     "exception": false,
     "start_time": "2024-09-23T09:41:01.026695",
     "status": "completed"
    },
    "tags": []
   },
   "source": [
    "### II.5.1. PREPARE DATA"
   ]
  },
  {
   "cell_type": "markdown",
   "id": "42a4bafb",
   "metadata": {
    "papermill": {
     "duration": 2.949544,
     "end_time": "2024-09-23T09:41:09.954110",
     "exception": false,
     "start_time": "2024-09-23T09:41:07.004566",
     "status": "completed"
    },
    "tags": []
   },
   "source": [
    "**Again, we need to identify whether the model we have choosen, uses Keras preprocessing or sklearn preprocessing. We prepare the data in the appropriate way for the model.**"
   ]
  },
  {
   "cell_type": "code",
   "execution_count": null,
   "id": "90b411d4",
   "metadata": {
    "execution": {
     "iopub.execute_input": "2024-09-23T09:41:15.931572Z",
     "iopub.status.busy": "2024-09-23T09:41:15.930530Z",
     "iopub.status.idle": "2024-09-23T09:41:16.503896Z",
     "shell.execute_reply": "2024-09-23T09:41:16.502917Z"
    },
    "papermill": {
     "duration": 3.609391,
     "end_time": "2024-09-23T09:41:16.506056",
     "exception": false,
     "start_time": "2024-09-23T09:41:12.896665",
     "status": "completed"
    },
    "tags": []
   },
   "outputs": [],
   "source": [
    "# ---- Load data\n",
    "#\n",
    "X_submission = pd.read_csv(FILEPATH_test)\n",
    "X_submission.head(2)"
   ]
  },
  {
   "cell_type": "code",
   "execution_count": null,
   "id": "bd484268",
   "metadata": {
    "execution": {
     "iopub.execute_input": "2024-09-23T09:41:22.460615Z",
     "iopub.status.busy": "2024-09-23T09:41:22.459680Z",
     "iopub.status.idle": "2024-09-23T09:41:22.570792Z",
     "shell.execute_reply": "2024-09-23T09:41:22.569617Z"
    },
    "papermill": {
     "duration": 3.106637,
     "end_time": "2024-09-23T09:41:22.573197",
     "exception": false,
     "start_time": "2024-09-23T09:41:19.466560",
     "status": "completed"
    },
    "tags": []
   },
   "outputs": [],
   "source": [
    "X_submission.info()"
   ]
  },
  {
   "cell_type": "code",
   "execution_count": null,
   "id": "ab8db79e",
   "metadata": {
    "execution": {
     "iopub.execute_input": "2024-09-23T09:41:28.492250Z",
     "iopub.status.busy": "2024-09-23T09:41:28.491865Z",
     "iopub.status.idle": "2024-09-23T09:41:28.608948Z",
     "shell.execute_reply": "2024-09-23T09:41:28.608055Z"
    },
    "papermill": {
     "duration": 3.062552,
     "end_time": "2024-09-23T09:41:28.611066",
     "exception": false,
     "start_time": "2024-09-23T09:41:25.548514",
     "status": "completed"
    },
    "tags": []
   },
   "outputs": [],
   "source": [
    "# ---- Prepare data as we did for training data\n",
    "#\n",
    "X_submission_id = X_submission['id']\n",
    "X_submission = X_submission.drop(['id'], axis=1)\n",
    "X_submission.isna().sum()"
   ]
  },
  {
   "cell_type": "code",
   "execution_count": 49,
   "id": "3610d02d",
   "metadata": {
    "execution": {
     "iopub.execute_input": "2024-09-23T09:41:34.580074Z",
     "iopub.status.busy": "2024-09-23T09:41:34.579203Z",
     "iopub.status.idle": "2024-09-23T09:41:34.955069Z",
     "shell.execute_reply": "2024-09-23T09:41:34.954259Z"
    },
    "papermill": {
     "duration": 3.362286,
     "end_time": "2024-09-23T09:41:34.957640",
     "exception": false,
     "start_time": "2024-09-23T09:41:31.595354",
     "status": "completed"
    },
    "tags": []
   },
   "outputs": [],
   "source": [
    "# ---- Clean as we did for data used to train model\n",
    "#\n",
    "X_submission = simple_cleaning(X_submission)"
   ]
  },
  {
   "cell_type": "code",
   "execution_count": null,
   "id": "dbe8afd5",
   "metadata": {
    "execution": {
     "iopub.execute_input": "2024-09-23T09:41:40.926776Z",
     "iopub.status.busy": "2024-09-23T09:41:40.925902Z",
     "iopub.status.idle": "2024-09-23T09:41:40.977045Z",
     "shell.execute_reply": "2024-09-23T09:41:40.976047Z"
    },
    "papermill": {
     "duration": 3.069243,
     "end_time": "2024-09-23T09:41:40.979033",
     "exception": false,
     "start_time": "2024-09-23T09:41:37.909790",
     "status": "completed"
    },
    "tags": []
   },
   "outputs": [],
   "source": [
    "# ---- Get categorical features names\n",
    "# \n",
    "object_columns = X_submission.select_dtypes(include=['object'])\n",
    "categorical_features = object_columns.columns.to_list()\n",
    "categorical_features"
   ]
  },
  {
   "cell_type": "code",
   "execution_count": 51,
   "id": "262b9283",
   "metadata": {
    "execution": {
     "iopub.execute_input": "2024-09-23T09:41:46.897356Z",
     "iopub.status.busy": "2024-09-23T09:41:46.896969Z",
     "iopub.status.idle": "2024-09-23T09:41:46.915254Z",
     "shell.execute_reply": "2024-09-23T09:41:46.914469Z"
    },
    "papermill": {
     "duration": 3.009286,
     "end_time": "2024-09-23T09:41:46.917449",
     "exception": false,
     "start_time": "2024-09-23T09:41:43.908163",
     "status": "completed"
    },
    "tags": []
   },
   "outputs": [],
   "source": [
    "# Choose the relevant preprocessing depending on the selected model\n",
    "#\n",
    "# ---- IF MODEL WITH KERAS PREPROCESSING LAYER ----\n",
    "# ---- Build the dictionnary to pass to the model as we did for model training\n",
    "#\n",
    "if best_model_data['comment'][0] == 'keras prepro layers':\n",
    "    X_sub_preprocessed = {}\n",
    "    for column in X_submission.columns:\n",
    "        X_sub_preprocessed[column] = np.array(X_submission[column]).reshape(-1, 1)\n",
    "\n",
    "# ---- IF MODEL WITH SKLEARN PREPROCESSING ----\n",
    "# ---- Preprocess data wih the preprocessor we used for model training\n",
    "elif best_model_data['comment'][0] == 'sk_learn prepro - Standard Scaler: milage, OneHotencoder: others':\n",
    "    X_sub_preprocessed = preprocessor.transform(X_submission)\n",
    "else:\n",
    "    print('UNEXPECTED MODEL, CHECK MODEL AND PREPROCESSING REQUIRED')"
   ]
  },
  {
   "cell_type": "markdown",
   "id": "bb412c09",
   "metadata": {
    "papermill": {
     "duration": 3.009539,
     "end_time": "2024-09-23T09:41:52.864593",
     "exception": false,
     "start_time": "2024-09-23T09:41:49.855054",
     "status": "completed"
    },
    "tags": []
   },
   "source": [
    "### II.5.2. MAKE PREDICTION AND SAVE RESULTS TO CSV"
   ]
  },
  {
   "cell_type": "code",
   "execution_count": null,
   "id": "8e76fdf5",
   "metadata": {
    "execution": {
     "iopub.execute_input": "2024-09-23T09:41:58.875942Z",
     "iopub.status.busy": "2024-09-23T09:41:58.875528Z",
     "iopub.status.idle": "2024-09-23T09:42:52.538700Z",
     "shell.execute_reply": "2024-09-23T09:42:52.537676Z"
    },
    "papermill": {
     "duration": 56.690918,
     "end_time": "2024-09-23T09:42:52.540687",
     "exception": false,
     "start_time": "2024-09-23T09:41:55.849769",
     "status": "completed"
    },
    "tags": []
   },
   "outputs": [],
   "source": [
    "# ---- Predict\n",
    "# \n",
    "y_submission = best_model.predict(X_sub_preprocessed)\n",
    "\n",
    "# ---- Build a dataframe\n",
    "#\n",
    "y_df = pd.DataFrame(y_submission, columns=['price'])\n",
    "y_df['price'] = y_df['price'].apply(lambda x: int(x))\n",
    "submission_df = pd.concat([X_submission_id, y_df], axis=1)\n",
    "submission_df"
   ]
  },
  {
   "cell_type": "code",
   "execution_count": 53,
   "id": "b5ba839a",
   "metadata": {
    "execution": {
     "iopub.execute_input": "2024-09-23T09:42:58.647229Z",
     "iopub.status.busy": "2024-09-23T09:42:58.646797Z",
     "iopub.status.idle": "2024-09-23T09:42:58.822035Z",
     "shell.execute_reply": "2024-09-23T09:42:58.821207Z"
    },
    "papermill": {
     "duration": 3.25139,
     "end_time": "2024-09-23T09:42:58.824302",
     "exception": false,
     "start_time": "2024-09-23T09:42:55.572912",
     "status": "completed"
    },
    "tags": []
   },
   "outputs": [],
   "source": [
    "# ---- Save prediction in csv file\n",
    "#\n",
    "timestamp = dt.datetime.now().strftime(\"%Y%m%d_%H%M%S\")\n",
    "os.makedirs(OUTPUT_PATH_results, exist_ok=True)\n",
    "filepath = f'{OUTPUT_PATH_results}/submission_KERAS{timestamp}.csv'\n",
    "submission_df.to_csv(filepath, index=False)"
   ]
  },
  {
   "cell_type": "markdown",
   "id": "d29f409c",
   "metadata": {
    "papermill": {
     "duration": 3.118247,
     "end_time": "2024-09-23T09:43:04.964697",
     "exception": false,
     "start_time": "2024-09-23T09:43:01.846450",
     "status": "completed"
    },
    "tags": []
   },
   "source": [
    "# III. TRY DATA ENGINEERING"
   ]
  },
  {
   "cell_type": "markdown",
   "id": "b2e381aa",
   "metadata": {
    "papermill": {
     "duration": 3.004346,
     "end_time": "2024-09-23T09:43:10.986107",
     "exception": false,
     "start_time": "2024-09-23T09:43:07.981761",
     "status": "completed"
    },
    "tags": []
   },
   "source": [
    "## III.1. PREPROCESS A FEW TEXTUAL FEATURES TO HELP MODEL TO CATCH MORE INFORMATION"
   ]
  },
  {
   "cell_type": "markdown",
   "id": "fa227cb4",
   "metadata": {
    "papermill": {
     "duration": 3.118474,
     "end_time": "2024-09-23T09:43:17.119321",
     "exception": false,
     "start_time": "2024-09-23T09:43:14.000847",
     "status": "completed"
    },
    "tags": []
   },
   "source": [
    "### III.1.1. FEATURE: \"TRANSMISSION\""
   ]
  },
  {
   "cell_type": "code",
   "execution_count": 54,
   "id": "bf0bf1a6",
   "metadata": {
    "execution": {
     "iopub.execute_input": "2024-09-23T09:43:23.170052Z",
     "iopub.status.busy": "2024-09-23T09:43:23.169311Z",
     "iopub.status.idle": "2024-09-23T09:43:23.180639Z",
     "shell.execute_reply": "2024-09-23T09:43:23.179767Z"
    },
    "papermill": {
     "duration": 3.028195,
     "end_time": "2024-09-23T09:43:23.182504",
     "exception": false,
     "start_time": "2024-09-23T09:43:20.154309",
     "status": "completed"
    },
    "tags": []
   },
   "outputs": [],
   "source": [
    "# ---- Functions to preprocess column \"transmission\"\n",
    "#\n",
    "# ---- Get transmission speed number\n",
    "def get_transmission_speed(sentence):\n",
    "    \n",
    "    transmission_speed = 0\n",
    "    pattern = r\"(\\d+)[-\\s]*(speed)?\"\n",
    "    match = re.search(pattern, sentence, flags=re.IGNORECASE)\n",
    "    \n",
    "    if match:\n",
    "        transmission_speed = int(match.group(1))\n",
    "        \n",
    "    return transmission_speed\n",
    "\n",
    "# ---- Remove transmission speed number out of the text    \n",
    "def remove_transmission_pattern(sentence):\n",
    "  \n",
    "    pattern = r\"\\d+[-\\s]*(speed)?\"\n",
    "    sentence_modified = re.sub(pattern, '', sentence, flags=re.IGNORECASE).strip()\n",
    "    \n",
    "    return sentence_modified.lower()\n",
    "\n",
    "# ---- Build a synonym dictionnary\n",
    "dict_transmission = {\n",
    "    'Auto' : ['A/T', 'Automatic', 'AT'],\n",
    "    'Hybrid': ['Transmission w/Dual Shift Mode','At/Mt', 'Variable'],\n",
    "    'Manuel' : ['M/T', 'Mt', 'Manual'],\n",
    "    # ----- Apply 0 to unknown value\n",
    "    #\n",
    "    'Unknown' : ['', '–']\n",
    "}\n",
    "\n",
    "reversed_dict ={}\n",
    "\n",
    "for key, values in dict_transmission.items():\n",
    "    for value in values:\n",
    "        reversed_dict[value.lower()] = key.lower()\n",
    "\n",
    "# ---- Substitute tokens with their synonyms when possible\n",
    "def map_transmission_tokens(column, mapping_dict=reversed_dict):\n",
    "\n",
    "    column = column.apply(lambda x : mapping_dict.get(x,x))\n",
    "\n",
    "    return column\n",
    "\n",
    "# ---- Apply complete preprocessing to the column transmission\n",
    "def process_column_transmission(X_df):\n",
    "    '''\n",
    "    Process 'transmisison' columns of the given DataFrame.\n",
    "    \n",
    "    Parameters:\n",
    "    -----------\n",
    "    X_df : DataFrame\n",
    "        The input DataFrame containing 'transmisison' column.\n",
    "    \n",
    "    Returns:\n",
    "    --------\n",
    "    results_df: DataFrame\n",
    "        Transformed data based on 'transmisison'.\n",
    "    '''\n",
    "    results_df = X_df.copy()\n",
    "    \n",
    "    results_df['transmission_speed'] = results_df['transmission'].apply(get_transmission_speed)\n",
    "    results_df['transmission_type'] =  results_df['transmission'].apply(remove_transmission_pattern)\n",
    "    results_df['transmission_type'] = map_transmission_tokens(results_df['transmission_type'], mapping_dict=reversed_dict)\n",
    "    results_df.drop(['transmission'], axis=1, inplace=True)\n",
    "\n",
    "    return results_df"
   ]
  },
  {
   "cell_type": "markdown",
   "id": "3ef93f93",
   "metadata": {
    "papermill": {
     "duration": 3.118267,
     "end_time": "2024-09-23T09:43:29.347554",
     "exception": false,
     "start_time": "2024-09-23T09:43:26.229287",
     "status": "completed"
    },
    "tags": []
   },
   "source": [
    "### III.1.2. FEATURE: \"ENGINE\""
   ]
  },
  {
   "cell_type": "code",
   "execution_count": 55,
   "id": "dec63f50",
   "metadata": {
    "execution": {
     "iopub.execute_input": "2024-09-23T09:43:35.467644Z",
     "iopub.status.busy": "2024-09-23T09:43:35.467187Z",
     "iopub.status.idle": "2024-09-23T09:43:35.490770Z",
     "shell.execute_reply": "2024-09-23T09:43:35.489892Z"
    },
    "papermill": {
     "duration": 3.117502,
     "end_time": "2024-09-23T09:43:35.493132",
     "exception": false,
     "start_time": "2024-09-23T09:43:32.375630",
     "status": "completed"
    },
    "tags": []
   },
   "outputs": [],
   "source": [
    "# ----- Functions to preprocess column \"engine\"\n",
    "#\n",
    "dict_pattern = {\n",
    "    'pattern_HP' : r'(\\d+)\\.(\\d)hp',\n",
    "    'pattern_size' : r'(\\d+)\\.(\\d*)\\s*l(iter)?',\n",
    "    'pattern_cylinder_1' : r'[a-z]*(\\d+)\\s(cylinder)?',\n",
    "    'pattern_cylinder_2' : r'[a-z](\\d)',\n",
    "    'pattern_soupape' : r'(\\d\\d)v'\n",
    "}\n",
    "\n",
    "# ---- Get engine Horse Power value\n",
    "def get_engine_HP(sentence, pattern_HP=dict_pattern['pattern_HP']):\n",
    "\n",
    "    engine_HP = 0\n",
    "\n",
    "    match = re.search(pattern_HP, sentence, flags=re.IGNORECASE)\n",
    "    if match: \n",
    "        engine_HP = int(float(f\"{match.group(1)}.{match.group(2)}\"))\n",
    "\n",
    "    return engine_HP\n",
    "\n",
    "# ---- Get engine size\n",
    "def get_engine_size(sentence, pattern_size=dict_pattern['pattern_size']):\n",
    "\n",
    "    engine_size = 0\n",
    "    match = re.search(pattern_size, sentence, flags=re.IGNORECASE)\n",
    "\n",
    "    if match:\n",
    "        engine_size = float(f\"{match.group(1)}.{match.group(2)}\")\n",
    "    \n",
    "    return engine_size\n",
    "\n",
    "# ---- Get engine number of cylinder\n",
    "def get_engine_cylinder(sentence, pattern_cylinder_1=dict_pattern['pattern_cylinder_1'], pattern_cylinder_2=dict_pattern['pattern_cylinder_2']):\n",
    "\n",
    "    engine_cylinder = 0\n",
    "    \n",
    "    # ---- Skip if 'ah' or 'kw' in the sentence to avoid confusion with electric motor for example with the pattern 'i4'\n",
    "    if not ('ah' in sentence or 'kw' in sentence):\n",
    "        match = re.search(pattern_cylinder_1, sentence, flags=re.IGNORECASE)\n",
    "        if match:\n",
    "            engine_cylinder = int(f\"{match.group(1)}\")\n",
    "        else:\n",
    "            match = re.search(pattern_cylinder_2, sentence, flags=re.IGNORECASE)\n",
    "            if match:\n",
    "                engine_cylinder = int(f\"{match.group(1)}\")\n",
    "                \n",
    "    return engine_cylinder\n",
    "\n",
    "# ---- Get engine number of soupape\n",
    "def get_engine_soupape(sentence, pattern_soupape=dict_pattern['pattern_soupape']):\n",
    "\n",
    "    engine_soupape = 0\n",
    "    \n",
    "    # ---- Skip if 'ah' or 'kw' in the sentence to avoid confusion with electric motor for example with the pattern '697V'\n",
    "    if not ('ah' in sentence or 'kw' in sentence):\n",
    "        match = re.search(pattern_soupape, sentence, flags=re.IGNORECASE)\n",
    "        if match:\n",
    "            engine_soupape = int(f\"{match.group(1)}\")\n",
    "    \n",
    "    return engine_soupape\n",
    "\n",
    "# ---- Remove all the pattern from a sentence\n",
    "def remove_pattern(sentence, pattern_values=dict_pattern.values()):\n",
    "    # ---- Skip if 'ah' or 'kw' in the sentence to avoid confusion with electric motor\n",
    "    if not ('ah' in sentence or 'kw' in sentence):\n",
    "        for pattern in pattern_values:\n",
    "            sentence = re.sub(pattern, '', sentence, flags=re.IGNORECASE).strip()\n",
    "    \n",
    "    return sentence\n",
    "\n",
    "# ---- Apply a first processing of the sentence using the funcion above\n",
    "def previous_version_process_column_engine(column):\n",
    "    \n",
    "    serie = column.apply(lambda x: x.lower())\n",
    "    serie = serie.apply(get_engine_HP)\n",
    "    serie.name = None\n",
    "    df = pd.DataFrame(serie, columns=['engine_HP'])\n",
    "    df['engine_size'] = column.apply(get_engine_size)\n",
    "    df['engine_cylinder'] = column.apply(get_engine_cylinder)\n",
    "    df['engine_soupape'] = column.apply(get_engine_soupape)\n",
    "    df['engine_text'] = column.apply(remove_pattern)\n",
    "\n",
    "    return df"
   ]
  },
  {
   "cell_type": "markdown",
   "id": "17b020ba",
   "metadata": {
    "papermill": {
     "duration": 3.071902,
     "end_time": "2024-09-23T09:43:41.594389",
     "exception": false,
     "start_time": "2024-09-23T09:43:38.522487",
     "status": "completed"
    },
    "tags": []
   },
   "source": [
    "Let's have a look of what is remaing in column 'engine_text' after preprocessing column engine using the funcion previous_process_column_engine()."
   ]
  },
  {
   "cell_type": "code",
   "execution_count": null,
   "id": "f87f9e08",
   "metadata": {
    "execution": {
     "iopub.execute_input": "2024-09-23T09:43:47.681574Z",
     "iopub.status.busy": "2024-09-23T09:43:47.680743Z",
     "iopub.status.idle": "2024-09-23T09:43:56.009274Z",
     "shell.execute_reply": "2024-09-23T09:43:56.008284Z"
    },
    "papermill": {
     "duration": 11.379628,
     "end_time": "2024-09-23T09:43:56.011304",
     "exception": false,
     "start_time": "2024-09-23T09:43:44.631676",
     "status": "completed"
    },
    "tags": []
   },
   "outputs": [],
   "source": [
    "# ---- Check the previous result\n",
    "#\n",
    "temporary_result_df = previous_version_process_column_engine(X['engine'])\n",
    "temporary_result_df"
   ]
  },
  {
   "cell_type": "markdown",
   "id": "612d6610",
   "metadata": {
    "papermill": {
     "duration": 3.028435,
     "end_time": "2024-09-23T09:44:02.097259",
     "exception": false,
     "start_time": "2024-09-23T09:43:59.068824",
     "status": "completed"
    },
    "tags": []
   },
   "source": [
    "Let's make a Bag Of Word of column engine_text to see the remainging vocabulary"
   ]
  },
  {
   "cell_type": "code",
   "execution_count": null,
   "id": "0c9b6ea6",
   "metadata": {
    "execution": {
     "iopub.execute_input": "2024-09-23T09:44:08.257263Z",
     "iopub.status.busy": "2024-09-23T09:44:08.256873Z",
     "iopub.status.idle": "2024-09-23T09:44:09.670816Z",
     "shell.execute_reply": "2024-09-23T09:44:09.669814Z"
    },
    "papermill": {
     "duration": 4.493661,
     "end_time": "2024-09-23T09:44:09.673274",
     "exception": false,
     "start_time": "2024-09-23T09:44:05.179613",
     "status": "completed"
    },
    "tags": []
   },
   "outputs": [],
   "source": [
    "# ---- Remove punctuation and split sentence into a list of word\n",
    "#\n",
    "def process_text(sentence):\n",
    "\n",
    "    translator = str.maketrans('','', string.punctuation)\n",
    "    clean_sentence = sentence.translate(translator).split()\n",
    "\n",
    "    return clean_sentence\n",
    "\n",
    "# ---- Fit vectorizer on column_engine_text to get back vocabulary\n",
    "#\n",
    "column_engine_text = temporary_result_df['engine_text']\n",
    "vectorizer = CountVectorizer(analyzer=process_text)\n",
    "vectorizer.fit(column_engine_text)\n",
    "\n",
    "vocabulary_dict = vectorizer.vocabulary_\n",
    "\n",
    "# ---- Explore vocanulary in a DataFrame\n",
    "#\n",
    "df_vocabulary_df = pd.DataFrame.from_dict(vocabulary_dict , orient='index', columns=['count'])\n",
    "df_vocabulary_df.sort_values('count', ascending=False)"
   ]
  },
  {
   "cell_type": "code",
   "execution_count": null,
   "id": "8aa3e37a",
   "metadata": {
    "execution": {
     "iopub.execute_input": "2024-09-23T09:44:15.843108Z",
     "iopub.status.busy": "2024-09-23T09:44:15.842366Z",
     "iopub.status.idle": "2024-09-23T09:44:15.862704Z",
     "shell.execute_reply": "2024-09-23T09:44:15.861771Z"
    },
    "papermill": {
     "duration": 3.110755,
     "end_time": "2024-09-23T09:44:15.864633",
     "exception": false,
     "start_time": "2024-09-23T09:44:12.753878",
     "status": "completed"
    },
    "tags": []
   },
   "outputs": [],
   "source": [
    "# ---- Print again values of the column fuel type of the original dataset\n",
    "#\n",
    "data['fuel_type'].unique()"
   ]
  },
  {
   "cell_type": "code",
   "execution_count": 59,
   "id": "7effbaa7",
   "metadata": {
    "execution": {
     "iopub.execute_input": "2024-09-23T09:44:22.008154Z",
     "iopub.status.busy": "2024-09-23T09:44:22.007772Z",
     "iopub.status.idle": "2024-09-23T09:44:22.015571Z",
     "shell.execute_reply": "2024-09-23T09:44:22.014703Z"
    },
    "papermill": {
     "duration": 3.052998,
     "end_time": "2024-09-23T09:44:22.017482",
     "exception": false,
     "start_time": "2024-09-23T09:44:18.964484",
     "status": "completed"
    },
    "tags": []
   },
   "outputs": [],
   "source": [
    "# ---- Build a synonym dictionary related to fuel_type\n",
    "#\n",
    "fuel_type_dict = {\n",
    "    'gasoline' : 'gasoline',\n",
    "    'gas' : 'gasoline',\n",
    "    'hybrid' : 'hybrid',\n",
    "    'electricgas': 'hybrid',\n",
    "    'gaselectric' : 'hybrid',\n",
    "    'e85 flex fuel' : 'e85 flex fuel',\n",
    "    'flexible' : 'e85 flex fuel',\n",
    "    'diesel' : 'diesel',\n",
    "    'hydrogen' : 'hydrogen',\n",
    "    'electric' : 'electric',\n",
    "    'battery' : 'electric',\n",
    "    'ah': 'electric',\n",
    "    '70kw': 'electric',\n",
    "    '697v': 'electric',\n",
    "    '160kw': 'electric',\n",
    "    '1112ah': 'electric'\n",
    "}\n",
    "\n",
    "def match_fuel_type(sentence):\n",
    "    '''\n",
    "    Find in a sentence the first token that matches a key in the dictionary fuel_type_dict and return the associated value.\n",
    "    If no token matches, return None.\n",
    "\n",
    "    Parameters\n",
    "    ----------\n",
    "    sentence: str\n",
    "        String to search for matching fuel type.\n",
    "\n",
    "    Returns:\n",
    "    --------\n",
    "    mapping_value : str or None\n",
    "        The matched fuel type or None if no match is found.\n",
    "    '''\n",
    "    # ---- Initialize the result to None\n",
    "    #\n",
    "    mapping_value = None\n",
    "\n",
    "    # ---- Preprocess sentence and split to list\n",
    "    #\n",
    "    tokens = process_text(sentence)\n",
    "\n",
    "    if len(tokens) > 0:\n",
    "\n",
    "        # ---- Loop over each token of the document\n",
    "        #\n",
    "        for token in tokens:\n",
    "\n",
    "            # ---- Get the value if the token matches a key in the dictionary\n",
    "            #\n",
    "            mapping_value = fuel_type_dict.get(token.lower())\n",
    "\n",
    "            # ---- Break the loop if a match is found\n",
    "            #\n",
    "            if mapping_value is not None:\n",
    "                break\n",
    "\n",
    "    return mapping_value"
   ]
  },
  {
   "cell_type": "markdown",
   "id": "725d7eb5",
   "metadata": {
    "papermill": {
     "duration": 3.0393,
     "end_time": "2024-09-23T09:44:28.070004",
     "exception": false,
     "start_time": "2024-09-23T09:44:25.030704",
     "status": "completed"
    },
    "tags": []
   },
   "source": [
    "Let's build now the final version of the preprocesing function of column engine"
   ]
  },
  {
   "cell_type": "code",
   "execution_count": 60,
   "id": "877e06b0",
   "metadata": {
    "execution": {
     "iopub.execute_input": "2024-09-23T09:44:34.215480Z",
     "iopub.status.busy": "2024-09-23T09:44:34.215101Z",
     "iopub.status.idle": "2024-09-23T09:44:34.223711Z",
     "shell.execute_reply": "2024-09-23T09:44:34.222805Z"
    },
    "papermill": {
     "duration": 3.057242,
     "end_time": "2024-09-23T09:44:34.225639",
     "exception": false,
     "start_time": "2024-09-23T09:44:31.168397",
     "status": "completed"
    },
    "tags": []
   },
   "outputs": [],
   "source": [
    "def process_columns_engine_and_fuel_type(X_df):\n",
    "    '''\n",
    "    Process both 'engine' and 'fuel_type' columns from a given DataFrame\n",
    "    \n",
    "    Parameters:\n",
    "    -----------\n",
    "    X_df : DataFrame\n",
    "        The input DataFrame containing both 'engine' and 'fuel_type'.\n",
    "    \n",
    "    Returns:\n",
    "    --------\n",
    "    results_df: DataFrame\n",
    "        Transformed data based on 'engine' and 'fuel_type'.\n",
    "    '''\n",
    "    results_df = X_df.copy()\n",
    "    \n",
    "    # ---- Lowercase\n",
    "    #\n",
    "    results_df['engine'] =  results_df['engine'].apply(lambda x: x.lower())\n",
    "    results_df['fuel_type'] = results_df['fuel_type'].apply(lambda x: x.lower())\n",
    "\n",
    "    # ---- Add the new columns to the DataFrame\n",
    "    #\n",
    "    results_df['engine_HP'] = results_df['engine'].apply(get_engine_HP)\n",
    "    results_df['engine_size'] = results_df['engine'].apply(get_engine_size)\n",
    "    results_df['engine_cylinder'] = results_df['engine'].apply(get_engine_cylinder)\n",
    "    results_df['engine_soupape'] = results_df['engine'].apply(get_engine_soupape)\n",
    "    results_df['engine_text'] = results_df['engine'].apply(remove_pattern)\n",
    "    results_df['engine_text'] = results_df['engine_text'].apply(match_fuel_type)\n",
    "    \n",
    "    # ---- Adapt fuel_type column with value in engine_text column\n",
    "    #\n",
    "    results_df['fuel_type'] = np.where(results_df['engine_text'].notna(), results_df['engine_text'], results_df['fuel_type'])\n",
    "    \n",
    "    # ---- Drop column engine_text and engine\n",
    "    #\n",
    "    results_df.drop(['engine_text', 'engine'], axis = 1, inplace = True)\n",
    "    \n",
    "    return results_df"
   ]
  },
  {
   "cell_type": "markdown",
   "id": "56907258",
   "metadata": {
    "papermill": {
     "duration": 3.099754,
     "end_time": "2024-09-23T09:44:40.402800",
     "exception": false,
     "start_time": "2024-09-23T09:44:37.303046",
     "status": "completed"
    },
    "tags": []
   },
   "source": [
    "### III.1.3. BUILD THE PREPROCESSOR FOR BOTH COLUMN ENGINE AND TRANSMISSION"
   ]
  },
  {
   "cell_type": "code",
   "execution_count": null,
   "id": "e7772415",
   "metadata": {
    "execution": {
     "iopub.execute_input": "2024-09-23T09:44:46.555291Z",
     "iopub.status.busy": "2024-09-23T09:44:46.554548Z",
     "iopub.status.idle": "2024-09-23T09:44:46.571769Z",
     "shell.execute_reply": "2024-09-23T09:44:46.570921Z"
    },
    "papermill": {
     "duration": 3.078829,
     "end_time": "2024-09-23T09:44:46.573656",
     "exception": false,
     "start_time": "2024-09-23T09:44:43.494827",
     "status": "completed"
    },
    "tags": []
   },
   "outputs": [],
   "source": [
    "# ---- BUILD PREPRO_ENGINE_TRANSMISSION\n",
    "#\n",
    "\n",
    "# ---- Preprocess column 'engine' preprocessing\n",
    "#\n",
    "engine_col_transformer = FunctionTransformer(process_columns_engine_and_fuel_type, validate=False)\n",
    "\n",
    "# ---- Preprocess column 'transmisson' preprocessing\n",
    "#\n",
    "transmission_col_transformer = FunctionTransformer(process_column_transmission, validate=False)\n",
    "\n",
    "# ---- Full preprocessor step1\n",
    "#\n",
    "prepro_engine_transmission = ColumnTransformer(\n",
    "    transformers=[\n",
    "        (\"engine\", engine_col_transformer, ['engine', 'fuel_type']),\n",
    "        (\"trans\", transmission_col_transformer, ['transmission'])\n",
    "    ],\n",
    "    remainder='passthrough',\n",
    ")\n",
    "prepro_engine_transmission.set_output(transform='pandas')"
   ]
  },
  {
   "cell_type": "markdown",
   "id": "4aeabaa3",
   "metadata": {
    "papermill": {
     "duration": 3.027777,
     "end_time": "2024-09-23T09:44:52.638401",
     "exception": false,
     "start_time": "2024-09-23T09:44:49.610624",
     "status": "completed"
    },
    "tags": []
   },
   "source": [
    "### III.1.4. CHECK OUTPUT OF PREPROCESSOR_STEP1"
   ]
  },
  {
   "cell_type": "code",
   "execution_count": null,
   "id": "91510d02",
   "metadata": {
    "execution": {
     "iopub.execute_input": "2024-09-23T09:44:58.770837Z",
     "iopub.status.busy": "2024-09-23T09:44:58.769805Z",
     "iopub.status.idle": "2024-09-23T09:45:07.459336Z",
     "shell.execute_reply": "2024-09-23T09:45:07.458310Z"
    },
    "papermill": {
     "duration": 11.716616,
     "end_time": "2024-09-23T09:45:07.461656",
     "exception": false,
     "start_time": "2024-09-23T09:44:55.745040",
     "status": "completed"
    },
    "tags": []
   },
   "outputs": [],
   "source": [
    "X_train_preprocessed_step1 = prepro_engine_transmission.fit_transform(X_train)\n",
    "X_train_preprocessed_step1.head(5)"
   ]
  },
  {
   "cell_type": "code",
   "execution_count": null,
   "id": "a50d18e4",
   "metadata": {
    "execution": {
     "iopub.execute_input": "2024-09-23T09:45:13.551899Z",
     "iopub.status.busy": "2024-09-23T09:45:13.551128Z",
     "iopub.status.idle": "2024-09-23T09:45:13.727125Z",
     "shell.execute_reply": "2024-09-23T09:45:13.726024Z"
    },
    "papermill": {
     "duration": 3.187497,
     "end_time": "2024-09-23T09:45:13.729132",
     "exception": false,
     "start_time": "2024-09-23T09:45:10.541635",
     "status": "completed"
    },
    "tags": []
   },
   "outputs": [],
   "source": [
    "# ---- Check features values count\n",
    "# \n",
    "X_train_preprocessed_step1.nunique()"
   ]
  },
  {
   "cell_type": "code",
   "execution_count": 64,
   "id": "74fc25dd",
   "metadata": {
    "execution": {
     "iopub.execute_input": "2024-09-23T09:45:19.862789Z",
     "iopub.status.busy": "2024-09-23T09:45:19.862062Z",
     "iopub.status.idle": "2024-09-23T09:45:19.866989Z",
     "shell.execute_reply": "2024-09-23T09:45:19.866049Z"
    },
    "papermill": {
     "duration": 3.032524,
     "end_time": "2024-09-23T09:45:19.868916",
     "exception": false,
     "start_time": "2024-09-23T09:45:16.836392",
     "status": "completed"
    },
    "tags": []
   },
   "outputs": [],
   "source": [
    "# Seperate features into group\n",
    "#\n",
    "new_numeric_discrete_features = [ \n",
    "    'trans__transmission_speed',\n",
    "    'engine__engine_soupape',\n",
    "    'engine__engine_cylinder',\n",
    "    'engine__engine_size',\n",
    "    'engine__fuel_type'\n",
    "    ]\n",
    "\n",
    "new_continious_features = [ \n",
    "    'engine__engine_HP',\n",
    "    ]"
   ]
  },
  {
   "cell_type": "code",
   "execution_count": null,
   "id": "486c680c",
   "metadata": {
    "execution": {
     "iopub.execute_input": "2024-09-23T09:45:25.975015Z",
     "iopub.status.busy": "2024-09-23T09:45:25.974594Z",
     "iopub.status.idle": "2024-09-23T09:45:31.206641Z",
     "shell.execute_reply": "2024-09-23T09:45:31.205649Z"
    },
    "papermill": {
     "duration": 8.273305,
     "end_time": "2024-09-23T09:45:31.210159",
     "exception": false,
     "start_time": "2024-09-23T09:45:22.936854",
     "status": "completed"
    },
    "tags": []
   },
   "outputs": [],
   "source": [
    "# ---- Visualize newly generated data with graphs\n",
    "#\n",
    "make_box_for_discrete_features(X_train_preprocessed_step1, new_numeric_discrete_features + ['engine__fuel_type'], y_train)\n",
    "make_box_for_continuous_features(X_train_preprocessed_step1, new_continious_features, y_train, bins=100, ylim=(-1000,180000))"
   ]
  },
  {
   "cell_type": "markdown",
   "id": "4b715d3b",
   "metadata": {
    "papermill": {
     "duration": 3.049536,
     "end_time": "2024-09-23T09:45:37.303349",
     "exception": false,
     "start_time": "2024-09-23T09:45:34.253813",
     "status": "completed"
    },
    "tags": []
   },
   "source": [
    "**In these graphs, we observe simple trends between price and the variables trans__transmission_speed, engine__engine_soupape, engine__engine_cylinder, and engine__engine_HP. Numeric values of the feature seems to indicate it's importance related to price. Therefore, we can decide to treat these variables as numeric.**\n",
    "\n",
    "**In contrast, there is no evident trend between price and engine__engine_size, so we could treat it as a categorical feature and encode it accordingly without loosing any information.**"
   ]
  },
  {
   "cell_type": "markdown",
   "id": "b7702c67",
   "metadata": {
    "papermill": {
     "duration": 3.10974,
     "end_time": "2024-09-23T09:45:43.499165",
     "exception": false,
     "start_time": "2024-09-23T09:45:40.389425",
     "status": "completed"
    },
    "tags": []
   },
   "source": [
    "## III.2. RE-BUILD COMPLETE MODEL"
   ]
  },
  {
   "cell_type": "markdown",
   "id": "0088eb28",
   "metadata": {
    "papermill": {
     "duration": 3.035553,
     "end_time": "2024-09-23T09:45:49.597595",
     "exception": false,
     "start_time": "2024-09-23T09:45:46.562042",
     "status": "completed"
    },
    "tags": []
   },
   "source": [
    "### III.2.1 ADAPT PREVIOUS PREPROCESSING PIPELINE AND PREPROCESS DATA"
   ]
  },
  {
   "cell_type": "code",
   "execution_count": null,
   "id": "ff6c5210",
   "metadata": {
    "execution": {
     "iopub.execute_input": "2024-09-23T09:45:55.751778Z",
     "iopub.status.busy": "2024-09-23T09:45:55.750873Z",
     "iopub.status.idle": "2024-09-23T09:45:55.912231Z",
     "shell.execute_reply": "2024-09-23T09:45:55.910571Z"
    },
    "papermill": {
     "duration": 3.221168,
     "end_time": "2024-09-23T09:45:55.914551",
     "exception": false,
     "start_time": "2024-09-23T09:45:52.693383",
     "status": "completed"
    },
    "tags": []
   },
   "outputs": [],
   "source": [
    "X_train_preprocessed_step1.info()"
   ]
  },
  {
   "cell_type": "code",
   "execution_count": null,
   "id": "d3195f06",
   "metadata": {
    "execution": {
     "iopub.execute_input": "2024-09-23T09:46:02.039320Z",
     "iopub.status.busy": "2024-09-23T09:46:02.038370Z",
     "iopub.status.idle": "2024-09-23T09:46:02.153853Z",
     "shell.execute_reply": "2024-09-23T09:46:02.152559Z"
    },
    "papermill": {
     "duration": 3.148249,
     "end_time": "2024-09-23T09:46:02.156198",
     "exception": false,
     "start_time": "2024-09-23T09:45:59.007949",
     "status": "completed"
    },
    "tags": []
   },
   "outputs": [],
   "source": [
    "# ---- Specify a preprocessing strategy to apply to groups  of features for preprocessing step 2\n",
    "#\n",
    "categorical_columns_step2 = X_train_preprocessed_step1.select_dtypes(include=['object']).columns.to_list()\n",
    "numerical_columns_step2 = X_train_preprocessed_step1.select_dtypes(include=['int64', 'float64']).columns.to_list()\n",
    "\n",
    "# ---- Features we decide to scale\n",
    "#\n",
    "features_to_scale_step2 = ['remainder__milage', 'engine__engine_HP', 'engine__engine_size']\n",
    "print(f'features_to_scale_step2 : {features_to_scale_step2}')\n",
    "\n",
    "# ---- Fetures we decide to encode\n",
    "#\n",
    "features_to_encode_step2 = categorical_columns_step2 \n",
    "numerical_columns_step2.remove('remainder__milage')\n",
    "numerical_columns_step2.remove('engine__engine_HP')\n",
    "numerical_columns_step2.remove('engine__engine_size')\n",
    "features_to_encode_step2.extend(numerical_columns_step2)\n",
    "print(f'features_to_encode_step2 : {features_to_encode_step2}')"
   ]
  },
  {
   "cell_type": "code",
   "execution_count": 68,
   "id": "a8fb1ce0",
   "metadata": {
    "execution": {
     "iopub.execute_input": "2024-09-23T09:46:08.316282Z",
     "iopub.status.busy": "2024-09-23T09:46:08.315372Z",
     "iopub.status.idle": "2024-09-23T09:46:08.321436Z",
     "shell.execute_reply": "2024-09-23T09:46:08.320483Z"
    },
    "papermill": {
     "duration": 3.069159,
     "end_time": "2024-09-23T09:46:08.323373",
     "exception": false,
     "start_time": "2024-09-23T09:46:05.254214",
     "status": "completed"
    },
    "tags": []
   },
   "outputs": [],
   "source": [
    "# ---- BUILD PREPROCESSOR STEP 2\n",
    "#\n",
    "prepro_step2 = ColumnTransformer(\n",
    "    transformers=[\n",
    "        (\"num\", StandardScaler(), features_to_scale_step2),\n",
    "        (\"cat\", OneHotEncoder(drop=\"first\", handle_unknown='ignore', sparse=False), features_to_encode_step2),#Specify sparse=False to avoid raising the XLA_GPU_JIT: SparseFillEmptyRows error when using GPU\n",
    "    ],\n",
    "    remainder='passthrough',\n",
    ")\n",
    "\n",
    "# ---- CHAIN BOTH PREPROCESSOR STEP 1 AND STEP 2 IN A PIPELINE\n",
    "#\n",
    "preprocessor_global = Pipeline(\n",
    "    steps=[\n",
    "        (\"step1\", prepro_engine_transmission),\n",
    "        (\"step2\", prepro_step2)\n",
    "    ]\n",
    ")"
   ]
  },
  {
   "cell_type": "code",
   "execution_count": 69,
   "id": "86059302",
   "metadata": {
    "execution": {
     "iopub.execute_input": "2024-09-23T09:46:14.500480Z",
     "iopub.status.busy": "2024-09-23T09:46:14.499803Z",
     "iopub.status.idle": "2024-09-23T09:46:30.867337Z",
     "shell.execute_reply": "2024-09-23T09:46:30.866174Z"
    },
    "papermill": {
     "duration": 19.441238,
     "end_time": "2024-09-23T09:46:30.870057",
     "exception": false,
     "start_time": "2024-09-23T09:46:11.428819",
     "status": "completed"
    },
    "tags": []
   },
   "outputs": [],
   "source": [
    "# ---- Fit preprocessor and transform data\n",
    "#\n",
    "X_train_preprocessed = preprocessor_global.fit_transform(X_train)\n",
    "X_test_preprocessed = preprocessor_global.transform(X_test)\n",
    "\n",
    "X_shape = X_train_preprocessed.shape"
   ]
  },
  {
   "cell_type": "markdown",
   "id": "550dc88b",
   "metadata": {
    "papermill": {
     "duration": 3.061718,
     "end_time": "2024-09-23T09:46:36.958109",
     "exception": false,
     "start_time": "2024-09-23T09:46:33.896391",
     "status": "completed"
    },
    "tags": []
   },
   "source": [
    "### III.2.2 RE-BUILD MODEL AND GRID FOR PARAMETERS OPTIMIZATION  - MODEL WITH SKLEARN PREPROCESSING"
   ]
  },
  {
   "cell_type": "code",
   "execution_count": 70,
   "id": "c1c4841a",
   "metadata": {
    "execution": {
     "iopub.execute_input": "2024-09-23T09:46:43.074627Z",
     "iopub.status.busy": "2024-09-23T09:46:43.073745Z",
     "iopub.status.idle": "2024-09-23T09:46:43.087407Z",
     "shell.execute_reply": "2024-09-23T09:46:43.086502Z"
    },
    "papermill": {
     "duration": 3.048321,
     "end_time": "2024-09-23T09:46:43.089385",
     "exception": false,
     "start_time": "2024-09-23T09:46:40.041064",
     "status": "completed"
    },
    "tags": []
   },
   "outputs": [],
   "source": [
    "def objective_SK2(trial):\n",
    "    '''\n",
    "    Defines and trains a model using hyperparameters suggested by Optuna.\n",
    "\n",
    "    Parameters:\n",
    "    -----------\n",
    "    trial : optuna.trial.Trial\n",
    "        The Optuna trial object used for hyperparameter optimization.\n",
    "\n",
    "    Returns:\n",
    "    --------\n",
    "    validation_score : float\n",
    "        The best validation root mean squared error (RMSE) achieved.\n",
    "    '''\n",
    "\n",
    "    # ---- Choose hyperparameters:\n",
    "    #\n",
    "    parameters = {\n",
    "        'dense_1_units' : trial.suggest_int('dense_1_units', 16, 80, step=16),\n",
    "        'dense_1_kernel_regul_l1' : trial.suggest_uniform('dense_1_kernel_regul', 0, 0.01),\n",
    "        'dropout_1_dropout' :  trial.suggest_uniform('dropout_1_dropout', 0, 0.1),\n",
    "        'batch_size': 100,\n",
    "        'learning_rate': 0.001, #it is the default value\n",
    "    }\n",
    "\n",
    "    parameters['dense_2_units'] = parameters['dense_1_units']\n",
    "    parameters['dense_2_kernel_regul_l1'] = parameters['dense_1_kernel_regul_l1']\n",
    "    parameters['dropout_2_dropout'] = parameters['dropout_1_dropout']\n",
    "    \n",
    "    # ---- Feed model with preprocessing layers\n",
    "    #\n",
    "    input = Input(shape=(X_shape[1],))\n",
    "\n",
    "    dense_1 = tf.keras.layers.Dense(parameters.get('dense_1_units'),\n",
    "                                    activation='relu',\n",
    "                                    kernel_regularizer=regularizers.L1(parameters.get('dense_1_kernel_regul_l1')),\n",
    "                                    name='Dense_n1'\n",
    "                                    )(input)\n",
    "    \n",
    "    dropout_1 = tf.keras.layers.Dropout(parameters.get('dropout_1_dropout'), name='Dropout_n1')(dense_1)\n",
    "\n",
    "    dense_2 = tf.keras.layers.Dense(\n",
    "                                    parameters.get('dense_2_units'),\n",
    "                                    activation='relu',\n",
    "                                    kernel_regularizer=regularizers.L1(parameters.get('dense_2_kernel_regul_l1')),\n",
    "                                    name='Dense_n2'\n",
    "                                    )(dropout_1)\n",
    "    \n",
    "    dropout_2 = tf.keras.layers.Dropout(parameters.get('dropout_2_dropout'), name='Dropout_n2')(dense_2)\n",
    "    \n",
    "    output = tf.keras.layers.Dense(1, name='Output')(dropout_2)\n",
    "\n",
    "    # ---- Build model with the multiple inputs\n",
    "    #\n",
    "    model = Model(inputs=input, outputs=output)\n",
    "\n",
    "    # ---- Compile model\n",
    "    #\n",
    "    model.compile(\n",
    "        optimizer=tf.keras.optimizers.RMSprop(learning_rate=parameters['learning_rate']),\n",
    "        loss='mse',\n",
    "        metrics=['root_mean_squared_error']\n",
    "    )\n",
    "\n",
    "    callbacks = get_callbacks()\n",
    "    epochs = 100\n",
    "\n",
    "    # ---- Fit model\n",
    "    #\n",
    "    history = model.fit(x=X_train_preprocessed,\n",
    "                    y=y_train,\n",
    "                    validation_data = (X_test_preprocessed , y_test),\n",
    "                    epochs=epochs,\n",
    "                    batch_size=parameters['batch_size'],\n",
    "                    verbose=1,\n",
    "                    callbacks=callbacks\n",
    "                    )\n",
    "    \n",
    "    # ---- Format result to dataframe and save results\n",
    "    #\n",
    "    result_df = format_results_to_df(history, parameters, random_state)\n",
    "    save_metrics(\n",
    "        result_df=result_df,\n",
    "        column_to_sort='best_val_rmse',\n",
    "        comment='sklearn prepro - Standard Scaler: [milage, engine_HP, engine_size] + OneHotEncoder: others + DATA ENG: [transmission, engine]'\n",
    "        )\n",
    "\n",
    "    # Return score\n",
    "    validation_score = min(history.history['val_root_mean_squared_error'])\n",
    "\n",
    "    return validation_score"
   ]
  },
  {
   "cell_type": "markdown",
   "id": "96c5fe73",
   "metadata": {
    "papermill": {
     "duration": 3.007972,
     "end_time": "2024-09-23T09:46:49.196559",
     "exception": false,
     "start_time": "2024-09-23T09:46:46.188587",
     "status": "completed"
    },
    "tags": []
   },
   "source": [
    "## III.3. RUN A NEW STUDY AND SAVE RESULTS"
   ]
  },
  {
   "cell_type": "code",
   "execution_count": null,
   "id": "e62aaeba",
   "metadata": {
    "execution": {
     "iopub.execute_input": "2024-09-23T09:46:55.335529Z",
     "iopub.status.busy": "2024-09-23T09:46:55.335159Z",
     "iopub.status.idle": "2024-09-23T10:01:48.788482Z",
     "shell.execute_reply": "2024-09-23T10:01:48.787319Z"
    },
    "papermill": {
     "duration": 896.515185,
     "end_time": "2024-09-23T10:01:48.790605",
     "exception": false,
     "start_time": "2024-09-23T09:46:52.275420",
     "status": "completed"
    },
    "tags": []
   },
   "outputs": [],
   "source": [
    "# ---- Run optuna optimization\n",
    "#\n",
    "study = optuna.create_study(study_name='sklearn prepro + DATA ENG',\n",
    "                            direction='minimize',\n",
    "                            storage=STUDY_STORAGE_PATH,\n",
    "                            load_if_exists=True\n",
    "                            )\n",
    "\n",
    "study.optimize(objective_SK2, n_trials=8)"
   ]
  },
  {
   "cell_type": "code",
   "execution_count": null,
   "id": "be33a9a2",
   "metadata": {
    "execution": {
     "iopub.execute_input": "2024-09-23T10:01:57.189621Z",
     "iopub.status.busy": "2024-09-23T10:01:57.189214Z",
     "iopub.status.idle": "2024-09-23T10:01:57.209279Z",
     "shell.execute_reply": "2024-09-23T10:01:57.208401Z"
    },
    "papermill": {
     "duration": 4.205329,
     "end_time": "2024-09-23T10:01:57.211224",
     "exception": false,
     "start_time": "2024-09-23T10:01:53.005895",
     "status": "completed"
    },
    "tags": []
   },
   "outputs": [],
   "source": [
    "# ---- Have a look at the results\n",
    "#\n",
    "general_results_df = pd.read_csv(FILEPATH_model_results, sep=';')\n",
    "general_results_df.head(5)"
   ]
  },
  {
   "cell_type": "markdown",
   "id": "84725cc6",
   "metadata": {
    "papermill": {
     "duration": 4.2409,
     "end_time": "2024-09-23T10:02:05.692943",
     "exception": false,
     "start_time": "2024-09-23T10:02:01.452043",
     "status": "completed"
    },
    "tags": []
   },
   "source": [
    "## III.4 MAKES NEW SUBMISSION ...."
   ]
  },
  {
   "cell_type": "markdown",
   "id": "ec7d8373",
   "metadata": {
    "papermill": {
     "duration": 4.223118,
     "end_time": "2024-09-23T10:02:14.124631",
     "exception": false,
     "start_time": "2024-09-23T10:02:09.901513",
     "status": "completed"
    },
    "tags": []
   },
   "source": [
    "**Models feeded with preprocessed data with data engineering does not have the best ranking... **"
   ]
  },
  {
   "cell_type": "markdown",
   "id": "37527a3e",
   "metadata": {
    "papermill": {
     "duration": 4.160812,
     "end_time": "2024-09-23T10:02:22.513678",
     "exception": false,
     "start_time": "2024-09-23T10:02:18.352866",
     "status": "completed"
    },
    "tags": []
   },
   "source": [
    "# IV. MODEL EXPLAINIBILITY"
   ]
  },
  {
   "cell_type": "markdown",
   "id": "28750df9",
   "metadata": {
    "papermill": {
     "duration": 4.226278,
     "end_time": "2024-09-23T10:02:30.947091",
     "exception": false,
     "start_time": "2024-09-23T10:02:26.720813",
     "status": "completed"
    },
    "tags": []
   },
   "source": [
    "## IV.1. FEATURES IMPORTANCE"
   ]
  },
  {
   "cell_type": "code",
   "execution_count": 73,
   "id": "85e00b84",
   "metadata": {
    "execution": {
     "iopub.execute_input": "2024-09-23T10:02:39.417062Z",
     "iopub.status.busy": "2024-09-23T10:02:39.416158Z",
     "iopub.status.idle": "2024-09-23T10:02:39.423304Z",
     "shell.execute_reply": "2024-09-23T10:02:39.422346Z"
    },
    "papermill": {
     "duration": 4.174362,
     "end_time": "2024-09-23T10:02:39.425334",
     "exception": false,
     "start_time": "2024-09-23T10:02:35.250972",
     "status": "completed"
    },
    "tags": []
   },
   "outputs": [],
   "source": [
    "# ---- Let's choose the best model with keras preprocessing layers to determine feature importance \n",
    "#\n",
    "mask = general_results_df['comment'] == 'keras prepro layers'\n",
    "selected_val_rmse = general_results_df[mask]['best_val_rmse'].min()\n",
    "selected_model_filepath = general_results_df.loc[general_results_df['best_val_rmse'] == selected_val_rmse, 'model_filepath'].values[0]"
   ]
  },
  {
   "cell_type": "code",
   "execution_count": null,
   "id": "7329fb39",
   "metadata": {
    "execution": {
     "iopub.execute_input": "2024-09-23T10:02:47.782093Z",
     "iopub.status.busy": "2024-09-23T10:02:47.781331Z",
     "iopub.status.idle": "2024-09-23T10:02:48.030963Z",
     "shell.execute_reply": "2024-09-23T10:02:48.030064Z"
    },
    "papermill": {
     "duration": 4.491767,
     "end_time": "2024-09-23T10:02:48.032947",
     "exception": false,
     "start_time": "2024-09-23T10:02:43.541180",
     "status": "completed"
    },
    "tags": []
   },
   "outputs": [],
   "source": [
    "# ---- Reload best model\n",
    "# \n",
    "selected_model = tf.keras.models.load_model(selected_model_filepath)\n",
    "selected_model.summary()"
   ]
  },
  {
   "cell_type": "code",
   "execution_count": null,
   "id": "bc03e71f",
   "metadata": {
    "execution": {
     "iopub.execute_input": "2024-09-23T10:02:56.456858Z",
     "iopub.status.busy": "2024-09-23T10:02:56.456447Z",
     "iopub.status.idle": "2024-09-23T10:07:39.511462Z",
     "shell.execute_reply": "2024-09-23T10:07:39.510472Z"
    },
    "papermill": {
     "duration": 287.28647,
     "end_time": "2024-09-23T10:07:39.513565",
     "exception": false,
     "start_time": "2024-09-23T10:02:52.227095",
     "status": "completed"
    },
    "tags": []
   },
   "outputs": [],
   "source": [
    "# ---- Specify a set of samples to be used as reference by SHAP for comparison with the samples to analyze.\n",
    "# ---- We will select the first 50 samples for this reference set.\n",
    "X_sample_df = X.head(50)\n",
    "\n",
    "# ---- Specify the samples to analyze.\n",
    "# ---- \n",
    "sample_to_analyse = X.iloc[200:210, :]\n",
    "\n",
    "\n",
    "# ---- Define a function to adapt our model to the shape and type of input required by shap.KernelExplainer.\n",
    "#\n",
    "def predict_f(X):\n",
    "    '''\n",
    "    Make predictions for a given set of samples.\n",
    "\n",
    "    Parameters:\n",
    "    -----------\n",
    "    X: np.array\n",
    "        A NumPy array containing the data for which predictions are made. \n",
    "        Rows correspond to samples, and columns correspond to features.\n",
    "\n",
    "    Returns:\n",
    "    --------\n",
    "    np.array:\n",
    "        A 1D array containing the predicted values from the model.\n",
    "    '''\n",
    "    X_dict = {column: (X[:, i]).astype(dtype).reshape(-1, 1)\n",
    "              for i, (column, dtype) in enumerate(zip(X_sample_df.columns, X_sample_df.dtypes))} \n",
    "    # We use X_sample_df to retrieve the column names and data types. \n",
    "    # When shap.KernelExplainer converts a DataFrame to a NumPy array, the data types may change, \n",
    "    # which can cause issues with the model's prediction function.\n",
    "\n",
    "    return selected_model.predict(X_dict).flatten()\n",
    "\n",
    "\n",
    "# ---- Initialize SHAP\n",
    "#\n",
    "shap.initjs()\n",
    "\n",
    "# ---- Initialize the SHAP explainer using the reference set of samples.\n",
    "#\n",
    "explainer = shap.KernelExplainer(predict_f, X_sample_df)\n",
    "\n",
    "# ---- Calculate SHAP values corresponding to the each individual sample.\n",
    "#\n",
    "shap_values = explainer(sample_to_analyse)\n",
    "\n",
    "# ---- Generate the barplot of mean features importance calculated on the sample to analyse\n",
    "#\n",
    "shap.plots.bar(shap_values)"
   ]
  },
  {
   "cell_type": "code",
   "execution_count": null,
   "id": "3fef8128",
   "metadata": {
    "execution": {
     "iopub.execute_input": "2024-09-23T10:07:48.815362Z",
     "iopub.status.busy": "2024-09-23T10:07:48.814429Z",
     "iopub.status.idle": "2024-09-23T10:07:49.369197Z",
     "shell.execute_reply": "2024-09-23T10:07:49.368061Z"
    },
    "papermill": {
     "duration": 5.236816,
     "end_time": "2024-09-23T10:07:49.371406",
     "exception": false,
     "start_time": "2024-09-23T10:07:44.134590",
     "status": "completed"
    },
    "tags": []
   },
   "outputs": [],
   "source": [
    "# ---- More detail overview of the feature importance\n",
    "#\n",
    "shap.summary_plot(shap_values, sample_to_analyse)"
   ]
  },
  {
   "cell_type": "code",
   "execution_count": null,
   "id": "3cb9a7db",
   "metadata": {
    "execution": {
     "iopub.execute_input": "2024-09-23T10:07:58.573493Z",
     "iopub.status.busy": "2024-09-23T10:07:58.573091Z",
     "iopub.status.idle": "2024-09-23T10:08:27.200053Z",
     "shell.execute_reply": "2024-09-23T10:08:27.199075Z"
    },
    "papermill": {
     "duration": 33.259066,
     "end_time": "2024-09-23T10:08:27.202254",
     "exception": false,
     "start_time": "2024-09-23T10:07:53.943188",
     "status": "completed"
    },
    "tags": []
   },
   "outputs": [],
   "source": [
    "# We could also plot the force_plot for a specific sample, let's choose one\n",
    "#\n",
    "choosen_sample =  X.iloc[1000:1001, :] #We need it to be a DataFrame, that's why we take a slice\n",
    "\n",
    "# ---- Calculate the shap_values and generate the shap._explanation.Explanation object\n",
    "#\n",
    "shap_values_choosen_sample = explainer(choosen_sample)\n",
    "\n",
    "# ---- Display the plot\n",
    "#\n",
    "shap.force_plot(shap_values_choosen_sample,\n",
    "                feature_names=choosen_sample.columns.to_list(),\n",
    "                matplotlib=True,\n",
    "                figsize=(40, 3), \n",
    "                out_names=f'sample_index = {choosen_sample.index[0]}'\n",
    "                )"
   ]
  }
 ],
 "metadata": {
  "kaggle": {
   "accelerator": "none",
   "dataSources": [
    {
     "databundleVersionId": 9057646,
     "sourceId": 76728,
     "sourceType": "competition"
    }
   ],
   "isGpuEnabled": false,
   "isInternetEnabled": false,
   "language": "python",
   "sourceType": "notebook"
  },
  "kernelspec": {
   "display_name": "Python 3",
   "language": "python",
   "name": "python3"
  },
  "language_info": {
   "codemirror_mode": {
    "name": "ipython",
    "version": 3
   },
   "file_extension": ".py",
   "mimetype": "text/x-python",
   "name": "python",
   "nbconvert_exporter": "python",
   "pygments_lexer": "ipython3",
   "version": "3.10.12"
  },
  "papermill": {
   "default_parameters": {},
   "duration": 4137.510892,
   "end_time": "2024-09-23T10:08:35.567469",
   "environment_variables": {},
   "exception": null,
   "input_path": "__notebook__.ipynb",
   "output_path": "__notebook__.ipynb",
   "parameters": {},
   "start_time": "2024-09-23T08:59:38.056577",
   "version": "2.6.0"
  },
  "widgets": {
   "application/vnd.jupyter.widget-state+json": {
    "state": {
     "02ce760932f6437d891fe53012b1bbab": {
      "model_module": "@jupyter-widgets/controls",
      "model_module_version": "1.5.0",
      "model_name": "DescriptionStyleModel",
      "state": {
       "_model_module": "@jupyter-widgets/controls",
       "_model_module_version": "1.5.0",
       "_model_name": "DescriptionStyleModel",
       "_view_count": null,
       "_view_module": "@jupyter-widgets/base",
       "_view_module_version": "1.2.0",
       "_view_name": "StyleView",
       "description_width": ""
      }
     },
     "137d7dc4d86f4c7981298516a7af621c": {
      "model_module": "@jupyter-widgets/base",
      "model_module_version": "1.2.0",
      "model_name": "LayoutModel",
      "state": {
       "_model_module": "@jupyter-widgets/base",
       "_model_module_version": "1.2.0",
       "_model_name": "LayoutModel",
       "_view_count": null,
       "_view_module": "@jupyter-widgets/base",
       "_view_module_version": "1.2.0",
       "_view_name": "LayoutView",
       "align_content": null,
       "align_items": null,
       "align_self": null,
       "border": null,
       "bottom": null,
       "display": null,
       "flex": null,
       "flex_flow": null,
       "grid_area": null,
       "grid_auto_columns": null,
       "grid_auto_flow": null,
       "grid_auto_rows": null,
       "grid_column": null,
       "grid_gap": null,
       "grid_row": null,
       "grid_template_areas": null,
       "grid_template_columns": null,
       "grid_template_rows": null,
       "height": null,
       "justify_content": null,
       "justify_items": null,
       "left": null,
       "margin": null,
       "max_height": null,
       "max_width": null,
       "min_height": null,
       "min_width": null,
       "object_fit": null,
       "object_position": null,
       "order": null,
       "overflow": null,
       "overflow_x": null,
       "overflow_y": null,
       "padding": null,
       "right": null,
       "top": null,
       "visibility": null,
       "width": null
      }
     },
     "35eef8da29764a12b60a8539491c4f19": {
      "model_module": "@jupyter-widgets/base",
      "model_module_version": "1.2.0",
      "model_name": "LayoutModel",
      "state": {
       "_model_module": "@jupyter-widgets/base",
       "_model_module_version": "1.2.0",
       "_model_name": "LayoutModel",
       "_view_count": null,
       "_view_module": "@jupyter-widgets/base",
       "_view_module_version": "1.2.0",
       "_view_name": "LayoutView",
       "align_content": null,
       "align_items": null,
       "align_self": null,
       "border": null,
       "bottom": null,
       "display": null,
       "flex": null,
       "flex_flow": null,
       "grid_area": null,
       "grid_auto_columns": null,
       "grid_auto_flow": null,
       "grid_auto_rows": null,
       "grid_column": null,
       "grid_gap": null,
       "grid_row": null,
       "grid_template_areas": null,
       "grid_template_columns": null,
       "grid_template_rows": null,
       "height": null,
       "justify_content": null,
       "justify_items": null,
       "left": null,
       "margin": null,
       "max_height": null,
       "max_width": null,
       "min_height": null,
       "min_width": null,
       "object_fit": null,
       "object_position": null,
       "order": null,
       "overflow": null,
       "overflow_x": null,
       "overflow_y": null,
       "padding": null,
       "right": null,
       "top": null,
       "visibility": null,
       "width": null
      }
     },
     "3807a309324d43e0bfe73a41676b11e4": {
      "model_module": "@jupyter-widgets/controls",
      "model_module_version": "1.5.0",
      "model_name": "HTMLModel",
      "state": {
       "_dom_classes": [],
       "_model_module": "@jupyter-widgets/controls",
       "_model_module_version": "1.5.0",
       "_model_name": "HTMLModel",
       "_view_count": null,
       "_view_module": "@jupyter-widgets/controls",
       "_view_module_version": "1.5.0",
       "_view_name": "HTMLView",
       "description": "",
       "description_tooltip": null,
       "layout": "IPY_MODEL_9f3234c5a052420ca316eec50e68ddbf",
       "placeholder": "​",
       "style": "IPY_MODEL_f85e724e2e6d403faaa4a47f68b3fa60",
       "value": "100%"
      }
     },
     "56d864b5e0524c50a7149ab80576d66b": {
      "model_module": "@jupyter-widgets/base",
      "model_module_version": "1.2.0",
      "model_name": "LayoutModel",
      "state": {
       "_model_module": "@jupyter-widgets/base",
       "_model_module_version": "1.2.0",
       "_model_name": "LayoutModel",
       "_view_count": null,
       "_view_module": "@jupyter-widgets/base",
       "_view_module_version": "1.2.0",
       "_view_name": "LayoutView",
       "align_content": null,
       "align_items": null,
       "align_self": null,
       "border": null,
       "bottom": null,
       "display": null,
       "flex": null,
       "flex_flow": null,
       "grid_area": null,
       "grid_auto_columns": null,
       "grid_auto_flow": null,
       "grid_auto_rows": null,
       "grid_column": null,
       "grid_gap": null,
       "grid_row": null,
       "grid_template_areas": null,
       "grid_template_columns": null,
       "grid_template_rows": null,
       "height": null,
       "justify_content": null,
       "justify_items": null,
       "left": null,
       "margin": null,
       "max_height": null,
       "max_width": null,
       "min_height": null,
       "min_width": null,
       "object_fit": null,
       "object_position": null,
       "order": null,
       "overflow": null,
       "overflow_x": null,
       "overflow_y": null,
       "padding": null,
       "right": null,
       "top": null,
       "visibility": null,
       "width": null
      }
     },
     "58b77fbdcfe44984a581230780ad3172": {
      "model_module": "@jupyter-widgets/controls",
      "model_module_version": "1.5.0",
      "model_name": "FloatProgressModel",
      "state": {
       "_dom_classes": [],
       "_model_module": "@jupyter-widgets/controls",
       "_model_module_version": "1.5.0",
       "_model_name": "FloatProgressModel",
       "_view_count": null,
       "_view_module": "@jupyter-widgets/controls",
       "_view_module_version": "1.5.0",
       "_view_name": "ProgressView",
       "bar_style": "success",
       "description": "",
       "description_tooltip": null,
       "layout": "IPY_MODEL_ef173b2f54c64b328460fd20211e5e8d",
       "max": 10,
       "min": 0,
       "orientation": "horizontal",
       "style": "IPY_MODEL_df84d7197fd94c6aaa86b7921fc8028c",
       "value": 10
      }
     },
     "6166c2beba4f446ab2dda0da6855607b": {
      "model_module": "@jupyter-widgets/controls",
      "model_module_version": "1.5.0",
      "model_name": "HTMLModel",
      "state": {
       "_dom_classes": [],
       "_model_module": "@jupyter-widgets/controls",
       "_model_module_version": "1.5.0",
       "_model_name": "HTMLModel",
       "_view_count": null,
       "_view_module": "@jupyter-widgets/controls",
       "_view_module_version": "1.5.0",
       "_view_name": "HTMLView",
       "description": "",
       "description_tooltip": null,
       "layout": "IPY_MODEL_137d7dc4d86f4c7981298516a7af621c",
       "placeholder": "​",
       "style": "IPY_MODEL_a7a75329d6854223ac9afc1b7705585f",
       "value": " 10/10 [04:42&lt;00:00, 28.13s/it]"
      }
     },
     "6286fee04a1d465e9bc5e85a91cd9d08": {
      "model_module": "@jupyter-widgets/controls",
      "model_module_version": "1.5.0",
      "model_name": "ProgressStyleModel",
      "state": {
       "_model_module": "@jupyter-widgets/controls",
       "_model_module_version": "1.5.0",
       "_model_name": "ProgressStyleModel",
       "_view_count": null,
       "_view_module": "@jupyter-widgets/base",
       "_view_module_version": "1.2.0",
       "_view_name": "StyleView",
       "bar_color": null,
       "description_width": ""
      }
     },
     "84c6f6484ae643fa91d670e61795d413": {
      "model_module": "@jupyter-widgets/controls",
      "model_module_version": "1.5.0",
      "model_name": "HBoxModel",
      "state": {
       "_dom_classes": [],
       "_model_module": "@jupyter-widgets/controls",
       "_model_module_version": "1.5.0",
       "_model_name": "HBoxModel",
       "_view_count": null,
       "_view_module": "@jupyter-widgets/controls",
       "_view_module_version": "1.5.0",
       "_view_name": "HBoxView",
       "box_style": "",
       "children": [
        "IPY_MODEL_99b42e3945e9495d9235bb7f6df79dad",
        "IPY_MODEL_cb3621c1288945b9bf0d89294ccdb785",
        "IPY_MODEL_b2af3017c74242bb9e19dbc23e6c2bf4"
       ],
       "layout": "IPY_MODEL_35eef8da29764a12b60a8539491c4f19"
      }
     },
     "99b42e3945e9495d9235bb7f6df79dad": {
      "model_module": "@jupyter-widgets/controls",
      "model_module_version": "1.5.0",
      "model_name": "HTMLModel",
      "state": {
       "_dom_classes": [],
       "_model_module": "@jupyter-widgets/controls",
       "_model_module_version": "1.5.0",
       "_model_name": "HTMLModel",
       "_view_count": null,
       "_view_module": "@jupyter-widgets/controls",
       "_view_module_version": "1.5.0",
       "_view_name": "HTMLView",
       "description": "",
       "description_tooltip": null,
       "layout": "IPY_MODEL_d499b32e17b9423da1ebc432afa8291f",
       "placeholder": "​",
       "style": "IPY_MODEL_d25fff3b958949b69476cf89c93c852a",
       "value": "100%"
      }
     },
     "9f3234c5a052420ca316eec50e68ddbf": {
      "model_module": "@jupyter-widgets/base",
      "model_module_version": "1.2.0",
      "model_name": "LayoutModel",
      "state": {
       "_model_module": "@jupyter-widgets/base",
       "_model_module_version": "1.2.0",
       "_model_name": "LayoutModel",
       "_view_count": null,
       "_view_module": "@jupyter-widgets/base",
       "_view_module_version": "1.2.0",
       "_view_name": "LayoutView",
       "align_content": null,
       "align_items": null,
       "align_self": null,
       "border": null,
       "bottom": null,
       "display": null,
       "flex": null,
       "flex_flow": null,
       "grid_area": null,
       "grid_auto_columns": null,
       "grid_auto_flow": null,
       "grid_auto_rows": null,
       "grid_column": null,
       "grid_gap": null,
       "grid_row": null,
       "grid_template_areas": null,
       "grid_template_columns": null,
       "grid_template_rows": null,
       "height": null,
       "justify_content": null,
       "justify_items": null,
       "left": null,
       "margin": null,
       "max_height": null,
       "max_width": null,
       "min_height": null,
       "min_width": null,
       "object_fit": null,
       "object_position": null,
       "order": null,
       "overflow": null,
       "overflow_x": null,
       "overflow_y": null,
       "padding": null,
       "right": null,
       "top": null,
       "visibility": null,
       "width": null
      }
     },
     "a7a75329d6854223ac9afc1b7705585f": {
      "model_module": "@jupyter-widgets/controls",
      "model_module_version": "1.5.0",
      "model_name": "DescriptionStyleModel",
      "state": {
       "_model_module": "@jupyter-widgets/controls",
       "_model_module_version": "1.5.0",
       "_model_name": "DescriptionStyleModel",
       "_view_count": null,
       "_view_module": "@jupyter-widgets/base",
       "_view_module_version": "1.2.0",
       "_view_name": "StyleView",
       "description_width": ""
      }
     },
     "b2af3017c74242bb9e19dbc23e6c2bf4": {
      "model_module": "@jupyter-widgets/controls",
      "model_module_version": "1.5.0",
      "model_name": "HTMLModel",
      "state": {
       "_dom_classes": [],
       "_model_module": "@jupyter-widgets/controls",
       "_model_module_version": "1.5.0",
       "_model_name": "HTMLModel",
       "_view_count": null,
       "_view_module": "@jupyter-widgets/controls",
       "_view_module_version": "1.5.0",
       "_view_name": "HTMLView",
       "description": "",
       "description_tooltip": null,
       "layout": "IPY_MODEL_f53195d0e08842389a89d9589aba467e",
       "placeholder": "​",
       "style": "IPY_MODEL_02ce760932f6437d891fe53012b1bbab",
       "value": " 1/1 [00:27&lt;00:00, 27.68s/it]"
      }
     },
     "cb3621c1288945b9bf0d89294ccdb785": {
      "model_module": "@jupyter-widgets/controls",
      "model_module_version": "1.5.0",
      "model_name": "FloatProgressModel",
      "state": {
       "_dom_classes": [],
       "_model_module": "@jupyter-widgets/controls",
       "_model_module_version": "1.5.0",
       "_model_name": "FloatProgressModel",
       "_view_count": null,
       "_view_module": "@jupyter-widgets/controls",
       "_view_module_version": "1.5.0",
       "_view_name": "ProgressView",
       "bar_style": "success",
       "description": "",
       "description_tooltip": null,
       "layout": "IPY_MODEL_d1a2ebd71a5d466db6fe74a218d24b62",
       "max": 1,
       "min": 0,
       "orientation": "horizontal",
       "style": "IPY_MODEL_6286fee04a1d465e9bc5e85a91cd9d08",
       "value": 1
      }
     },
     "d1a2ebd71a5d466db6fe74a218d24b62": {
      "model_module": "@jupyter-widgets/base",
      "model_module_version": "1.2.0",
      "model_name": "LayoutModel",
      "state": {
       "_model_module": "@jupyter-widgets/base",
       "_model_module_version": "1.2.0",
       "_model_name": "LayoutModel",
       "_view_count": null,
       "_view_module": "@jupyter-widgets/base",
       "_view_module_version": "1.2.0",
       "_view_name": "LayoutView",
       "align_content": null,
       "align_items": null,
       "align_self": null,
       "border": null,
       "bottom": null,
       "display": null,
       "flex": null,
       "flex_flow": null,
       "grid_area": null,
       "grid_auto_columns": null,
       "grid_auto_flow": null,
       "grid_auto_rows": null,
       "grid_column": null,
       "grid_gap": null,
       "grid_row": null,
       "grid_template_areas": null,
       "grid_template_columns": null,
       "grid_template_rows": null,
       "height": null,
       "justify_content": null,
       "justify_items": null,
       "left": null,
       "margin": null,
       "max_height": null,
       "max_width": null,
       "min_height": null,
       "min_width": null,
       "object_fit": null,
       "object_position": null,
       "order": null,
       "overflow": null,
       "overflow_x": null,
       "overflow_y": null,
       "padding": null,
       "right": null,
       "top": null,
       "visibility": null,
       "width": null
      }
     },
     "d25fff3b958949b69476cf89c93c852a": {
      "model_module": "@jupyter-widgets/controls",
      "model_module_version": "1.5.0",
      "model_name": "DescriptionStyleModel",
      "state": {
       "_model_module": "@jupyter-widgets/controls",
       "_model_module_version": "1.5.0",
       "_model_name": "DescriptionStyleModel",
       "_view_count": null,
       "_view_module": "@jupyter-widgets/base",
       "_view_module_version": "1.2.0",
       "_view_name": "StyleView",
       "description_width": ""
      }
     },
     "d499b32e17b9423da1ebc432afa8291f": {
      "model_module": "@jupyter-widgets/base",
      "model_module_version": "1.2.0",
      "model_name": "LayoutModel",
      "state": {
       "_model_module": "@jupyter-widgets/base",
       "_model_module_version": "1.2.0",
       "_model_name": "LayoutModel",
       "_view_count": null,
       "_view_module": "@jupyter-widgets/base",
       "_view_module_version": "1.2.0",
       "_view_name": "LayoutView",
       "align_content": null,
       "align_items": null,
       "align_self": null,
       "border": null,
       "bottom": null,
       "display": null,
       "flex": null,
       "flex_flow": null,
       "grid_area": null,
       "grid_auto_columns": null,
       "grid_auto_flow": null,
       "grid_auto_rows": null,
       "grid_column": null,
       "grid_gap": null,
       "grid_row": null,
       "grid_template_areas": null,
       "grid_template_columns": null,
       "grid_template_rows": null,
       "height": null,
       "justify_content": null,
       "justify_items": null,
       "left": null,
       "margin": null,
       "max_height": null,
       "max_width": null,
       "min_height": null,
       "min_width": null,
       "object_fit": null,
       "object_position": null,
       "order": null,
       "overflow": null,
       "overflow_x": null,
       "overflow_y": null,
       "padding": null,
       "right": null,
       "top": null,
       "visibility": null,
       "width": null
      }
     },
     "df84d7197fd94c6aaa86b7921fc8028c": {
      "model_module": "@jupyter-widgets/controls",
      "model_module_version": "1.5.0",
      "model_name": "ProgressStyleModel",
      "state": {
       "_model_module": "@jupyter-widgets/controls",
       "_model_module_version": "1.5.0",
       "_model_name": "ProgressStyleModel",
       "_view_count": null,
       "_view_module": "@jupyter-widgets/base",
       "_view_module_version": "1.2.0",
       "_view_name": "StyleView",
       "bar_color": null,
       "description_width": ""
      }
     },
     "ef173b2f54c64b328460fd20211e5e8d": {
      "model_module": "@jupyter-widgets/base",
      "model_module_version": "1.2.0",
      "model_name": "LayoutModel",
      "state": {
       "_model_module": "@jupyter-widgets/base",
       "_model_module_version": "1.2.0",
       "_model_name": "LayoutModel",
       "_view_count": null,
       "_view_module": "@jupyter-widgets/base",
       "_view_module_version": "1.2.0",
       "_view_name": "LayoutView",
       "align_content": null,
       "align_items": null,
       "align_self": null,
       "border": null,
       "bottom": null,
       "display": null,
       "flex": null,
       "flex_flow": null,
       "grid_area": null,
       "grid_auto_columns": null,
       "grid_auto_flow": null,
       "grid_auto_rows": null,
       "grid_column": null,
       "grid_gap": null,
       "grid_row": null,
       "grid_template_areas": null,
       "grid_template_columns": null,
       "grid_template_rows": null,
       "height": null,
       "justify_content": null,
       "justify_items": null,
       "left": null,
       "margin": null,
       "max_height": null,
       "max_width": null,
       "min_height": null,
       "min_width": null,
       "object_fit": null,
       "object_position": null,
       "order": null,
       "overflow": null,
       "overflow_x": null,
       "overflow_y": null,
       "padding": null,
       "right": null,
       "top": null,
       "visibility": null,
       "width": null
      }
     },
     "f3bd90297ed44bfb9464c54935975805": {
      "model_module": "@jupyter-widgets/controls",
      "model_module_version": "1.5.0",
      "model_name": "HBoxModel",
      "state": {
       "_dom_classes": [],
       "_model_module": "@jupyter-widgets/controls",
       "_model_module_version": "1.5.0",
       "_model_name": "HBoxModel",
       "_view_count": null,
       "_view_module": "@jupyter-widgets/controls",
       "_view_module_version": "1.5.0",
       "_view_name": "HBoxView",
       "box_style": "",
       "children": [
        "IPY_MODEL_3807a309324d43e0bfe73a41676b11e4",
        "IPY_MODEL_58b77fbdcfe44984a581230780ad3172",
        "IPY_MODEL_6166c2beba4f446ab2dda0da6855607b"
       ],
       "layout": "IPY_MODEL_56d864b5e0524c50a7149ab80576d66b"
      }
     },
     "f53195d0e08842389a89d9589aba467e": {
      "model_module": "@jupyter-widgets/base",
      "model_module_version": "1.2.0",
      "model_name": "LayoutModel",
      "state": {
       "_model_module": "@jupyter-widgets/base",
       "_model_module_version": "1.2.0",
       "_model_name": "LayoutModel",
       "_view_count": null,
       "_view_module": "@jupyter-widgets/base",
       "_view_module_version": "1.2.0",
       "_view_name": "LayoutView",
       "align_content": null,
       "align_items": null,
       "align_self": null,
       "border": null,
       "bottom": null,
       "display": null,
       "flex": null,
       "flex_flow": null,
       "grid_area": null,
       "grid_auto_columns": null,
       "grid_auto_flow": null,
       "grid_auto_rows": null,
       "grid_column": null,
       "grid_gap": null,
       "grid_row": null,
       "grid_template_areas": null,
       "grid_template_columns": null,
       "grid_template_rows": null,
       "height": null,
       "justify_content": null,
       "justify_items": null,
       "left": null,
       "margin": null,
       "max_height": null,
       "max_width": null,
       "min_height": null,
       "min_width": null,
       "object_fit": null,
       "object_position": null,
       "order": null,
       "overflow": null,
       "overflow_x": null,
       "overflow_y": null,
       "padding": null,
       "right": null,
       "top": null,
       "visibility": null,
       "width": null
      }
     },
     "f85e724e2e6d403faaa4a47f68b3fa60": {
      "model_module": "@jupyter-widgets/controls",
      "model_module_version": "1.5.0",
      "model_name": "DescriptionStyleModel",
      "state": {
       "_model_module": "@jupyter-widgets/controls",
       "_model_module_version": "1.5.0",
       "_model_name": "DescriptionStyleModel",
       "_view_count": null,
       "_view_module": "@jupyter-widgets/base",
       "_view_module_version": "1.2.0",
       "_view_name": "StyleView",
       "description_width": ""
      }
     }
    },
    "version_major": 2,
    "version_minor": 0
   }
  }
 },
 "nbformat": 4,
 "nbformat_minor": 5
}
