{
 "cells": [
  {
   "cell_type": "markdown",
   "id": "d07c67b2",
   "metadata": {
    "papermill": {
     "duration": 0.016222,
     "end_time": "2024-09-23T13:58:17.745859",
     "exception": false,
     "start_time": "2024-09-23T13:58:17.729637",
     "status": "completed"
    },
    "tags": []
   },
   "source": [
    "**THE GOAL OF THIS NOTEBOOK IS TO ANALYSE HYPERPARAMETERS IMPORTANCE OF A KERAS SIMPLE MODEL.\n",
    "We use the dataset from the 'Regression of Used Car Prices' competition.**\n",
    "\n",
    "**- We start with a brief exploration and cleaning of the data.**\n",
    "\n",
    "**- Next, we perform preliminary preprocessing using Scikit-learn.**\n",
    "\n",
    "**- We then build a simple model with two Keras dense layers, using the preprocessed data as input.**\n",
    "\n",
    "**- Afterward, we conduct a hyperparameter optimization study on the Keras model using Optuna.**\n",
    "\n",
    "**- Finally, we analyze the importance of the hyperparameters, which is the main topic of this notebook.**"
   ]
  },
  {
   "cell_type": "code",
   "execution_count": 1,
   "id": "a9ed5d22",
   "metadata": {
    "execution": {
     "iopub.execute_input": "2024-09-23T13:58:17.777886Z",
     "iopub.status.busy": "2024-09-23T13:58:17.777476Z",
     "iopub.status.idle": "2024-09-23T13:58:30.754091Z",
     "shell.execute_reply": "2024-09-23T13:58:30.753264Z"
    },
    "papermill": {
     "duration": 12.995487,
     "end_time": "2024-09-23T13:58:30.756648",
     "exception": false,
     "start_time": "2024-09-23T13:58:17.761161",
     "status": "completed"
    },
    "tags": []
   },
   "outputs": [],
   "source": [
    "import datetime as dt\n",
    "import glob\n",
    "import matplotlib.pyplot as plt\n",
    "import numpy as np\n",
    "import pandas as pd\n",
    "import optuna\n",
    "import os\n",
    "import seaborn as sns\n",
    "from sklearn.compose import ColumnTransformer\n",
    "from sklearn.model_selection import train_test_split\n",
    "from sklearn.preprocessing import StandardScaler, OneHotEncoder\n",
    "import tensorflow as tf\n",
    "from tensorflow.keras import regularizers\n",
    "from tensorflow.keras.models import Model\n",
    "from tensorflow.keras.layers import Dense, Input\n",
    "import warnings\n",
    "\n",
    "warnings.filterwarnings(\"ignore\")\n",
    "\n",
    "# ---- Adapt size of columns when displaying a DataFrame\n",
    "#\n",
    "pd.set_option('display.max_colwidth', None)"
   ]
  },
  {
   "cell_type": "code",
   "execution_count": null,
   "id": "d10c7c4f",
   "metadata": {
    "execution": {
     "iopub.execute_input": "2024-09-23T13:58:30.788598Z",
     "iopub.status.busy": "2024-09-23T13:58:30.787772Z",
     "iopub.status.idle": "2024-09-23T13:58:30.793759Z",
     "shell.execute_reply": "2024-09-23T13:58:30.792370Z"
    },
    "papermill": {
     "duration": 0.023729,
     "end_time": "2024-09-23T13:58:30.795785",
     "exception": false,
     "start_time": "2024-09-23T13:58:30.772056",
     "status": "completed"
    },
    "tags": []
   },
   "outputs": [],
   "source": [
    "# ---- Get the current working directory where python is executing to adapt filepath used in this notebook\n",
    "#\n",
    "current_directory = os.getcwd()\n",
    "print(\"Current directory :\", current_directory)"
   ]
  },
  {
   "cell_type": "code",
   "execution_count": 3,
   "id": "17d8f57a",
   "metadata": {
    "execution": {
     "iopub.execute_input": "2024-09-23T13:58:30.826757Z",
     "iopub.status.busy": "2024-09-23T13:58:30.826067Z",
     "iopub.status.idle": "2024-09-23T13:58:30.830346Z",
     "shell.execute_reply": "2024-09-23T13:58:30.829423Z"
    },
    "papermill": {
     "duration": 0.021556,
     "end_time": "2024-09-23T13:58:30.832400",
     "exception": false,
     "start_time": "2024-09-23T13:58:30.810844",
     "status": "completed"
    },
    "tags": []
   },
   "outputs": [],
   "source": [
    "#---- SKIP THIS SECTION ON KAGGLE ----\n",
    "# ---- Section dedicated to script.py import\n",
    "# \n",
    "import sys\n",
    "\n",
    "# ---- Specify path to the folder containing the scripts\n",
    "#\n",
    "script_path = './scripts'\n",
    "sys.path.append(script_path)\n",
    "\n",
    "# ---- Import the usefull function in the scripts\n",
    "#\n",
    "from visualization import make_barplot, make_hist, make_box_for_discrete_features, make_box_for_continuous_features"
   ]
  },
  {
   "cell_type": "code",
   "execution_count": 4,
   "id": "30dcae30",
   "metadata": {
    "execution": {
     "iopub.execute_input": "2024-09-23T13:58:30.863138Z",
     "iopub.status.busy": "2024-09-23T13:58:30.862837Z",
     "iopub.status.idle": "2024-09-23T13:58:30.867972Z",
     "shell.execute_reply": "2024-09-23T13:58:30.867132Z"
    },
    "papermill": {
     "duration": 0.022886,
     "end_time": "2024-09-23T13:58:30.869841",
     "exception": false,
     "start_time": "2024-09-23T13:58:30.846955",
     "status": "completed"
    },
    "tags": []
   },
   "outputs": [],
   "source": [
    "# ---- Define path to all csv input files\n",
    "\n",
    "FILEPATH_train = './data/train.csv'\n",
    "FILEPATH_test = './data/test.csv'\n",
    "FILEPATH_sample_submission = './data/sample_submission.csv'\n",
    "# FILEPATH_train = '/kaggle/input/playground-series-s4e9/train.csv'\n",
    "# FILEPATH_test = '/kaggle/input/playground-series-s4e9/test.csv'\n",
    "# FILEPATH_sample_submission = '/kaggle/input/playground-series-s4e9/sample_submission.csv'\n",
    "\n",
    "# ---- Define path that will be used to store output files\n",
    "#\n",
    "OUTPUT_PATH_results = './results'\n",
    "FILEPATH_model_results = f'{OUTPUT_PATH_results}/model_results_KERAS.csv'\n",
    "DIRPATH_saved_models = f'{OUTPUT_PATH_results}/model'\n",
    "\n",
    "# ---- Define path to store results of study Optuna\n",
    "relative_path = './results/study_KERAS_hyperparams.db'\n",
    "STUDY_STORAGE_PATH = f'sqlite:///{relative_path}'\n",
    "\n",
    "os.makedirs(OUTPUT_PATH_results, exist_ok=True)\n",
    "\n",
    "# ---- Initialize seed\n",
    "# \n",
    "random_state = 32"
   ]
  },
  {
   "cell_type": "markdown",
   "id": "a5883edb",
   "metadata": {
    "papermill": {
     "duration": 0.014451,
     "end_time": "2024-09-23T13:58:30.899497",
     "exception": false,
     "start_time": "2024-09-23T13:58:30.885046",
     "status": "completed"
    },
    "tags": []
   },
   "source": [
    "# I. EXPLORATORY DATA ANALASYS"
   ]
  },
  {
   "cell_type": "markdown",
   "id": "652f027d",
   "metadata": {
    "papermill": {
     "duration": 0.014162,
     "end_time": "2024-09-23T13:58:30.928564",
     "exception": false,
     "start_time": "2024-09-23T13:58:30.914402",
     "status": "completed"
    },
    "tags": []
   },
   "source": [
    "## I.1 LOAD DATA AND QUICK EXPLORATION"
   ]
  },
  {
   "cell_type": "code",
   "execution_count": 5,
   "id": "e52546d9",
   "metadata": {
    "execution": {
     "iopub.execute_input": "2024-09-23T13:58:30.958498Z",
     "iopub.status.busy": "2024-09-23T13:58:30.958186Z",
     "iopub.status.idle": "2024-09-23T13:58:31.760280Z",
     "shell.execute_reply": "2024-09-23T13:58:31.759242Z"
    },
    "papermill": {
     "duration": 0.819691,
     "end_time": "2024-09-23T13:58:31.762697",
     "exception": false,
     "start_time": "2024-09-23T13:58:30.943006",
     "status": "completed"
    },
    "tags": []
   },
   "outputs": [],
   "source": [
    "data = pd.read_csv(FILEPATH_train)"
   ]
  },
  {
   "cell_type": "code",
   "execution_count": null,
   "id": "83d4e025",
   "metadata": {
    "execution": {
     "iopub.execute_input": "2024-09-23T13:58:31.792855Z",
     "iopub.status.busy": "2024-09-23T13:58:31.792431Z",
     "iopub.status.idle": "2024-09-23T13:58:31.815732Z",
     "shell.execute_reply": "2024-09-23T13:58:31.814675Z"
    },
    "papermill": {
     "duration": 0.040981,
     "end_time": "2024-09-23T13:58:31.818170",
     "exception": false,
     "start_time": "2024-09-23T13:58:31.777189",
     "status": "completed"
    },
    "tags": []
   },
   "outputs": [],
   "source": [
    "data.head(3)"
   ]
  },
  {
   "cell_type": "code",
   "execution_count": null,
   "id": "fa8842e6",
   "metadata": {
    "execution": {
     "iopub.execute_input": "2024-09-23T13:58:31.851919Z",
     "iopub.status.busy": "2024-09-23T13:58:31.851586Z",
     "iopub.status.idle": "2024-09-23T13:58:31.894832Z",
     "shell.execute_reply": "2024-09-23T13:58:31.893763Z"
    },
    "papermill": {
     "duration": 0.06118,
     "end_time": "2024-09-23T13:58:31.897226",
     "exception": false,
     "start_time": "2024-09-23T13:58:31.836046",
     "status": "completed"
    },
    "tags": []
   },
   "outputs": [],
   "source": [
    "data.describe()"
   ]
  },
  {
   "cell_type": "code",
   "execution_count": null,
   "id": "4e91a5b2",
   "metadata": {
    "execution": {
     "iopub.execute_input": "2024-09-23T13:58:31.931141Z",
     "iopub.status.busy": "2024-09-23T13:58:31.930843Z",
     "iopub.status.idle": "2024-09-23T13:58:32.108855Z",
     "shell.execute_reply": "2024-09-23T13:58:32.107707Z"
    },
    "papermill": {
     "duration": 0.196508,
     "end_time": "2024-09-23T13:58:32.111252",
     "exception": false,
     "start_time": "2024-09-23T13:58:31.914744",
     "status": "completed"
    },
    "tags": []
   },
   "outputs": [],
   "source": [
    "data.info()"
   ]
  },
  {
   "cell_type": "code",
   "execution_count": null,
   "id": "8686120d",
   "metadata": {
    "execution": {
     "iopub.execute_input": "2024-09-23T13:58:32.145954Z",
     "iopub.status.busy": "2024-09-23T13:58:32.145079Z",
     "iopub.status.idle": "2024-09-23T13:58:32.153939Z",
     "shell.execute_reply": "2024-09-23T13:58:32.152713Z"
    },
    "papermill": {
     "duration": 0.027804,
     "end_time": "2024-09-23T13:58:32.155984",
     "exception": false,
     "start_time": "2024-09-23T13:58:32.128180",
     "status": "completed"
    },
    "tags": []
   },
   "outputs": [],
   "source": [
    "# ---- Get numerical columns names\n",
    "#\n",
    "numerical_columns = data.select_dtypes(include=['int64'])\n",
    "numerical_columns_name = numerical_columns.columns.to_list()\n",
    "numerical_columns_name \n"
   ]
  },
  {
   "cell_type": "code",
   "execution_count": null,
   "id": "8e0c72ea",
   "metadata": {
    "execution": {
     "iopub.execute_input": "2024-09-23T13:58:32.189125Z",
     "iopub.status.busy": "2024-09-23T13:58:32.188582Z",
     "iopub.status.idle": "2024-09-23T13:58:32.194892Z",
     "shell.execute_reply": "2024-09-23T13:58:32.193964Z"
    },
    "papermill": {
     "duration": 0.025014,
     "end_time": "2024-09-23T13:58:32.197025",
     "exception": false,
     "start_time": "2024-09-23T13:58:32.172011",
     "status": "completed"
    },
    "tags": []
   },
   "outputs": [],
   "source": [
    "# ---- Get numerical features names\n",
    "# \n",
    "numerical_features = numerical_columns_name\n",
    "numerical_features.remove('id')\n",
    "numerical_features.remove('price')\n",
    "numerical_features"
   ]
  },
  {
   "cell_type": "code",
   "execution_count": null,
   "id": "961ecd95",
   "metadata": {
    "execution": {
     "iopub.execute_input": "2024-09-23T13:58:32.231152Z",
     "iopub.status.busy": "2024-09-23T13:58:32.230843Z",
     "iopub.status.idle": "2024-09-23T13:58:32.245696Z",
     "shell.execute_reply": "2024-09-23T13:58:32.244734Z"
    },
    "papermill": {
     "duration": 0.033911,
     "end_time": "2024-09-23T13:58:32.247717",
     "exception": false,
     "start_time": "2024-09-23T13:58:32.213806",
     "status": "completed"
    },
    "tags": []
   },
   "outputs": [],
   "source": [
    "# ---- Get categorical features names\n",
    "# \n",
    "categorical_columns = data.select_dtypes(include=['object'])\n",
    "categorical_features = categorical_columns.columns.to_list()\n",
    "categorical_features"
   ]
  },
  {
   "cell_type": "code",
   "execution_count": null,
   "id": "0cf94dff",
   "metadata": {
    "execution": {
     "iopub.execute_input": "2024-09-23T13:58:32.280617Z",
     "iopub.status.busy": "2024-09-23T13:58:32.280303Z",
     "iopub.status.idle": "2024-09-23T13:58:32.421525Z",
     "shell.execute_reply": "2024-09-23T13:58:32.420249Z"
    },
    "papermill": {
     "duration": 0.159555,
     "end_time": "2024-09-23T13:58:32.423560",
     "exception": false,
     "start_time": "2024-09-23T13:58:32.264005",
     "status": "completed"
    },
    "tags": []
   },
   "outputs": [],
   "source": [
    "# ---- Print number of category for each feature\n",
    "# \n",
    "for feature in categorical_features:\n",
    "    print(feature, ': ', data[feature].nunique())"
   ]
  },
  {
   "cell_type": "code",
   "execution_count": null,
   "id": "c3e7963e",
   "metadata": {
    "execution": {
     "iopub.execute_input": "2024-09-23T13:58:32.456369Z",
     "iopub.status.busy": "2024-09-23T13:58:32.456025Z",
     "iopub.status.idle": "2024-09-23T13:58:32.721594Z",
     "shell.execute_reply": "2024-09-23T13:58:32.720591Z"
    },
    "papermill": {
     "duration": 0.284868,
     "end_time": "2024-09-23T13:58:32.724367",
     "exception": false,
     "start_time": "2024-09-23T13:58:32.439499",
     "status": "completed"
    },
    "tags": []
   },
   "outputs": [],
   "source": [
    "# ---- Explore deeper into categories\n",
    "# \n",
    "for feature in categorical_features:\n",
    "    print(data[feature].value_counts().nlargest(100), '\\n\\n****************************')"
   ]
  },
  {
   "cell_type": "markdown",
   "id": "20afe209",
   "metadata": {
    "papermill": {
     "duration": 0.016301,
     "end_time": "2024-09-23T13:58:32.759029",
     "exception": false,
     "start_time": "2024-09-23T13:58:32.742728",
     "status": "completed"
    },
    "tags": []
   },
   "source": [
    "## I.2 SIMPLE DATA CLEANING"
   ]
  },
  {
   "cell_type": "code",
   "execution_count": null,
   "id": "7636f7dc",
   "metadata": {
    "execution": {
     "iopub.execute_input": "2024-09-23T13:58:32.793808Z",
     "iopub.status.busy": "2024-09-23T13:58:32.793168Z",
     "iopub.status.idle": "2024-09-23T13:58:32.956744Z",
     "shell.execute_reply": "2024-09-23T13:58:32.955719Z"
    },
    "papermill": {
     "duration": 0.183033,
     "end_time": "2024-09-23T13:58:32.958831",
     "exception": false,
     "start_time": "2024-09-23T13:58:32.775798",
     "status": "completed"
    },
    "tags": []
   },
   "outputs": [],
   "source": [
    "data.isna().sum()"
   ]
  },
  {
   "cell_type": "code",
   "execution_count": 15,
   "id": "454d4178",
   "metadata": {
    "execution": {
     "iopub.execute_input": "2024-09-23T13:58:33.005722Z",
     "iopub.status.busy": "2024-09-23T13:58:33.005191Z",
     "iopub.status.idle": "2024-09-23T13:58:33.013288Z",
     "shell.execute_reply": "2024-09-23T13:58:33.012265Z"
    },
    "papermill": {
     "duration": 0.032424,
     "end_time": "2024-09-23T13:58:33.015237",
     "exception": false,
     "start_time": "2024-09-23T13:58:32.982813",
     "status": "completed"
    },
    "tags": []
   },
   "outputs": [],
   "source": [
    "def simple_cleaning(data):\n",
    "    '''\n",
    "    Replaces missing values with 'Unknown' in specific columns\n",
    "    and converts text in categorical columns to lowercase.\n",
    "    \n",
    "    Parameters:\n",
    "    ___________\n",
    "    data: pd.DataFrame\n",
    "        The DataFrame to clean.\n",
    "    \n",
    "    Returns:\n",
    "    ________\n",
    "    data: pd.DataFrame\n",
    "        The DataFrame cleaned, with text values converted to lowercase.\n",
    "    '''    \n",
    "    # ---- Assign 'unknown' in column 'clean_title' and 'fuel_type' for missing values\n",
    "    #\n",
    "    data['clean_title'] = data['clean_title'].fillna('Unknown')\n",
    "    data['fuel_type'] = data['fuel_type'].fillna('Unknown')\n",
    "    data['accident'] = data['accident'].fillna('Unknown')\n",
    "    \n",
    "    # ---- Lowercase text in categorical columns\n",
    "    #\n",
    "    categorical_features = data.select_dtypes(include=['object']).columns\n",
    "    data[categorical_features] = data[categorical_features].apply(lambda x: x.str.lower())\n",
    "    \n",
    "    return data"
   ]
  },
  {
   "cell_type": "code",
   "execution_count": 16,
   "id": "31f6cda3",
   "metadata": {
    "execution": {
     "iopub.execute_input": "2024-09-23T13:58:33.048766Z",
     "iopub.status.busy": "2024-09-23T13:58:33.048472Z",
     "iopub.status.idle": "2024-09-23T13:58:33.665168Z",
     "shell.execute_reply": "2024-09-23T13:58:33.664389Z"
    },
    "papermill": {
     "duration": 0.636204,
     "end_time": "2024-09-23T13:58:33.667515",
     "exception": false,
     "start_time": "2024-09-23T13:58:33.031311",
     "status": "completed"
    },
    "tags": []
   },
   "outputs": [],
   "source": [
    "data = simple_cleaning(data)"
   ]
  },
  {
   "cell_type": "code",
   "execution_count": null,
   "id": "546308ba",
   "metadata": {
    "execution": {
     "iopub.execute_input": "2024-09-23T13:58:33.702033Z",
     "iopub.status.busy": "2024-09-23T13:58:33.701738Z",
     "iopub.status.idle": "2024-09-23T13:58:33.867728Z",
     "shell.execute_reply": "2024-09-23T13:58:33.866795Z"
    },
    "papermill": {
     "duration": 0.185444,
     "end_time": "2024-09-23T13:58:33.869869",
     "exception": false,
     "start_time": "2024-09-23T13:58:33.684425",
     "status": "completed"
    },
    "tags": []
   },
   "outputs": [],
   "source": [
    "# ---- Check if values are still missing\n",
    "# \n",
    "data.isna().sum()"
   ]
  },
  {
   "cell_type": "code",
   "execution_count": null,
   "id": "b349a2e0",
   "metadata": {
    "execution": {
     "iopub.execute_input": "2024-09-23T13:58:33.905427Z",
     "iopub.status.busy": "2024-09-23T13:58:33.905106Z",
     "iopub.status.idle": "2024-09-23T13:58:34.321989Z",
     "shell.execute_reply": "2024-09-23T13:58:34.320879Z"
    },
    "papermill": {
     "duration": 0.436199,
     "end_time": "2024-09-23T13:58:34.323947",
     "exception": false,
     "start_time": "2024-09-23T13:58:33.887748",
     "status": "completed"
    },
    "tags": []
   },
   "outputs": [],
   "source": [
    "# ---- Look for duplicated rows\n",
    "#\n",
    "print(data.duplicated().sum())\n",
    "\n",
    "# ---- Look for duplicated rows skipping column id\n",
    "#\n",
    "print(data.iloc[:,1:].duplicated().sum())"
   ]
  },
  {
   "cell_type": "markdown",
   "id": "0214aab1",
   "metadata": {
    "papermill": {
     "duration": 0.016548,
     "end_time": "2024-09-23T13:58:34.357514",
     "exception": false,
     "start_time": "2024-09-23T13:58:34.340966",
     "status": "completed"
    },
    "tags": []
   },
   "source": [
    "## I.3 DATA VISUALIZATION\n"
   ]
  },
  {
   "cell_type": "markdown",
   "id": "22618739",
   "metadata": {
    "papermill": {
     "duration": 0.016717,
     "end_time": "2024-09-23T13:58:34.392446",
     "exception": false,
     "start_time": "2024-09-23T13:58:34.375729",
     "status": "completed"
    },
    "tags": []
   },
   "source": [
    "### I.3.1 LIST OF USEFULL PLOTTING FUNCTIONS"
   ]
  },
  {
   "cell_type": "markdown",
   "id": "b9e2ebfd",
   "metadata": {
    "papermill": {
     "duration": 0.019954,
     "end_time": "2024-09-23T13:58:34.497436",
     "exception": false,
     "start_time": "2024-09-23T13:58:34.477482",
     "status": "completed"
    },
    "tags": []
   },
   "source": [
    "### I.3.2. PLOTS"
   ]
  },
  {
   "cell_type": "code",
   "execution_count": null,
   "id": "e4eb6da7",
   "metadata": {
    "execution": {
     "iopub.execute_input": "2024-09-23T13:58:34.533234Z",
     "iopub.status.busy": "2024-09-23T13:58:34.532879Z",
     "iopub.status.idle": "2024-09-23T13:58:37.718345Z",
     "shell.execute_reply": "2024-09-23T13:58:37.717459Z"
    },
    "papermill": {
     "duration": 3.205521,
     "end_time": "2024-09-23T13:58:37.720431",
     "exception": false,
     "start_time": "2024-09-23T13:58:34.514910",
     "status": "completed"
    },
    "tags": []
   },
   "outputs": [],
   "source": [
    "make_barplot(data, categorical_features, 10)"
   ]
  },
  {
   "cell_type": "code",
   "execution_count": null,
   "id": "a1b0b7c3",
   "metadata": {
    "execution": {
     "iopub.execute_input": "2024-09-23T13:58:37.767075Z",
     "iopub.status.busy": "2024-09-23T13:58:37.766776Z",
     "iopub.status.idle": "2024-09-23T13:58:38.929599Z",
     "shell.execute_reply": "2024-09-23T13:58:38.928609Z"
    },
    "papermill": {
     "duration": 1.188177,
     "end_time": "2024-09-23T13:58:38.931651",
     "exception": false,
     "start_time": "2024-09-23T13:58:37.743474",
     "status": "completed"
    },
    "tags": []
   },
   "outputs": [],
   "source": [
    "make_hist(data, numerical_features + ['price'])"
   ]
  },
  {
   "cell_type": "code",
   "execution_count": 22,
   "id": "744039e0",
   "metadata": {
    "execution": {
     "iopub.execute_input": "2024-09-23T13:58:38.979823Z",
     "iopub.status.busy": "2024-09-23T13:58:38.979487Z",
     "iopub.status.idle": "2024-09-23T13:58:39.009056Z",
     "shell.execute_reply": "2024-09-23T13:58:39.008272Z"
    },
    "papermill": {
     "duration": 0.055583,
     "end_time": "2024-09-23T13:58:39.011071",
     "exception": false,
     "start_time": "2024-09-23T13:58:38.955488",
     "status": "completed"
    },
    "tags": []
   },
   "outputs": [],
   "source": [
    "X_df = data.drop(['price'], axis=1)\n",
    "y_df = data.price\n",
    "\n",
    "discrete_features_to_plot = ['model_year']\n",
    "continious_features_to_plot = ['milage']"
   ]
  },
  {
   "cell_type": "code",
   "execution_count": null,
   "id": "65e57949",
   "metadata": {
    "execution": {
     "iopub.execute_input": "2024-09-23T13:58:39.059599Z",
     "iopub.status.busy": "2024-09-23T13:58:39.058780Z",
     "iopub.status.idle": "2024-09-23T13:58:41.601344Z",
     "shell.execute_reply": "2024-09-23T13:58:41.600325Z"
    },
    "papermill": {
     "duration": 2.569549,
     "end_time": "2024-09-23T13:58:41.604136",
     "exception": false,
     "start_time": "2024-09-23T13:58:39.034587",
     "status": "completed"
    },
    "tags": []
   },
   "outputs": [],
   "source": [
    "make_box_for_continuous_features(X_df, continious_features_to_plot, y_df, bins=100, ylim=(-1000,180000))\n",
    "make_box_for_discrete_features(X_df, discrete_features_to_plot, y_df)"
   ]
  },
  {
   "cell_type": "markdown",
   "id": "512646d7",
   "metadata": {
    "papermill": {
     "duration": 0.030101,
     "end_time": "2024-09-23T13:58:41.665681",
     "exception": false,
     "start_time": "2024-09-23T13:58:41.635580",
     "status": "completed"
    },
    "tags": []
   },
   "source": [
    "**In this final graph, we observe a trend between price and the model year. Therefore, we can decide to treat the model_year feature as a numeric variable rather than encoding it as we will for the categorical features. (I try it but it do not help the results, so I change my mind!)**"
   ]
  },
  {
   "cell_type": "markdown",
   "id": "d97e6555",
   "metadata": {
    "papermill": {
     "duration": 0.028801,
     "end_time": "2024-09-23T13:58:41.725310",
     "exception": false,
     "start_time": "2024-09-23T13:58:41.696509",
     "status": "completed"
    },
    "tags": []
   },
   "source": [
    "# II. SCIKIT LEARN DATA PREPROCESSING"
   ]
  },
  {
   "cell_type": "code",
   "execution_count": null,
   "id": "f04ebf4f",
   "metadata": {
    "execution": {
     "iopub.execute_input": "2024-09-23T13:58:41.786742Z",
     "iopub.status.busy": "2024-09-23T13:58:41.786043Z",
     "iopub.status.idle": "2024-09-23T13:58:41.984759Z",
     "shell.execute_reply": "2024-09-23T13:58:41.983714Z"
    },
    "papermill": {
     "duration": 0.232093,
     "end_time": "2024-09-23T13:58:41.987370",
     "exception": false,
     "start_time": "2024-09-23T13:58:41.755277",
     "status": "completed"
    },
    "tags": []
   },
   "outputs": [],
   "source": [
    "# ---- Prepare data\n",
    "#\n",
    "X = data[numerical_features + categorical_features]\n",
    "y = data['price']\n",
    "\n",
    "X.info()"
   ]
  },
  {
   "cell_type": "code",
   "execution_count": 25,
   "id": "b85eb56c",
   "metadata": {
    "execution": {
     "iopub.execute_input": "2024-09-23T13:58:42.048821Z",
     "iopub.status.busy": "2024-09-23T13:58:42.048024Z",
     "iopub.status.idle": "2024-09-23T13:58:42.181568Z",
     "shell.execute_reply": "2024-09-23T13:58:42.180666Z"
    },
    "papermill": {
     "duration": 0.165863,
     "end_time": "2024-09-23T13:58:42.183924",
     "exception": false,
     "start_time": "2024-09-23T13:58:42.018061",
     "status": "completed"
    },
    "tags": []
   },
   "outputs": [],
   "source": [
    "# ---- Split data\n",
    "#\n",
    "X_train, X_test, y_train, y_test = train_test_split(X, y, test_size=0.2, random_state=random_state)"
   ]
  },
  {
   "cell_type": "code",
   "execution_count": null,
   "id": "f6ebeec5",
   "metadata": {
    "execution": {
     "iopub.execute_input": "2024-09-23T13:58:42.245360Z",
     "iopub.status.busy": "2024-09-23T13:58:42.244659Z",
     "iopub.status.idle": "2024-09-23T13:58:42.251290Z",
     "shell.execute_reply": "2024-09-23T13:58:42.250414Z"
    },
    "papermill": {
     "duration": 0.039186,
     "end_time": "2024-09-23T13:58:42.253335",
     "exception": false,
     "start_time": "2024-09-23T13:58:42.214149",
     "status": "completed"
    },
    "tags": []
   },
   "outputs": [],
   "source": [
    "# ----- Specify a preprocessing method to group of features\n",
    "#\n",
    "# ----- Continuous numeric features to normalize\n",
    "features_to_scale = ['milage']\n",
    "# ----- Categorical type object features to encode\n",
    "features_to_encode = categorical_features + ['model_year']\n",
    "features_to_encode"
   ]
  },
  {
   "cell_type": "code",
   "execution_count": 27,
   "id": "0c08bcf3",
   "metadata": {
    "execution": {
     "iopub.execute_input": "2024-09-23T13:58:42.353109Z",
     "iopub.status.busy": "2024-09-23T13:58:42.352283Z",
     "iopub.status.idle": "2024-09-23T13:58:42.357540Z",
     "shell.execute_reply": "2024-09-23T13:58:42.356620Z"
    },
    "papermill": {
     "duration": 0.038111,
     "end_time": "2024-09-23T13:58:42.359477",
     "exception": false,
     "start_time": "2024-09-23T13:58:42.321366",
     "status": "completed"
    },
    "tags": []
   },
   "outputs": [],
   "source": [
    "# ---- Build preprocessor\n",
    "#\n",
    "preprocessor = ColumnTransformer(\n",
    "    transformers=[\n",
    "        (\"num\", StandardScaler(), features_to_scale),\n",
    "        (\"enc\", OneHotEncoder(drop=\"first\", handle_unknown='ignore', sparse=False), features_to_encode) #Specify sparse=False to avoid raising the XLA_GPU_JIT: SparseFillEmptyRows error when using GPU\n",
    "    ],\n",
    "    remainder='passthrough',\n",
    ")"
   ]
  },
  {
   "cell_type": "code",
   "execution_count": 28,
   "id": "bb8e7996",
   "metadata": {
    "execution": {
     "iopub.execute_input": "2024-09-23T13:58:42.420350Z",
     "iopub.status.busy": "2024-09-23T13:58:42.419521Z",
     "iopub.status.idle": "2024-09-23T13:58:50.850734Z",
     "shell.execute_reply": "2024-09-23T13:58:50.849887Z"
    },
    "papermill": {
     "duration": 8.46471,
     "end_time": "2024-09-23T13:58:50.853194",
     "exception": false,
     "start_time": "2024-09-23T13:58:42.388484",
     "status": "completed"
    },
    "tags": []
   },
   "outputs": [],
   "source": [
    "# ---- Preprocess data with sklearn\n",
    "#\n",
    "X_train_preprocessed = preprocessor.fit_transform(X_train)\n",
    "X_test_preprocessed = preprocessor.transform(X_test)\n",
    "\n",
    "X_shape = X_train_preprocessed.shape"
   ]
  },
  {
   "cell_type": "markdown",
   "id": "43598a4d",
   "metadata": {
    "papermill": {
     "duration": 0.028786,
     "end_time": "2024-09-23T13:58:50.911509",
     "exception": false,
     "start_time": "2024-09-23T13:58:50.882723",
     "status": "completed"
    },
    "tags": []
   },
   "source": [
    "# III.KERAS MODEL AND OPTUNA OBJECTIVE FUNCTION"
   ]
  },
  {
   "cell_type": "markdown",
   "id": "a62f7bfc",
   "metadata": {
    "papermill": {
     "duration": 0.028267,
     "end_time": "2024-09-23T13:58:50.968814",
     "exception": false,
     "start_time": "2024-09-23T13:58:50.940547",
     "status": "completed"
    },
    "tags": []
   },
   "source": [
    "## III.1. FIRST, SOME USEFULL FUNCTIONS WE WILL USE LATER"
   ]
  },
  {
   "cell_type": "code",
   "execution_count": 29,
   "id": "03583e76",
   "metadata": {
    "execution": {
     "iopub.execute_input": "2024-09-23T13:58:51.030202Z",
     "iopub.status.busy": "2024-09-23T13:58:51.029443Z",
     "iopub.status.idle": "2024-09-23T13:58:51.038040Z",
     "shell.execute_reply": "2024-09-23T13:58:51.037101Z"
    },
    "papermill": {
     "duration": 0.041539,
     "end_time": "2024-09-23T13:58:51.039986",
     "exception": false,
     "start_time": "2024-09-23T13:58:50.998447",
     "status": "completed"
    },
    "tags": []
   },
   "outputs": [],
   "source": [
    "def format_results_to_df(history, hyperparameters, random_state):\n",
    "    '''\n",
    "    Build a DataFrame from the results\n",
    "\n",
    "    Parameters\n",
    "    ----------\n",
    "    history : History\n",
    "        The training history object containing the metrics.\n",
    "    hyperparameters : dict\n",
    "        Hyperparameters of the trained model.\n",
    "    random_state : int\n",
    "        Random state use to split data for reproducibility.\n",
    "\n",
    "    Returns\n",
    "    -------\n",
    "    results_df: pd.Dataframe\n",
    "    '''\n",
    "    # ---- List all files in 'DIRPATH_saved_models' directory and find the latest\n",
    "    #\n",
    "    list_of_files = glob.glob(os.path.join(DIRPATH_saved_models, '*'))\n",
    "    latest_file = max(list_of_files, key=os.path.getctime)\n",
    "\n",
    "    # ---- Initialize the an empty dictionnary and fill with parameters and results\n",
    "    #\n",
    "    results_dict = {}\n",
    "\n",
    "    # ---- Add filepath to the last saved model\n",
    "    #\n",
    "    results_dict['model_filepath'] = latest_file\n",
    "\n",
    "    # ----- Get back metrics\n",
    "    #\n",
    "    train_rmse_history = history.history['root_mean_squared_error']\n",
    "    val_rmse_history = history.history['val_root_mean_squared_error']\n",
    "    best_val_rmse = min(val_rmse_history)\n",
    "    best_epoch_rmse = val_rmse_history.index(best_val_rmse) + 1\n",
    "    train_rmse = train_rmse_history[val_rmse_history.index(best_val_rmse)]\n",
    "\n",
    "    # ---- Add metrics to results dictionary\n",
    "    #\n",
    "    results_dict['best_val_rmse'] = best_val_rmse\n",
    "    results_dict['associated_train_rmse'] = train_rmse\n",
    "    results_dict['best_epoch_rmse'] = best_epoch_rmse\n",
    "\n",
    "    # ---- Add model hyperparameters\n",
    "    #\n",
    "    results_dict = {**results_dict, **hyperparameters}\n",
    "\n",
    "    # ---- Add random_state used to split data\n",
    "    #\n",
    "    results_dict['random_state'] = random_state\n",
    "\n",
    "    results_df = pd.DataFrame([results_dict])\n",
    "\n",
    "    return results_df"
   ]
  },
  {
   "cell_type": "code",
   "execution_count": 30,
   "id": "c5e51005",
   "metadata": {
    "execution": {
     "iopub.execute_input": "2024-09-23T13:58:51.098463Z",
     "iopub.status.busy": "2024-09-23T13:58:51.097995Z",
     "iopub.status.idle": "2024-09-23T13:58:51.106564Z",
     "shell.execute_reply": "2024-09-23T13:58:51.105641Z"
    },
    "papermill": {
     "duration": 0.039948,
     "end_time": "2024-09-23T13:58:51.108418",
     "exception": false,
     "start_time": "2024-09-23T13:58:51.068470",
     "status": "completed"
    },
    "tags": []
   },
   "outputs": [],
   "source": [
    "def save_metrics(result_df, column_to_sort='best_val_rmse', comment=None, filepath=FILEPATH_model_results):\n",
    "    '''\n",
    "    Build a CSV file 'model_results.csv' in the current directory if it does not exist.\n",
    "    Populate the file with data from the given DataFrame, adding the date and random_state value.\n",
    "    \n",
    "    Parameters\n",
    "    ----------\n",
    "    result_df : pandas.DataFrame\n",
    "        The results of all trained models.\n",
    "    column_to_sort : str\n",
    "        Column to use to sort the dataset.\n",
    "    comment: str\n",
    "        Optionnal comment.\n",
    "    filepath: str\n",
    "        Complete path to store file including name and extension. Default FILEPATH_model_results.\n",
    "    \n",
    "    Returns\n",
    "    -------\n",
    "    Builds or appends to a CSV file (a the given filepath) with the results.\n",
    "    '''\n",
    "    # ---- Add comment to the result DataFrame\n",
    "    #\n",
    "    result_df['comment'] = comment\n",
    "    \n",
    "    # ----Check if the file already exists\n",
    "    #\n",
    "    if os.path.exists(filepath):\n",
    "        # ---- If the file exists, read the current data and append new data\n",
    "        #\n",
    "        existing_df = pd.read_csv(filepath, sep=';')\n",
    "        updated_df = pd.concat([existing_df, result_df], ignore_index=True)\n",
    "    else:\n",
    "        # ---- If the file doesn't exist, create a new DataFrame\n",
    "        #\n",
    "        updated_df = result_df\n",
    "    \n",
    "    # ---- Sort and drop duplicates\n",
    "    #\n",
    "    updated_df = updated_df.sort_values(column_to_sort)\n",
    "    updated_df.drop_duplicates(inplace=True)\n",
    "    \n",
    "    # ---- Write the updated DataFrame to the CSV file\n",
    "    #\n",
    "    # ---- Extract the name of the path of the directory where should be store the file\n",
    "    directory = os.path.dirname(filepath)\n",
    "    \n",
    "    # ---- Create the path to the directory if not exist\n",
    "    if directory:\n",
    "        os.makedirs(directory, exist_ok=True)\n",
    "    \n",
    "    # ---- Save file to .csv\n",
    "    updated_df.to_csv(filepath, index=False, sep=';')"
   ]
  },
  {
   "cell_type": "code",
   "execution_count": 31,
   "id": "1300672e",
   "metadata": {
    "execution": {
     "iopub.execute_input": "2024-09-23T13:58:51.168193Z",
     "iopub.status.busy": "2024-09-23T13:58:51.167570Z",
     "iopub.status.idle": "2024-09-23T13:58:51.174706Z",
     "shell.execute_reply": "2024-09-23T13:58:51.173867Z"
    },
    "papermill": {
     "duration": 0.038923,
     "end_time": "2024-09-23T13:58:51.176642",
     "exception": false,
     "start_time": "2024-09-23T13:58:51.137719",
     "status": "completed"
    },
    "tags": []
   },
   "outputs": [],
   "source": [
    "def get_callbacks():\n",
    "    '''\n",
    "    Create the list of callbacks for Keras model training.\n",
    "\n",
    "    Returns:\n",
    "    --------\n",
    "    [savemodel_callback, early_stopping_callback]: list \n",
    "        List of Keras callbacks including EarlyStopping and ModelCheckpoint.\n",
    "    '''\n",
    "\n",
    "    # ---- Add callback to save best model\n",
    "    # \n",
    "    timestamp = dt.datetime.now().strftime(\"%Y%m%d_%H%M%S\")\n",
    "    # ---- Create the directory to store the  model if not exist\n",
    "    os.makedirs(DIRPATH_saved_models, exist_ok=True)\n",
    "    # ---- Specify the complete path and name of the model to save\n",
    "    save_dir = f\"{DIRPATH_saved_models}/model_{timestamp}.keras\"\n",
    "\n",
    "    savemodel_callback = tf.keras.callbacks.ModelCheckpoint(\n",
    "        filepath=save_dir,\n",
    "        monitor='val_root_mean_squared_error',\n",
    "        mode='min',\n",
    "        save_best_only=True\n",
    "    )\n",
    "\n",
    "    # ---- Add callback to stop training if no more improving\n",
    "    #\n",
    "    early_stopping_callback = tf.keras.callbacks.EarlyStopping(\n",
    "        monitor='val_root_mean_squared_error',\n",
    "        min_delta=0,\n",
    "        patience=5,\n",
    "        verbose=0,\n",
    "        mode=\"auto\",\n",
    "        baseline=None,\n",
    "        restore_best_weights=False,\n",
    "        start_from_epoch=0,\n",
    "    )\n",
    "\n",
    "    return [savemodel_callback, early_stopping_callback]"
   ]
  },
  {
   "cell_type": "markdown",
   "id": "7c8fc4bb",
   "metadata": {
    "papermill": {
     "duration": 0.028761,
     "end_time": "2024-09-23T13:58:51.233894",
     "exception": false,
     "start_time": "2024-09-23T13:58:51.205133",
     "status": "completed"
    },
    "tags": []
   },
   "source": [
    "## III.2. BUILD THE OBJECTIVE FUNCTION WITH THE MODEL KERAS"
   ]
  },
  {
   "cell_type": "code",
   "execution_count": 32,
   "id": "b3766f1d",
   "metadata": {
    "execution": {
     "iopub.execute_input": "2024-09-23T13:58:51.294111Z",
     "iopub.status.busy": "2024-09-23T13:58:51.293346Z",
     "iopub.status.idle": "2024-09-23T13:58:51.307171Z",
     "shell.execute_reply": "2024-09-23T13:58:51.306294Z"
    },
    "papermill": {
     "duration": 0.046164,
     "end_time": "2024-09-23T13:58:51.309116",
     "exception": false,
     "start_time": "2024-09-23T13:58:51.262952",
     "status": "completed"
    },
    "tags": []
   },
   "outputs": [],
   "source": [
    "def objective(trial):\n",
    "    '''\n",
    "    Defines and trains a model using hyperparameters suggested by Optuna.\n",
    "\n",
    "    Parameters:\n",
    "    -----------\n",
    "    trial : optuna.trial.Trial\n",
    "        The Optuna trial object used for hyperparameter optimization.\n",
    "\n",
    "    Returns:\n",
    "    --------\n",
    "    validation_score : float\n",
    "        The best validation root mean squared error (RMSE) achieved.\n",
    "    '''\n",
    "    # ---- Choose hyperparameters:\n",
    "    #\n",
    "    parameters = {\n",
    "        'dense_1_units' : trial.suggest_int('dense_1_units', 16, 128, step=16),\n",
    "        'dense_1_kernel_regul_l1' : trial.suggest_uniform('dense_1_kernel_regul_l1', 0, 0.01),\n",
    "        'dropout_1_dropout' :  trial.suggest_uniform('dropout_1_dropout', 0, 0.1),\n",
    "        'batch_size': trial.suggest_int('batch_size', 64, 1280, step=64),\n",
    "        'learning_rate': trial.suggest_loguniform('learning_rate', 0.0005, 0.1),\n",
    "    }\n",
    "\n",
    "    parameters['dense_2_units'] = parameters['dense_1_units']\n",
    "    parameters['dense_2_kernel_regul_l1'] = parameters['dense_1_kernel_regul_l1']\n",
    "    parameters['dropout_2_dropout'] = parameters['dropout_1_dropout']\n",
    "    \n",
    "    # ---- Feed model with preprocessing layers\n",
    "    #\n",
    "    input = Input(shape=(X_shape[1],))\n",
    "\n",
    "    dense_1 = tf.keras.layers.Dense(parameters.get('dense_1_units'),\n",
    "                                    activation='relu',\n",
    "                                    kernel_regularizer=regularizers.L1(parameters.get('dense_1_kernel_regul_l1')),\n",
    "                                    name='Dense_n1'\n",
    "                                    )(input)\n",
    "    \n",
    "    dropout_1 = tf.keras.layers.Dropout(parameters.get('dropout_1_dropout'), name='Dropout_n1')(dense_1)\n",
    "\n",
    "    dense_2 = tf.keras.layers.Dense(\n",
    "                                    parameters.get('dense_2_units'),\n",
    "                                    activation='relu',\n",
    "                                    kernel_regularizer=regularizers.L1(parameters.get('dense_2_kernel_regul_l1')),\n",
    "                                    name='Dense_n2'\n",
    "                                    )(dropout_1)\n",
    "    \n",
    "    dropout_2 = tf.keras.layers.Dropout(parameters.get('dropout_2_dropout'), name='Dropout_n2')(dense_2)\n",
    "    \n",
    "    output = tf.keras.layers.Dense(1, name='Output')(dropout_2)\n",
    "\n",
    "    # ---- Build model with the multiple inputs\n",
    "    #\n",
    "    model = Model(inputs=input, outputs=output)\n",
    "\n",
    "    # ---- Compile model\n",
    "    #\n",
    "    model.compile(\n",
    "        optimizer=tf.keras.optimizers.RMSprop(learning_rate=parameters['learning_rate']),\n",
    "        loss='mse',\n",
    "        metrics=['root_mean_squared_error']\n",
    "    )\n",
    "\n",
    "    callbacks = get_callbacks()\n",
    "    epochs = 100\n",
    "\n",
    "    # ---- Fit model\n",
    "    #\n",
    "    history = model.fit(x=X_train_preprocessed,\n",
    "                    y=y_train,\n",
    "                    validation_data = (X_test_preprocessed , y_test),\n",
    "                    epochs=epochs,\n",
    "                    batch_size=parameters['batch_size'],\n",
    "                    verbose=1,\n",
    "                    callbacks=callbacks\n",
    "                    )\n",
    "    \n",
    "    # ---- Format result to dataframe and save results\n",
    "    #\n",
    "    result_df = format_results_to_df(history, parameters, random_state)\n",
    "    save_metrics(result_df=result_df,\n",
    "                 column_to_sort='best_val_rmse',\n",
    "                 comment='hyper parameters optimisation')\n",
    "\n",
    "    # ---- Return score\n",
    "    #\n",
    "    validation_score = min(history.history['val_root_mean_squared_error'])\n",
    "\n",
    "    return validation_score"
   ]
  },
  {
   "cell_type": "markdown",
   "id": "533fff76",
   "metadata": {
    "papermill": {
     "duration": 0.02915,
     "end_time": "2024-09-23T13:58:51.368028",
     "exception": false,
     "start_time": "2024-09-23T13:58:51.338878",
     "status": "completed"
    },
    "tags": []
   },
   "source": [
    "## III.3. RUN THE STUDY, SAVE MODEL AND RESULTS - MODEL WITH SKLEARN PREPROCESSING"
   ]
  },
  {
   "cell_type": "code",
   "execution_count": null,
   "id": "381470a2",
   "metadata": {
    "execution": {
     "iopub.execute_input": "2024-09-23T13:58:51.427638Z",
     "iopub.status.busy": "2024-09-23T13:58:51.426926Z",
     "iopub.status.idle": "2024-09-23T14:36:05.030241Z",
     "shell.execute_reply": "2024-09-23T14:36:05.029119Z"
    },
    "papermill": {
     "duration": 2233.635434,
     "end_time": "2024-09-23T14:36:05.032328",
     "exception": false,
     "start_time": "2024-09-23T13:58:51.396894",
     "status": "completed"
    },
    "tags": []
   },
   "outputs": [],
   "source": [
    "# ---- Run optuna optimization\n",
    "#\n",
    "study = optuna.create_study(study_name=f'{dt.datetime.now().strftime(\"%Y%m%d_%H%M\")}',\n",
    "                            direction='minimize',\n",
    "                            storage=STUDY_STORAGE_PATH,\n",
    "                            load_if_exists=True\n",
    "                           )\n",
    "study.optimize(objective, n_trials=50)"
   ]
  },
  {
   "cell_type": "code",
   "execution_count": null,
   "id": "b47304da",
   "metadata": {
    "execution": {
     "iopub.execute_input": "2024-09-23T14:36:09.194563Z",
     "iopub.status.busy": "2024-09-23T14:36:09.193838Z",
     "iopub.status.idle": "2024-09-23T14:36:09.213572Z",
     "shell.execute_reply": "2024-09-23T14:36:09.212614Z"
    },
    "papermill": {
     "duration": 2.142605,
     "end_time": "2024-09-23T14:36:09.215534",
     "exception": false,
     "start_time": "2024-09-23T14:36:07.072929",
     "status": "completed"
    },
    "tags": []
   },
   "outputs": [],
   "source": [
    "# ---- Have a look at the results\n",
    "#\n",
    "general_results_df = pd.read_csv(FILEPATH_model_results, sep=';')\n",
    "general_results_df.head(5)"
   ]
  },
  {
   "cell_type": "markdown",
   "id": "790e13df",
   "metadata": {
    "papermill": {
     "duration": 2.042475,
     "end_time": "2024-09-23T14:36:13.408421",
     "exception": false,
     "start_time": "2024-09-23T14:36:11.365946",
     "status": "completed"
    },
    "tags": []
   },
   "source": [
    "# IV. HYPER PARAMETERS ANALSYE"
   ]
  },
  {
   "cell_type": "markdown",
   "id": "01afe7af",
   "metadata": {
    "papermill": {
     "duration": 2.099147,
     "end_time": "2024-09-23T14:36:17.700841",
     "exception": false,
     "start_time": "2024-09-23T14:36:15.601694",
     "status": "completed"
    },
    "tags": []
   },
   "source": [
    "## IV.1. HYPER PARAMETERS ANALSYE WITH OPTUNA"
   ]
  },
  {
   "cell_type": "code",
   "execution_count": 35,
   "id": "ce40abc7",
   "metadata": {
    "execution": {
     "iopub.execute_input": "2024-09-23T14:36:21.980379Z",
     "iopub.status.busy": "2024-09-23T14:36:21.979620Z",
     "iopub.status.idle": "2024-09-23T14:36:21.983765Z",
     "shell.execute_reply": "2024-09-23T14:36:21.982841Z"
    },
    "papermill": {
     "duration": 2.125728,
     "end_time": "2024-09-23T14:36:21.985745",
     "exception": false,
     "start_time": "2024-09-23T14:36:19.860017",
     "status": "completed"
    },
    "tags": []
   },
   "outputs": [],
   "source": [
    "# ---- List all optuna study we did\n",
    "#\n",
    "studies = optuna.get_all_study_summaries(storage=STUDY_STORAGE_PATH)\n",
    "print([study.study_name for study in studies])"
   ]
  },
  {
   "cell_type": "code",
   "execution_count": null,
   "id": "6bc79f76",
   "metadata": {
    "execution": {
     "iopub.execute_input": "2024-09-23T14:36:26.285257Z",
     "iopub.status.busy": "2024-09-23T14:36:26.284808Z",
     "iopub.status.idle": "2024-09-23T14:36:26.304468Z",
     "shell.execute_reply": "2024-09-23T14:36:26.303248Z"
    },
    "papermill": {
     "duration": 2.155534,
     "end_time": "2024-09-23T14:36:26.306905",
     "exception": false,
     "start_time": "2024-09-23T14:36:24.151371",
     "status": "completed"
    },
    "tags": []
   },
   "outputs": [],
   "source": [
    "# ---- Reload the last study to analyse\n",
    "# \n",
    "study_name = studies[-1].study_name\n",
    "print(f'Name of the choosen study: {study_name}')\n",
    "\n",
    "study = optuna.load_study(study_name=study_name, storage=STUDY_STORAGE_PATH)\n",
    "\n",
    "# ---- Retrieve the parameters names\n",
    "#\n",
    "param_names = set()\n",
    "\n",
    "for trial in study.trials:\n",
    "    param_names.update(trial.params.keys())\n",
    "\n",
    "print(f\"Suggested parameters of the study : {param_names}\")"
   ]
  },
  {
   "cell_type": "code",
   "execution_count": null,
   "id": "6bb66924",
   "metadata": {
    "execution": {
     "iopub.execute_input": "2024-09-23T14:36:30.571837Z",
     "iopub.status.busy": "2024-09-23T14:36:30.570939Z",
     "iopub.status.idle": "2024-09-23T14:36:32.043320Z",
     "shell.execute_reply": "2024-09-23T14:36:32.042511Z"
    },
    "papermill": {
     "duration": 3.59678,
     "end_time": "2024-09-23T14:36:32.045293",
     "exception": false,
     "start_time": "2024-09-23T14:36:28.448513",
     "status": "completed"
    },
    "tags": []
   },
   "outputs": [],
   "source": [
    "optuna.visualization.plot_param_importances(study, params=list(param_names))"
   ]
  },
  {
   "cell_type": "code",
   "execution_count": null,
   "id": "0ac78b2a",
   "metadata": {
    "execution": {
     "iopub.execute_input": "2024-09-23T14:36:36.271745Z",
     "iopub.status.busy": "2024-09-23T14:36:36.271292Z",
     "iopub.status.idle": "2024-09-23T14:36:37.310900Z",
     "shell.execute_reply": "2024-09-23T14:36:37.309905Z"
    },
    "papermill": {
     "duration": 3.169334,
     "end_time": "2024-09-23T14:36:37.313011",
     "exception": false,
     "start_time": "2024-09-23T14:36:34.143677",
     "status": "completed"
    },
    "tags": []
   },
   "outputs": [],
   "source": [
    "optuna.visualization.plot_slice(study, params=list(param_names))"
   ]
  },
  {
   "cell_type": "markdown",
   "id": "2eb7cfc9",
   "metadata": {
    "papermill": {
     "duration": 2.065152,
     "end_time": "2024-09-23T14:36:41.560880",
     "exception": false,
     "start_time": "2024-09-23T14:36:39.495728",
     "status": "completed"
    },
    "tags": []
   },
   "source": [
    "## IV.2. ANALYSE OF THE INTERACTION BETWEEN HYPER PARAMETERS"
   ]
  },
  {
   "cell_type": "code",
   "execution_count": null,
   "id": "659337fe",
   "metadata": {
    "execution": {
     "iopub.execute_input": "2024-09-23T14:36:45.878942Z",
     "iopub.status.busy": "2024-09-23T14:36:45.878521Z",
     "iopub.status.idle": "2024-09-23T14:36:56.904551Z",
     "shell.execute_reply": "2024-09-23T14:36:56.903464Z"
    },
    "papermill": {
     "duration": 13.144488,
     "end_time": "2024-09-23T14:36:56.908596",
     "exception": false,
     "start_time": "2024-09-23T14:36:43.764108",
     "status": "completed"
    },
    "tags": []
   },
   "outputs": [],
   "source": [
    "# ---- Relaod the DataFrame containing the results of the study ans filter it\n",
    "#\n",
    "general_results_df = pd.read_csv(FILEPATH_model_results, sep=';')\n",
    "\n",
    "# ---- Selected only hyper parameters columns and 'best_val_rmse'\n",
    "#\n",
    "selected_column = list(param_names) + ['best_val_rmse']\n",
    "filtered_df = general_results_df[selected_column]\n",
    "\n",
    "# ---- Display a paiplot between parameters\n",
    "#\n",
    "sns.pairplot(data=filtered_df, hue='best_val_rmse')"
   ]
  },
  {
   "cell_type": "markdown",
   "id": "baa47a02",
   "metadata": {
    "papermill": {
     "duration": 2.125349,
     "end_time": "2024-09-23T14:37:01.162084",
     "exception": false,
     "start_time": "2024-09-23T14:36:59.036735",
     "status": "completed"
    },
    "tags": []
   },
   "source": [
    "# V. MAKE A SUBMISSION"
   ]
  },
  {
   "cell_type": "markdown",
   "id": "5ad0c83c",
   "metadata": {
    "papermill": {
     "duration": 2.102151,
     "end_time": "2024-09-23T14:37:05.445692",
     "exception": false,
     "start_time": "2024-09-23T14:37:03.343541",
     "status": "completed"
    },
    "tags": []
   },
   "source": [
    "**We did not attempt any feature engineering but let's make a prediction anyway!**"
   ]
  },
  {
   "cell_type": "markdown",
   "id": "d35025e5",
   "metadata": {
    "papermill": {
     "duration": 2.124199,
     "end_time": "2024-09-23T14:37:09.687123",
     "exception": false,
     "start_time": "2024-09-23T14:37:07.562924",
     "status": "completed"
    },
    "tags": []
   },
   "source": [
    "## V.I. RELOAD BEST MODEL"
   ]
  },
  {
   "cell_type": "code",
   "execution_count": null,
   "id": "5079c5b4",
   "metadata": {
    "execution": {
     "iopub.execute_input": "2024-09-23T14:37:13.881665Z",
     "iopub.status.busy": "2024-09-23T14:37:13.881261Z",
     "iopub.status.idle": "2024-09-23T14:37:13.898673Z",
     "shell.execute_reply": "2024-09-23T14:37:13.897724Z"
    },
    "papermill": {
     "duration": 2.158368,
     "end_time": "2024-09-23T14:37:13.901058",
     "exception": false,
     "start_time": "2024-09-23T14:37:11.742690",
     "status": "completed"
    },
    "tags": []
   },
   "outputs": [],
   "source": [
    "# ---- Retrieve the best model\n",
    "#\n",
    "best_val_rmse = general_results_df['best_val_rmse'].min()\n",
    "best_model_data = general_results_df[general_results_df['best_val_rmse'] == best_val_rmse]\n",
    "display(best_model_data)\n",
    "\n",
    "best_model_filepath = best_model_data['model_filepath'].values[0]"
   ]
  },
  {
   "cell_type": "code",
   "execution_count": null,
   "id": "c97bf718",
   "metadata": {
    "execution": {
     "iopub.execute_input": "2024-09-23T14:37:18.188833Z",
     "iopub.status.busy": "2024-09-23T14:37:18.187912Z",
     "iopub.status.idle": "2024-09-23T14:37:18.301638Z",
     "shell.execute_reply": "2024-09-23T14:37:18.300716Z"
    },
    "papermill": {
     "duration": 2.174991,
     "end_time": "2024-09-23T14:37:18.303594",
     "exception": false,
     "start_time": "2024-09-23T14:37:16.128603",
     "status": "completed"
    },
    "tags": []
   },
   "outputs": [],
   "source": [
    "# ---- Reload best model\n",
    "# \n",
    "best_model = tf.keras.models.load_model(best_model_filepath)\n",
    "best_model.summary()"
   ]
  },
  {
   "cell_type": "markdown",
   "id": "0c7cfb44",
   "metadata": {
    "papermill": {
     "duration": 2.256287,
     "end_time": "2024-09-23T14:37:22.738382",
     "exception": false,
     "start_time": "2024-09-23T14:37:20.482095",
     "status": "completed"
    },
    "tags": []
   },
   "source": [
    "## V.II. PREPROCESS SUBMISSION DATA"
   ]
  },
  {
   "cell_type": "code",
   "execution_count": 42,
   "id": "3d0b36f2",
   "metadata": {
    "execution": {
     "iopub.execute_input": "2024-09-23T14:37:27.031542Z",
     "iopub.status.busy": "2024-09-23T14:37:27.031138Z",
     "iopub.status.idle": "2024-09-23T14:37:33.356139Z",
     "shell.execute_reply": "2024-09-23T14:37:33.355328Z"
    },
    "papermill": {
     "duration": 8.472519,
     "end_time": "2024-09-23T14:37:33.358569",
     "exception": false,
     "start_time": "2024-09-23T14:37:24.886050",
     "status": "completed"
    },
    "tags": []
   },
   "outputs": [],
   "source": [
    "# ---- Load data\n",
    "#\n",
    "X_submission = pd.read_csv(FILEPATH_test)\n",
    "X_submission.head(2)\n",
    "\n",
    "# ---- Prepare data as we did for training data\n",
    "#\n",
    "X_submission_id = X_submission['id']\n",
    "X_submission = X_submission.drop(['id'], axis=1)\n",
    "X_submission.isna().sum()\n",
    "\n",
    "# ---- Clean as we did for data used to train model\n",
    "#\n",
    "X_submission = simple_cleaning(X_submission)\n",
    "\n",
    "# ---- Preprocess data with sklearn\n",
    "#\n",
    "X_sub_preprocessed = preprocessor.transform(X_submission)"
   ]
  },
  {
   "cell_type": "markdown",
   "id": "4cca8240",
   "metadata": {
    "papermill": {
     "duration": 2.128953,
     "end_time": "2024-09-23T14:37:37.616259",
     "exception": false,
     "start_time": "2024-09-23T14:37:35.487306",
     "status": "completed"
    },
    "tags": []
   },
   "source": [
    "## V.III. PREDICT AND MAKE SUBMISSION"
   ]
  },
  {
   "cell_type": "code",
   "execution_count": null,
   "id": "02d25263",
   "metadata": {
    "execution": {
     "iopub.execute_input": "2024-09-23T14:37:41.835605Z",
     "iopub.status.busy": "2024-09-23T14:37:41.835152Z",
     "iopub.status.idle": "2024-09-23T14:37:54.579708Z",
     "shell.execute_reply": "2024-09-23T14:37:54.578880Z"
    },
    "papermill": {
     "duration": 14.846238,
     "end_time": "2024-09-23T14:37:54.581921",
     "exception": false,
     "start_time": "2024-09-23T14:37:39.735683",
     "status": "completed"
    },
    "tags": []
   },
   "outputs": [],
   "source": [
    "# ---- Predict\n",
    "# \n",
    "y_submission = best_model.predict(X_sub_preprocessed)\n",
    "\n",
    "# ---- Build a dataframe\n",
    "#\n",
    "y_df = pd.DataFrame(y_submission, columns=['price'])\n",
    "y_df['price'] = y_df['price'].apply(lambda x: int(x))\n",
    "submission_df = pd.concat([X_submission_id, y_df], axis=1)\n",
    "submission_df\n",
    "\n",
    "# ---- Save prediction in csv file\n",
    "#\n",
    "timestamp = dt.datetime.now().strftime(\"%Y%m%d_%H%M%S\")\n",
    "\n",
    "filepath = f'{OUTPUT_PATH_results}/submission_KERAS{timestamp}.csv'\n",
    "submission_df.to_csv(filepath, index=False)\n"
   ]
  }
 ],
 "metadata": {
  "kaggle": {
   "accelerator": "gpu",
   "dataSources": [
    {
     "databundleVersionId": 9057646,
     "sourceId": 76728,
     "sourceType": "competition"
    }
   ],
   "isGpuEnabled": true,
   "isInternetEnabled": false,
   "language": "python",
   "sourceType": "notebook"
  },
  "kernelspec": {
   "display_name": "Python 3",
   "language": "python",
   "name": "python3"
  },
  "language_info": {
   "codemirror_mode": {
    "name": "ipython",
    "version": 3
   },
   "file_extension": ".py",
   "mimetype": "text/x-python",
   "name": "python",
   "nbconvert_exporter": "python",
   "pygments_lexer": "ipython3",
   "version": "3.10.14"
  },
  "papermill": {
   "default_parameters": {},
   "duration": 2385.121254,
   "end_time": "2024-09-23T14:38:00.268059",
   "environment_variables": {},
   "exception": null,
   "input_path": "__notebook__.ipynb",
   "output_path": "__notebook__.ipynb",
   "parameters": {},
   "start_time": "2024-09-23T13:58:15.146805",
   "version": "2.6.0"
  }
 },
 "nbformat": 4,
 "nbformat_minor": 5
}
